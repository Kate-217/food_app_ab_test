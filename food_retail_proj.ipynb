{
 "cells": [
  {
   "cell_type": "markdown",
   "id": "bc547878",
   "metadata": {},
   "source": [
    "# User Behavior Analysis and A/A/B Experiment Evaluation for a Food Retail App\n",
    "\n",
    "## 🧪 Project Overview\n",
    "\n",
    "### **Context / Stakeholder**\n",
    "\n",
    "The stakeholder is a startup company operating in the food retail industry, offering its services through a mobile application.\n",
    "\n",
    "### **Objective**\n",
    "\n",
    "The goal of this analysis is twofold:\n",
    "\n",
    "1. To examine user behavior within the mobile app by studying the sales funnel and identifying stages where user drop-off occurs.\n",
    "2. To assess the results of an A/A/B experiment designed to evaluate whether a change in the app’s font impacts user behavior.\n",
    "\n",
    "### **Business Tasks**\n",
    "\n",
    "* Analyze the sequence of in-app user actions to construct a conversion funnel.\n",
    "* Identify the proportion of users reaching each stage and determine where the greatest drop-offs occur.\n",
    "* Calculate the overall conversion rate from the first event to the final purchase.\n",
    "* Evaluate the performance of the experimental group (with a new font) against two control groups (with the original font) using statistical hypothesis testing.\n",
    "* Determine whether the font change had a statistically significant impact on user behavior.\n",
    "\n",
    "### **Experimental Design**\n",
    "\n",
    "The experiment involved three groups:\n",
    "\n",
    "* Group 246 — control group (original font)\n",
    "* Group 247 — control group (original font)\n",
    "* Group 248 — experimental group (new font)\n",
    "\n",
    "The use of two control groups allows for validation of the experimental setup. If groups 246 and 247 yield similar results, the test is considered well-balanced. Any significant difference between these control groups may indicate confounding factors or data issues.\n",
    "\n",
    "### **Dataset**\n",
    "\n",
    "The dataset was provided as part of the **Yandex Practicum Data Analyst training program** (practicum.yandex).\n",
    "\n",
    "Each row in the dataset represents a logged user event with the following columns:\n",
    "\n",
    "* `event_name`: Type of user action\n",
    "* `device_id`: Unique identifier for the user\n",
    "* `event_timestamp`: Date and time of the event\n",
    "* `exp_id`: Experimental group ID (246, 247, or 248)\n",
    "\n",
    "### **Tools and Libraries**\n",
    "\n",
    "* Python\n",
    "* pandas\n",
    "* matplotlib / seaborn\n",
    "* scipy\n",
    "* Jupyter Notebook"
   ]
  },
  {
   "cell_type": "markdown",
   "id": "0d8395d7",
   "metadata": {},
   "source": [
    "### Note\n",
    "To make the results more interpretable, the experimental group IDs are renamed as follows:\n",
    "\n",
    "Group 246 → A_1 (Control Group 1)\n",
    "Group 247 → A_2 (Control Group 2)\n",
    "Group 248 → B (Experimental Group – new font design)"
   ]
  },
  {
   "cell_type": "code",
   "execution_count": 1,
   "id": "012bfe8d",
   "metadata": {},
   "outputs": [],
   "source": [
    "import os\n",
    "import numpy as np\n",
    "import pandas as pd\n",
    "import matplotlib as mpl\n",
    "import matplotlib.pyplot as plt\n",
    "import math\n",
    "from scipy import stats as st\n",
    "from datetime import datetime, timedelta\n",
    "from plotly import graph_objects as go \n",
    "\n",
    "from scipy import stats as st\n",
    "import numpy as np\n",
    "import math as mth\n",
    "\n",
    "pd.set_option('display.float_format', '{:,.2f}'.format)"
   ]
  },
  {
   "cell_type": "code",
   "execution_count": 2,
   "id": "2f230ff1",
   "metadata": {
    "scrolled": true
   },
   "outputs": [],
   "source": [
    "file_path = \"logs_exp.csv\"\n",
    "\n",
    "if os.path.exists(file_path):\n",
    "    df = pd.read_csv(file_path, sep='\\t')\n",
    "else:\n",
    "    raise FileNotFoundError(f\"File not found: {file_path}\")"
   ]
  },
  {
   "cell_type": "code",
   "execution_count": 3,
   "id": "3fed92af",
   "metadata": {
    "scrolled": false
   },
   "outputs": [
    {
     "data": {
      "text/html": [
       "<div>\n",
       "<style scoped>\n",
       "    .dataframe tbody tr th:only-of-type {\n",
       "        vertical-align: middle;\n",
       "    }\n",
       "\n",
       "    .dataframe tbody tr th {\n",
       "        vertical-align: top;\n",
       "    }\n",
       "\n",
       "    .dataframe thead th {\n",
       "        text-align: right;\n",
       "    }\n",
       "</style>\n",
       "<table border=\"1\" class=\"dataframe\">\n",
       "  <thead>\n",
       "    <tr style=\"text-align: right;\">\n",
       "      <th></th>\n",
       "      <th>EventName</th>\n",
       "      <th>DeviceIDHash</th>\n",
       "      <th>EventTimestamp</th>\n",
       "      <th>ExpId</th>\n",
       "    </tr>\n",
       "  </thead>\n",
       "  <tbody>\n",
       "    <tr>\n",
       "      <th>0</th>\n",
       "      <td>MainScreenAppear</td>\n",
       "      <td>4575588528974610257</td>\n",
       "      <td>1564029816</td>\n",
       "      <td>246</td>\n",
       "    </tr>\n",
       "    <tr>\n",
       "      <th>1</th>\n",
       "      <td>MainScreenAppear</td>\n",
       "      <td>7416695313311560658</td>\n",
       "      <td>1564053102</td>\n",
       "      <td>246</td>\n",
       "    </tr>\n",
       "    <tr>\n",
       "      <th>2</th>\n",
       "      <td>PaymentScreenSuccessful</td>\n",
       "      <td>3518123091307005509</td>\n",
       "      <td>1564054127</td>\n",
       "      <td>248</td>\n",
       "    </tr>\n",
       "    <tr>\n",
       "      <th>3</th>\n",
       "      <td>CartScreenAppear</td>\n",
       "      <td>3518123091307005509</td>\n",
       "      <td>1564054127</td>\n",
       "      <td>248</td>\n",
       "    </tr>\n",
       "    <tr>\n",
       "      <th>4</th>\n",
       "      <td>PaymentScreenSuccessful</td>\n",
       "      <td>6217807653094995999</td>\n",
       "      <td>1564055322</td>\n",
       "      <td>248</td>\n",
       "    </tr>\n",
       "  </tbody>\n",
       "</table>\n",
       "</div>"
      ],
      "text/plain": [
       "                 EventName         DeviceIDHash  EventTimestamp  ExpId\n",
       "0         MainScreenAppear  4575588528974610257      1564029816    246\n",
       "1         MainScreenAppear  7416695313311560658      1564053102    246\n",
       "2  PaymentScreenSuccessful  3518123091307005509      1564054127    248\n",
       "3         CartScreenAppear  3518123091307005509      1564054127    248\n",
       "4  PaymentScreenSuccessful  6217807653094995999      1564055322    248"
      ]
     },
     "execution_count": 3,
     "metadata": {},
     "output_type": "execute_result"
    }
   ],
   "source": [
    "df.head()"
   ]
  },
  {
   "cell_type": "markdown",
   "id": "f83bfd13",
   "metadata": {},
   "source": [
    "Renaming columns and adding new columns for datetime and date."
   ]
  },
  {
   "cell_type": "code",
   "execution_count": 4,
   "id": "d6d811ea",
   "metadata": {},
   "outputs": [],
   "source": [
    "df.columns= ['event_name','device_id', 'event_timestamp','exp_id']"
   ]
  },
  {
   "cell_type": "code",
   "execution_count": 5,
   "id": "c8fdf3c3",
   "metadata": {},
   "outputs": [],
   "source": [
    "\n",
    "df['event_date_time'] = pd.to_datetime(df['event_timestamp'], unit='s')\n",
    "df['date'] = df['event_date_time'].dt.date"
   ]
  },
  {
   "cell_type": "code",
   "execution_count": 6,
   "id": "d134a02e",
   "metadata": {
    "scrolled": true
   },
   "outputs": [
    {
     "data": {
      "text/html": [
       "<div>\n",
       "<style scoped>\n",
       "    .dataframe tbody tr th:only-of-type {\n",
       "        vertical-align: middle;\n",
       "    }\n",
       "\n",
       "    .dataframe tbody tr th {\n",
       "        vertical-align: top;\n",
       "    }\n",
       "\n",
       "    .dataframe thead th {\n",
       "        text-align: right;\n",
       "    }\n",
       "</style>\n",
       "<table border=\"1\" class=\"dataframe\">\n",
       "  <thead>\n",
       "    <tr style=\"text-align: right;\">\n",
       "      <th></th>\n",
       "      <th>event_name</th>\n",
       "      <th>device_id</th>\n",
       "      <th>event_timestamp</th>\n",
       "      <th>exp_id</th>\n",
       "      <th>event_date_time</th>\n",
       "      <th>date</th>\n",
       "    </tr>\n",
       "  </thead>\n",
       "  <tbody>\n",
       "    <tr>\n",
       "      <th>0</th>\n",
       "      <td>MainScreenAppear</td>\n",
       "      <td>4575588528974610257</td>\n",
       "      <td>1564029816</td>\n",
       "      <td>246</td>\n",
       "      <td>2019-07-25 04:43:36</td>\n",
       "      <td>2019-07-25</td>\n",
       "    </tr>\n",
       "    <tr>\n",
       "      <th>1</th>\n",
       "      <td>MainScreenAppear</td>\n",
       "      <td>7416695313311560658</td>\n",
       "      <td>1564053102</td>\n",
       "      <td>246</td>\n",
       "      <td>2019-07-25 11:11:42</td>\n",
       "      <td>2019-07-25</td>\n",
       "    </tr>\n",
       "    <tr>\n",
       "      <th>2</th>\n",
       "      <td>PaymentScreenSuccessful</td>\n",
       "      <td>3518123091307005509</td>\n",
       "      <td>1564054127</td>\n",
       "      <td>248</td>\n",
       "      <td>2019-07-25 11:28:47</td>\n",
       "      <td>2019-07-25</td>\n",
       "    </tr>\n",
       "    <tr>\n",
       "      <th>3</th>\n",
       "      <td>CartScreenAppear</td>\n",
       "      <td>3518123091307005509</td>\n",
       "      <td>1564054127</td>\n",
       "      <td>248</td>\n",
       "      <td>2019-07-25 11:28:47</td>\n",
       "      <td>2019-07-25</td>\n",
       "    </tr>\n",
       "    <tr>\n",
       "      <th>4</th>\n",
       "      <td>PaymentScreenSuccessful</td>\n",
       "      <td>6217807653094995999</td>\n",
       "      <td>1564055322</td>\n",
       "      <td>248</td>\n",
       "      <td>2019-07-25 11:48:42</td>\n",
       "      <td>2019-07-25</td>\n",
       "    </tr>\n",
       "  </tbody>\n",
       "</table>\n",
       "</div>"
      ],
      "text/plain": [
       "                event_name            device_id  event_timestamp  exp_id  \\\n",
       "0         MainScreenAppear  4575588528974610257       1564029816     246   \n",
       "1         MainScreenAppear  7416695313311560658       1564053102     246   \n",
       "2  PaymentScreenSuccessful  3518123091307005509       1564054127     248   \n",
       "3         CartScreenAppear  3518123091307005509       1564054127     248   \n",
       "4  PaymentScreenSuccessful  6217807653094995999       1564055322     248   \n",
       "\n",
       "      event_date_time        date  \n",
       "0 2019-07-25 04:43:36  2019-07-25  \n",
       "1 2019-07-25 11:11:42  2019-07-25  \n",
       "2 2019-07-25 11:28:47  2019-07-25  \n",
       "3 2019-07-25 11:28:47  2019-07-25  \n",
       "4 2019-07-25 11:48:42  2019-07-25  "
      ]
     },
     "execution_count": 6,
     "metadata": {},
     "output_type": "execute_result"
    }
   ],
   "source": [
    "df.head()"
   ]
  },
  {
   "cell_type": "code",
   "execution_count": 7,
   "id": "f5608c59",
   "metadata": {},
   "outputs": [],
   "source": [
    "df['date'] = pd.to_datetime(df['date'])"
   ]
  },
  {
   "cell_type": "code",
   "execution_count": 8,
   "id": "6996669d",
   "metadata": {},
   "outputs": [],
   "source": [
    "def general_info(df):\n",
    "    print(\"Number of duplicate rows:\", df.duplicated().sum())\n",
    "    print(\"\\nFirst 5 rows:\")\n",
    "    display(df.head())\n",
    "    \n",
    "    print(\"\\nDataFrame Info:\")\n",
    "    display(df.info())\n",
    "    \n",
    "    print(\"\\nColumn Names:\")\n",
    "    display(df.columns)\n",
    "    \n",
    "    print(\"\\nMissing Values (Proportion):\")\n",
    "    display(df.isna().mean())\n"
   ]
  },
  {
   "cell_type": "code",
   "execution_count": 9,
   "id": "55f1cc19",
   "metadata": {
    "scrolled": true
   },
   "outputs": [
    {
     "name": "stdout",
     "output_type": "stream",
     "text": [
      "Number of duplicate rows: 413\n",
      "\n",
      "First 5 rows:\n"
     ]
    },
    {
     "data": {
      "text/html": [
       "<div>\n",
       "<style scoped>\n",
       "    .dataframe tbody tr th:only-of-type {\n",
       "        vertical-align: middle;\n",
       "    }\n",
       "\n",
       "    .dataframe tbody tr th {\n",
       "        vertical-align: top;\n",
       "    }\n",
       "\n",
       "    .dataframe thead th {\n",
       "        text-align: right;\n",
       "    }\n",
       "</style>\n",
       "<table border=\"1\" class=\"dataframe\">\n",
       "  <thead>\n",
       "    <tr style=\"text-align: right;\">\n",
       "      <th></th>\n",
       "      <th>event_name</th>\n",
       "      <th>device_id</th>\n",
       "      <th>event_timestamp</th>\n",
       "      <th>exp_id</th>\n",
       "      <th>event_date_time</th>\n",
       "      <th>date</th>\n",
       "    </tr>\n",
       "  </thead>\n",
       "  <tbody>\n",
       "    <tr>\n",
       "      <th>0</th>\n",
       "      <td>MainScreenAppear</td>\n",
       "      <td>4575588528974610257</td>\n",
       "      <td>1564029816</td>\n",
       "      <td>246</td>\n",
       "      <td>2019-07-25 04:43:36</td>\n",
       "      <td>2019-07-25</td>\n",
       "    </tr>\n",
       "    <tr>\n",
       "      <th>1</th>\n",
       "      <td>MainScreenAppear</td>\n",
       "      <td>7416695313311560658</td>\n",
       "      <td>1564053102</td>\n",
       "      <td>246</td>\n",
       "      <td>2019-07-25 11:11:42</td>\n",
       "      <td>2019-07-25</td>\n",
       "    </tr>\n",
       "    <tr>\n",
       "      <th>2</th>\n",
       "      <td>PaymentScreenSuccessful</td>\n",
       "      <td>3518123091307005509</td>\n",
       "      <td>1564054127</td>\n",
       "      <td>248</td>\n",
       "      <td>2019-07-25 11:28:47</td>\n",
       "      <td>2019-07-25</td>\n",
       "    </tr>\n",
       "    <tr>\n",
       "      <th>3</th>\n",
       "      <td>CartScreenAppear</td>\n",
       "      <td>3518123091307005509</td>\n",
       "      <td>1564054127</td>\n",
       "      <td>248</td>\n",
       "      <td>2019-07-25 11:28:47</td>\n",
       "      <td>2019-07-25</td>\n",
       "    </tr>\n",
       "    <tr>\n",
       "      <th>4</th>\n",
       "      <td>PaymentScreenSuccessful</td>\n",
       "      <td>6217807653094995999</td>\n",
       "      <td>1564055322</td>\n",
       "      <td>248</td>\n",
       "      <td>2019-07-25 11:48:42</td>\n",
       "      <td>2019-07-25</td>\n",
       "    </tr>\n",
       "  </tbody>\n",
       "</table>\n",
       "</div>"
      ],
      "text/plain": [
       "                event_name            device_id  event_timestamp  exp_id  \\\n",
       "0         MainScreenAppear  4575588528974610257       1564029816     246   \n",
       "1         MainScreenAppear  7416695313311560658       1564053102     246   \n",
       "2  PaymentScreenSuccessful  3518123091307005509       1564054127     248   \n",
       "3         CartScreenAppear  3518123091307005509       1564054127     248   \n",
       "4  PaymentScreenSuccessful  6217807653094995999       1564055322     248   \n",
       "\n",
       "      event_date_time       date  \n",
       "0 2019-07-25 04:43:36 2019-07-25  \n",
       "1 2019-07-25 11:11:42 2019-07-25  \n",
       "2 2019-07-25 11:28:47 2019-07-25  \n",
       "3 2019-07-25 11:28:47 2019-07-25  \n",
       "4 2019-07-25 11:48:42 2019-07-25  "
      ]
     },
     "metadata": {},
     "output_type": "display_data"
    },
    {
     "name": "stdout",
     "output_type": "stream",
     "text": [
      "\n",
      "DataFrame Info:\n",
      "<class 'pandas.core.frame.DataFrame'>\n",
      "RangeIndex: 244126 entries, 0 to 244125\n",
      "Data columns (total 6 columns):\n",
      " #   Column           Non-Null Count   Dtype         \n",
      "---  ------           --------------   -----         \n",
      " 0   event_name       244126 non-null  object        \n",
      " 1   device_id        244126 non-null  int64         \n",
      " 2   event_timestamp  244126 non-null  int64         \n",
      " 3   exp_id           244126 non-null  int64         \n",
      " 4   event_date_time  244126 non-null  datetime64[ns]\n",
      " 5   date             244126 non-null  datetime64[ns]\n",
      "dtypes: datetime64[ns](2), int64(3), object(1)\n",
      "memory usage: 11.2+ MB\n"
     ]
    },
    {
     "data": {
      "text/plain": [
       "None"
      ]
     },
     "metadata": {},
     "output_type": "display_data"
    },
    {
     "name": "stdout",
     "output_type": "stream",
     "text": [
      "\n",
      "Column Names:\n"
     ]
    },
    {
     "data": {
      "text/plain": [
       "Index(['event_name', 'device_id', 'event_timestamp', 'exp_id',\n",
       "       'event_date_time', 'date'],\n",
       "      dtype='object')"
      ]
     },
     "metadata": {},
     "output_type": "display_data"
    },
    {
     "name": "stdout",
     "output_type": "stream",
     "text": [
      "\n",
      "Missing Values (Proportion):\n"
     ]
    },
    {
     "data": {
      "text/plain": [
       "event_name        0.00\n",
       "device_id         0.00\n",
       "event_timestamp   0.00\n",
       "exp_id            0.00\n",
       "event_date_time   0.00\n",
       "date              0.00\n",
       "dtype: float64"
      ]
     },
     "metadata": {},
     "output_type": "display_data"
    }
   ],
   "source": [
    "general_info(df)"
   ]
  },
  {
   "cell_type": "markdown",
   "id": "95a1b637",
   "metadata": {},
   "source": [
    "413 duplicate rows were found."
   ]
  },
  {
   "cell_type": "code",
   "execution_count": 10,
   "id": "9c62975d",
   "metadata": {},
   "outputs": [],
   "source": [
    "duplicated_df = df[df.duplicated(keep=False)]"
   ]
  },
  {
   "cell_type": "code",
   "execution_count": 11,
   "id": "0f562d0b",
   "metadata": {},
   "outputs": [
    {
     "data": {
      "text/html": [
       "<div>\n",
       "<style scoped>\n",
       "    .dataframe tbody tr th:only-of-type {\n",
       "        vertical-align: middle;\n",
       "    }\n",
       "\n",
       "    .dataframe tbody tr th {\n",
       "        vertical-align: top;\n",
       "    }\n",
       "\n",
       "    .dataframe thead th {\n",
       "        text-align: right;\n",
       "    }\n",
       "</style>\n",
       "<table border=\"1\" class=\"dataframe\">\n",
       "  <thead>\n",
       "    <tr style=\"text-align: right;\">\n",
       "      <th></th>\n",
       "      <th>event_name</th>\n",
       "      <th>device_id</th>\n",
       "      <th>event_timestamp</th>\n",
       "      <th>exp_id</th>\n",
       "      <th>event_date_time</th>\n",
       "      <th>date</th>\n",
       "    </tr>\n",
       "  </thead>\n",
       "  <tbody>\n",
       "    <tr>\n",
       "      <th>130995</th>\n",
       "      <td>OffersScreenAppear</td>\n",
       "      <td>33176906322804559</td>\n",
       "      <td>1564933763</td>\n",
       "      <td>248</td>\n",
       "      <td>2019-08-04 15:49:23</td>\n",
       "      <td>2019-08-04</td>\n",
       "    </tr>\n",
       "    <tr>\n",
       "      <th>130994</th>\n",
       "      <td>OffersScreenAppear</td>\n",
       "      <td>33176906322804559</td>\n",
       "      <td>1564933763</td>\n",
       "      <td>248</td>\n",
       "      <td>2019-08-04 15:49:23</td>\n",
       "      <td>2019-08-04</td>\n",
       "    </tr>\n",
       "    <tr>\n",
       "      <th>130558</th>\n",
       "      <td>MainScreenAppear</td>\n",
       "      <td>33176906322804559</td>\n",
       "      <td>1564933075</td>\n",
       "      <td>248</td>\n",
       "      <td>2019-08-04 15:37:55</td>\n",
       "      <td>2019-08-04</td>\n",
       "    </tr>\n",
       "    <tr>\n",
       "      <th>130557</th>\n",
       "      <td>MainScreenAppear</td>\n",
       "      <td>33176906322804559</td>\n",
       "      <td>1564933075</td>\n",
       "      <td>248</td>\n",
       "      <td>2019-08-04 15:37:55</td>\n",
       "      <td>2019-08-04</td>\n",
       "    </tr>\n",
       "    <tr>\n",
       "      <th>104106</th>\n",
       "      <td>CartScreenAppear</td>\n",
       "      <td>34565258828294726</td>\n",
       "      <td>1564857221</td>\n",
       "      <td>248</td>\n",
       "      <td>2019-08-03 18:33:41</td>\n",
       "      <td>2019-08-03</td>\n",
       "    </tr>\n",
       "  </tbody>\n",
       "</table>\n",
       "</div>"
      ],
      "text/plain": [
       "                event_name          device_id  event_timestamp  exp_id  \\\n",
       "130995  OffersScreenAppear  33176906322804559       1564933763     248   \n",
       "130994  OffersScreenAppear  33176906322804559       1564933763     248   \n",
       "130558    MainScreenAppear  33176906322804559       1564933075     248   \n",
       "130557    MainScreenAppear  33176906322804559       1564933075     248   \n",
       "104106    CartScreenAppear  34565258828294726       1564857221     248   \n",
       "\n",
       "           event_date_time       date  \n",
       "130995 2019-08-04 15:49:23 2019-08-04  \n",
       "130994 2019-08-04 15:49:23 2019-08-04  \n",
       "130558 2019-08-04 15:37:55 2019-08-04  \n",
       "130557 2019-08-04 15:37:55 2019-08-04  \n",
       "104106 2019-08-03 18:33:41 2019-08-03  "
      ]
     },
     "metadata": {},
     "output_type": "display_data"
    }
   ],
   "source": [
    "display(duplicated_df.sort_values(by='device_id').head())"
   ]
  },
  {
   "cell_type": "code",
   "execution_count": 12,
   "id": "6d9efc4a",
   "metadata": {},
   "outputs": [
    {
     "name": "stdout",
     "output_type": "stream",
     "text": [
      "Number of duplicate rows: 413\n",
      "share of duplicates: 0.16917493425526162\n"
     ]
    }
   ],
   "source": [
    "num_duplicates = df.duplicated().sum()\n",
    "print(f'Number of duplicate rows: {num_duplicates}')\n",
    "print(f'share of duplicates: {num_duplicates/len(df)*100}')"
   ]
  },
  {
   "cell_type": "code",
   "execution_count": 13,
   "id": "b23f4bfa",
   "metadata": {},
   "outputs": [],
   "source": [
    "df = df.drop_duplicates().reset_index(drop = True)"
   ]
  },
  {
   "cell_type": "markdown",
   "id": "ef1445dc",
   "metadata": {},
   "source": [
    "All exact duplicates have been removed. There are no missing values. The data has been formatted as needed, and all column names have been converted to lowercase."
   ]
  },
  {
   "cell_type": "markdown",
   "id": "d2b6a95b",
   "metadata": {},
   "source": [
    "## Data Exploration"
   ]
  },
  {
   "cell_type": "code",
   "execution_count": 14,
   "id": "b1b4342d",
   "metadata": {},
   "outputs": [
    {
     "data": {
      "text/html": [
       "<div>\n",
       "<style scoped>\n",
       "    .dataframe tbody tr th:only-of-type {\n",
       "        vertical-align: middle;\n",
       "    }\n",
       "\n",
       "    .dataframe tbody tr th {\n",
       "        vertical-align: top;\n",
       "    }\n",
       "\n",
       "    .dataframe thead th {\n",
       "        text-align: right;\n",
       "    }\n",
       "</style>\n",
       "<table border=\"1\" class=\"dataframe\">\n",
       "  <thead>\n",
       "    <tr style=\"text-align: right;\">\n",
       "      <th></th>\n",
       "      <th>event_name</th>\n",
       "      <th>device_id</th>\n",
       "      <th>event_timestamp</th>\n",
       "      <th>exp_id</th>\n",
       "      <th>event_date_time</th>\n",
       "      <th>date</th>\n",
       "    </tr>\n",
       "  </thead>\n",
       "  <tbody>\n",
       "    <tr>\n",
       "      <th>0</th>\n",
       "      <td>MainScreenAppear</td>\n",
       "      <td>4575588528974610257</td>\n",
       "      <td>1564029816</td>\n",
       "      <td>246</td>\n",
       "      <td>2019-07-25 04:43:36</td>\n",
       "      <td>2019-07-25</td>\n",
       "    </tr>\n",
       "    <tr>\n",
       "      <th>1</th>\n",
       "      <td>MainScreenAppear</td>\n",
       "      <td>7416695313311560658</td>\n",
       "      <td>1564053102</td>\n",
       "      <td>246</td>\n",
       "      <td>2019-07-25 11:11:42</td>\n",
       "      <td>2019-07-25</td>\n",
       "    </tr>\n",
       "    <tr>\n",
       "      <th>2</th>\n",
       "      <td>PaymentScreenSuccessful</td>\n",
       "      <td>3518123091307005509</td>\n",
       "      <td>1564054127</td>\n",
       "      <td>248</td>\n",
       "      <td>2019-07-25 11:28:47</td>\n",
       "      <td>2019-07-25</td>\n",
       "    </tr>\n",
       "  </tbody>\n",
       "</table>\n",
       "</div>"
      ],
      "text/plain": [
       "                event_name            device_id  event_timestamp  exp_id  \\\n",
       "0         MainScreenAppear  4575588528974610257       1564029816     246   \n",
       "1         MainScreenAppear  7416695313311560658       1564053102     246   \n",
       "2  PaymentScreenSuccessful  3518123091307005509       1564054127     248   \n",
       "\n",
       "      event_date_time       date  \n",
       "0 2019-07-25 04:43:36 2019-07-25  \n",
       "1 2019-07-25 11:11:42 2019-07-25  \n",
       "2 2019-07-25 11:28:47 2019-07-25  "
      ]
     },
     "execution_count": 14,
     "metadata": {},
     "output_type": "execute_result"
    }
   ],
   "source": [
    "df.head(3)"
   ]
  },
  {
   "cell_type": "markdown",
   "id": "fca3c40d",
   "metadata": {},
   "source": [
    "### Events in the Log"
   ]
  },
  {
   "cell_type": "code",
   "execution_count": 15,
   "id": "7d965700",
   "metadata": {},
   "outputs": [
    {
     "data": {
      "text/plain": [
       "count               243713\n",
       "unique                   5\n",
       "top       MainScreenAppear\n",
       "freq                119101\n",
       "Name: event_name, dtype: object"
      ]
     },
     "execution_count": 15,
     "metadata": {},
     "output_type": "execute_result"
    }
   ],
   "source": [
    "df['event_name'].describe()"
   ]
  },
  {
   "cell_type": "code",
   "execution_count": 16,
   "id": "10a8e90d",
   "metadata": {},
   "outputs": [
    {
     "data": {
      "text/plain": [
       "array(['MainScreenAppear', 'PaymentScreenSuccessful', 'CartScreenAppear',\n",
       "       'OffersScreenAppear', 'Tutorial'], dtype=object)"
      ]
     },
     "execution_count": 16,
     "metadata": {},
     "output_type": "execute_result"
    }
   ],
   "source": [
    "df['event_name'].unique()"
   ]
  },
  {
   "cell_type": "markdown",
   "id": "de364051",
   "metadata": {},
   "source": [
    "### Users"
   ]
  },
  {
   "cell_type": "code",
   "execution_count": 17,
   "id": "93bb29a6",
   "metadata": {},
   "outputs": [
    {
     "data": {
      "text/plain": [
       "7551"
      ]
     },
     "execution_count": 17,
     "metadata": {},
     "output_type": "execute_result"
    }
   ],
   "source": [
    "df['device_id'].nunique()"
   ]
  },
  {
   "cell_type": "markdown",
   "id": "8ff563ce",
   "metadata": {},
   "source": [
    "If we assume that `device_id` represents a unique user, then the dataset contains a total of 7,551 users."
   ]
  },
  {
   "cell_type": "markdown",
   "id": "13cb2731",
   "metadata": {},
   "source": [
    "#### What is the average number of events per user?"
   ]
  },
  {
   "cell_type": "code",
   "execution_count": 18,
   "id": "4fc506b4",
   "metadata": {},
   "outputs": [
    {
     "data": {
      "image/png": "[encoded data removed]",
      "text/plain": [
       "<Figure size 1500x500 with 1 Axes>"
      ]
     },
     "metadata": {},
     "output_type": "display_data"
    }
   ],
   "source": [
    "plt.figure(figsize=(15, 5))\n",
    "df.groupby('device_id')['event_name'].count().sort_values(ascending = False).hist(bins = 150)\n",
    "plt.title('Distribution of Event Counts per User')\n",
    "plt.show()"
   ]
  },
  {
   "cell_type": "code",
   "execution_count": 19,
   "id": "5fb44703",
   "metadata": {},
   "outputs": [
    {
     "data": {
      "text/plain": [
       "count   7,551.00\n",
       "mean       32.28\n",
       "std        65.15\n",
       "min         1.00\n",
       "25%         9.00\n",
       "50%        20.00\n",
       "75%        37.00\n",
       "max     2,307.00\n",
       "Name: event_name, dtype: float64"
      ]
     },
     "execution_count": 19,
     "metadata": {},
     "output_type": "execute_result"
    }
   ],
   "source": [
    "df.groupby('device_id')['event_name'].count().sort_values(ascending = False).describe()"
   ]
  },
  {
   "cell_type": "markdown",
   "id": "b3195655",
   "metadata": {},
   "source": [
    "### Average Number of Events per User\n",
    "\n",
    "Due to the wide spread in the number of events per user, we use the **median** as a more robust measure of central tendency.\n",
    "\n",
    "**Result:** On average, each user performs **20 events**.\n"
   ]
  },
  {
   "cell_type": "markdown",
   "id": "cd19dd82",
   "metadata": {},
   "source": [
    "### Checking Data by Date"
   ]
  },
  {
   "cell_type": "code",
   "execution_count": 20,
   "id": "5d2ea6f1",
   "metadata": {},
   "outputs": [
    {
     "data": {
      "text/html": [
       "<div>\n",
       "<style scoped>\n",
       "    .dataframe tbody tr th:only-of-type {\n",
       "        vertical-align: middle;\n",
       "    }\n",
       "\n",
       "    .dataframe tbody tr th {\n",
       "        vertical-align: top;\n",
       "    }\n",
       "\n",
       "    .dataframe thead th {\n",
       "        text-align: right;\n",
       "    }\n",
       "</style>\n",
       "<table border=\"1\" class=\"dataframe\">\n",
       "  <thead>\n",
       "    <tr style=\"text-align: right;\">\n",
       "      <th></th>\n",
       "      <th>event_name</th>\n",
       "      <th>device_id</th>\n",
       "      <th>event_timestamp</th>\n",
       "      <th>exp_id</th>\n",
       "      <th>event_date_time</th>\n",
       "      <th>date</th>\n",
       "    </tr>\n",
       "  </thead>\n",
       "  <tbody>\n",
       "    <tr>\n",
       "      <th>243712</th>\n",
       "      <td>OffersScreenAppear</td>\n",
       "      <td>5746969938801999050</td>\n",
       "      <td>1565212517</td>\n",
       "      <td>246</td>\n",
       "      <td>2019-08-07 21:15:17</td>\n",
       "      <td>2019-08-07</td>\n",
       "    </tr>\n",
       "    <tr>\n",
       "      <th>243711</th>\n",
       "      <td>MainScreenAppear</td>\n",
       "      <td>5746969938801999050</td>\n",
       "      <td>1565212498</td>\n",
       "      <td>246</td>\n",
       "      <td>2019-08-07 21:14:58</td>\n",
       "      <td>2019-08-07</td>\n",
       "    </tr>\n",
       "    <tr>\n",
       "      <th>243710</th>\n",
       "      <td>MainScreenAppear</td>\n",
       "      <td>5746969938801999050</td>\n",
       "      <td>1565212483</td>\n",
       "      <td>246</td>\n",
       "      <td>2019-08-07 21:14:43</td>\n",
       "      <td>2019-08-07</td>\n",
       "    </tr>\n",
       "    <tr>\n",
       "      <th>243709</th>\n",
       "      <td>MainScreenAppear</td>\n",
       "      <td>5849806612437486590</td>\n",
       "      <td>1565212439</td>\n",
       "      <td>246</td>\n",
       "      <td>2019-08-07 21:13:59</td>\n",
       "      <td>2019-08-07</td>\n",
       "    </tr>\n",
       "    <tr>\n",
       "      <th>243708</th>\n",
       "      <td>MainScreenAppear</td>\n",
       "      <td>4599628364049201812</td>\n",
       "      <td>1565212345</td>\n",
       "      <td>247</td>\n",
       "      <td>2019-08-07 21:12:25</td>\n",
       "      <td>2019-08-07</td>\n",
       "    </tr>\n",
       "  </tbody>\n",
       "</table>\n",
       "</div>"
      ],
      "text/plain": [
       "                event_name            device_id  event_timestamp  exp_id  \\\n",
       "243712  OffersScreenAppear  5746969938801999050       1565212517     246   \n",
       "243711    MainScreenAppear  5746969938801999050       1565212498     246   \n",
       "243710    MainScreenAppear  5746969938801999050       1565212483     246   \n",
       "243709    MainScreenAppear  5849806612437486590       1565212439     246   \n",
       "243708    MainScreenAppear  4599628364049201812       1565212345     247   \n",
       "\n",
       "           event_date_time       date  \n",
       "243712 2019-08-07 21:15:17 2019-08-07  \n",
       "243711 2019-08-07 21:14:58 2019-08-07  \n",
       "243710 2019-08-07 21:14:43 2019-08-07  \n",
       "243709 2019-08-07 21:13:59 2019-08-07  \n",
       "243708 2019-08-07 21:12:25 2019-08-07  "
      ]
     },
     "execution_count": 20,
     "metadata": {},
     "output_type": "execute_result"
    }
   ],
   "source": [
    "df.sort_values(by = 'event_date_time',ascending = False).head()"
   ]
  },
  {
   "cell_type": "code",
   "execution_count": 21,
   "id": "3d9aa457",
   "metadata": {},
   "outputs": [
    {
     "data": {
      "text/plain": [
       "count                           243713\n",
       "mean     2019-08-04 10:19:17.987665920\n",
       "min                2019-07-25 04:43:36\n",
       "25%                2019-08-02 14:36:45\n",
       "50%                2019-08-04 11:51:00\n",
       "75%                2019-08-06 06:56:24\n",
       "max                2019-08-07 21:15:17\n",
       "Name: event_date_time, dtype: object"
      ]
     },
     "execution_count": 21,
     "metadata": {},
     "output_type": "execute_result"
    }
   ],
   "source": [
    "df['event_date_time'].describe()"
   ]
  },
  {
   "cell_type": "code",
   "execution_count": 22,
   "id": "186a36bf",
   "metadata": {},
   "outputs": [
    {
     "data": {
      "image/png": "[encoded data removed]",
      "text/plain": [
       "<Figure size 640x480 with 1 Axes>"
      ]
     },
     "metadata": {},
     "output_type": "display_data"
    }
   ],
   "source": [
    "dd = df['event_date_time'].hist(bins = 60)\n",
    "\n",
    "dd.tick_params(axis = 'x', labelrotation = 90)\n",
    "\n",
    "plt.title('Distribution of events over time')\n",
    "plt.show()"
   ]
  },
  {
   "cell_type": "markdown",
   "id": "3ceff959",
   "metadata": {},
   "source": [
    "\n",
    "The histogram shows that the majority of data is concentrated between August 1 and August 7, 2019.\n",
    "I will now take a closer look at the data from July 25 to August 1, 2019, to assess its completeness and consistency."
   ]
  },
  {
   "cell_type": "code",
   "execution_count": 23,
   "id": "a9a831ad",
   "metadata": {},
   "outputs": [],
   "source": [
    "incomplete_data = df.query('event_date_time < \"2019-08-01\"')"
   ]
  },
  {
   "cell_type": "code",
   "execution_count": 24,
   "id": "a472e706",
   "metadata": {
    "scrolled": false
   },
   "outputs": [
    {
     "data": {
      "text/html": [
       "<div>\n",
       "<style scoped>\n",
       "    .dataframe tbody tr th:only-of-type {\n",
       "        vertical-align: middle;\n",
       "    }\n",
       "\n",
       "    .dataframe tbody tr th {\n",
       "        vertical-align: top;\n",
       "    }\n",
       "\n",
       "    .dataframe thead th {\n",
       "        text-align: right;\n",
       "    }\n",
       "</style>\n",
       "<table border=\"1\" class=\"dataframe\">\n",
       "  <thead>\n",
       "    <tr style=\"text-align: right;\">\n",
       "      <th></th>\n",
       "      <th>event_name</th>\n",
       "      <th>device_id</th>\n",
       "      <th>event_timestamp</th>\n",
       "      <th>exp_id</th>\n",
       "      <th>event_date_time</th>\n",
       "      <th>date</th>\n",
       "    </tr>\n",
       "  </thead>\n",
       "  <tbody>\n",
       "    <tr>\n",
       "      <th>382</th>\n",
       "      <td>MainScreenAppear</td>\n",
       "      <td>19151588103329050</td>\n",
       "      <td>1564436151</td>\n",
       "      <td>248</td>\n",
       "      <td>2019-07-29 21:35:51</td>\n",
       "      <td>2019-07-29</td>\n",
       "    </tr>\n",
       "    <tr>\n",
       "      <th>479</th>\n",
       "      <td>OffersScreenAppear</td>\n",
       "      <td>32131536909829030</td>\n",
       "      <td>1564480165</td>\n",
       "      <td>247</td>\n",
       "      <td>2019-07-30 09:49:25</td>\n",
       "      <td>2019-07-30</td>\n",
       "    </tr>\n",
       "    <tr>\n",
       "      <th>1907</th>\n",
       "      <td>MainScreenAppear</td>\n",
       "      <td>33176906322804559</td>\n",
       "      <td>1564601363</td>\n",
       "      <td>248</td>\n",
       "      <td>2019-07-31 19:29:23</td>\n",
       "      <td>2019-07-31</td>\n",
       "    </tr>\n",
       "    <tr>\n",
       "      <th>1805</th>\n",
       "      <td>OffersScreenAppear</td>\n",
       "      <td>33589551945846495</td>\n",
       "      <td>1564597381</td>\n",
       "      <td>248</td>\n",
       "      <td>2019-07-31 18:23:01</td>\n",
       "      <td>2019-07-31</td>\n",
       "    </tr>\n",
       "    <tr>\n",
       "      <th>1782</th>\n",
       "      <td>MainScreenAppear</td>\n",
       "      <td>38880205595577265</td>\n",
       "      <td>1564596510</td>\n",
       "      <td>248</td>\n",
       "      <td>2019-07-31 18:08:30</td>\n",
       "      <td>2019-07-31</td>\n",
       "    </tr>\n",
       "  </tbody>\n",
       "</table>\n",
       "</div>"
      ],
      "text/plain": [
       "              event_name          device_id  event_timestamp  exp_id  \\\n",
       "382     MainScreenAppear  19151588103329050       1564436151     248   \n",
       "479   OffersScreenAppear  32131536909829030       1564480165     247   \n",
       "1907    MainScreenAppear  33176906322804559       1564601363     248   \n",
       "1805  OffersScreenAppear  33589551945846495       1564597381     248   \n",
       "1782    MainScreenAppear  38880205595577265       1564596510     248   \n",
       "\n",
       "         event_date_time       date  \n",
       "382  2019-07-29 21:35:51 2019-07-29  \n",
       "479  2019-07-30 09:49:25 2019-07-30  \n",
       "1907 2019-07-31 19:29:23 2019-07-31  \n",
       "1805 2019-07-31 18:23:01 2019-07-31  \n",
       "1782 2019-07-31 18:08:30 2019-07-31  "
      ]
     },
     "execution_count": 24,
     "metadata": {},
     "output_type": "execute_result"
    }
   ],
   "source": [
    "incomplete_data.sort_values(by = 'device_id').head()"
   ]
  },
  {
   "cell_type": "code",
   "execution_count": 25,
   "id": "73dac9d7",
   "metadata": {
    "scrolled": true
   },
   "outputs": [
    {
     "data": {
      "text/plain": [
       "array(['MainScreenAppear', 'PaymentScreenSuccessful', 'CartScreenAppear',\n",
       "       'OffersScreenAppear', 'Tutorial'], dtype=object)"
      ]
     },
     "execution_count": 25,
     "metadata": {},
     "output_type": "execute_result"
    }
   ],
   "source": [
    "incomplete_data['event_name'].unique()"
   ]
  },
  {
   "cell_type": "code",
   "execution_count": 26,
   "id": "0a56cd7d",
   "metadata": {},
   "outputs": [
    {
     "name": "stdout",
     "output_type": "stream",
     "text": [
      "Share of incomplete data in the dataset: 1.16\n"
     ]
    }
   ],
   "source": [
    "\n",
    "print('Share of incomplete data in the dataset:', round(len(incomplete_data)/len(df)*100,2))\n"
   ]
  },
  {
   "cell_type": "code",
   "execution_count": 27,
   "id": "cb690ce4",
   "metadata": {},
   "outputs": [
    {
     "name": "stdout",
     "output_type": "stream",
     "text": [
      "Total events recorded before 01.08.2019: 2826\n"
     ]
    }
   ],
   "source": [
    "print('Total events recorded before 01.08.2019:',len(incomplete_data))"
   ]
  },
  {
   "cell_type": "code",
   "execution_count": 28,
   "id": "2718d48e",
   "metadata": {},
   "outputs": [
    {
     "name": "stdout",
     "output_type": "stream",
     "text": [
      "Number of users before 01.08.2019: 1451\n"
     ]
    }
   ],
   "source": [
    "print('Number of users before 01.08.2019:',incomplete_data['device_id'].nunique())"
   ]
  },
  {
   "cell_type": "markdown",
   "id": "723d2fd2",
   "metadata": {},
   "source": [
    "The data prior to 01.08.2019 accounts for 1.16% of the total. This includes 1451 unique users and 2826 events."
   ]
  },
  {
   "cell_type": "markdown",
   "id": "9012d77d",
   "metadata": {},
   "source": [
    "After discarding the incomplete data, I will save the remaining dataset as `full_data`"
   ]
  },
  {
   "cell_type": "code",
   "execution_count": 29,
   "id": "636ad962",
   "metadata": {},
   "outputs": [
    {
     "data": {
      "text/html": [
       "<div>\n",
       "<style scoped>\n",
       "    .dataframe tbody tr th:only-of-type {\n",
       "        vertical-align: middle;\n",
       "    }\n",
       "\n",
       "    .dataframe tbody tr th {\n",
       "        vertical-align: top;\n",
       "    }\n",
       "\n",
       "    .dataframe thead th {\n",
       "        text-align: right;\n",
       "    }\n",
       "</style>\n",
       "<table border=\"1\" class=\"dataframe\">\n",
       "  <thead>\n",
       "    <tr style=\"text-align: right;\">\n",
       "      <th></th>\n",
       "      <th>event_name</th>\n",
       "      <th>device_id</th>\n",
       "      <th>event_timestamp</th>\n",
       "      <th>exp_id</th>\n",
       "      <th>event_date_time</th>\n",
       "      <th>date</th>\n",
       "    </tr>\n",
       "  </thead>\n",
       "  <tbody>\n",
       "    <tr>\n",
       "      <th>0</th>\n",
       "      <td>MainScreenAppear</td>\n",
       "      <td>6888746892508752</td>\n",
       "      <td>1565100394</td>\n",
       "      <td>246</td>\n",
       "      <td>2019-08-06 14:06:34</td>\n",
       "      <td>2019-08-06</td>\n",
       "    </tr>\n",
       "    <tr>\n",
       "      <th>1</th>\n",
       "      <td>MainScreenAppear</td>\n",
       "      <td>6909561520679493</td>\n",
       "      <td>1565117574</td>\n",
       "      <td>247</td>\n",
       "      <td>2019-08-06 18:52:54</td>\n",
       "      <td>2019-08-06</td>\n",
       "    </tr>\n",
       "    <tr>\n",
       "      <th>2</th>\n",
       "      <td>PaymentScreenSuccessful</td>\n",
       "      <td>6909561520679493</td>\n",
       "      <td>1565117578</td>\n",
       "      <td>247</td>\n",
       "      <td>2019-08-06 18:52:58</td>\n",
       "      <td>2019-08-06</td>\n",
       "    </tr>\n",
       "    <tr>\n",
       "      <th>3</th>\n",
       "      <td>CartScreenAppear</td>\n",
       "      <td>6909561520679493</td>\n",
       "      <td>1565117578</td>\n",
       "      <td>247</td>\n",
       "      <td>2019-08-06 18:52:58</td>\n",
       "      <td>2019-08-06</td>\n",
       "    </tr>\n",
       "    <tr>\n",
       "      <th>4</th>\n",
       "      <td>MainScreenAppear</td>\n",
       "      <td>6909561520679493</td>\n",
       "      <td>1565117578</td>\n",
       "      <td>247</td>\n",
       "      <td>2019-08-06 18:52:58</td>\n",
       "      <td>2019-08-06</td>\n",
       "    </tr>\n",
       "  </tbody>\n",
       "</table>\n",
       "</div>"
      ],
      "text/plain": [
       "                event_name         device_id  event_timestamp  exp_id  \\\n",
       "0         MainScreenAppear  6888746892508752       1565100394     246   \n",
       "1         MainScreenAppear  6909561520679493       1565117574     247   \n",
       "2  PaymentScreenSuccessful  6909561520679493       1565117578     247   \n",
       "3         CartScreenAppear  6909561520679493       1565117578     247   \n",
       "4         MainScreenAppear  6909561520679493       1565117578     247   \n",
       "\n",
       "      event_date_time       date  \n",
       "0 2019-08-06 14:06:34 2019-08-06  \n",
       "1 2019-08-06 18:52:54 2019-08-06  \n",
       "2 2019-08-06 18:52:58 2019-08-06  \n",
       "3 2019-08-06 18:52:58 2019-08-06  \n",
       "4 2019-08-06 18:52:58 2019-08-06  "
      ]
     },
     "execution_count": 29,
     "metadata": {},
     "output_type": "execute_result"
    }
   ],
   "source": [
    "full_data = df.query('event_date_time >= \"2019-08-01\"')\n",
    "full_data.sort_values(by = ['device_id','event_date_time']).reset_index(drop=True).head()"
   ]
  },
  {
   "cell_type": "markdown",
   "id": "501b4684",
   "metadata": {},
   "source": [
    "Let's examine the data by test groups."
   ]
  },
  {
   "cell_type": "code",
   "execution_count": 30,
   "id": "03f2e35f",
   "metadata": {
    "scrolled": true
   },
   "outputs": [
    {
     "data": {
      "text/plain": [
       "exp_id\n",
       "246    2484\n",
       "247    2513\n",
       "248    2537\n",
       "Name: device_id, dtype: int64"
      ]
     },
     "execution_count": 30,
     "metadata": {},
     "output_type": "execute_result"
    }
   ],
   "source": [
    "full_data.groupby(by = 'exp_id')['device_id'].nunique()"
   ]
  },
  {
   "cell_type": "markdown",
   "id": "14480484",
   "metadata": {},
   "source": [
    "The remaining dataset includes users from all three groups."
   ]
  },
  {
   "cell_type": "markdown",
   "id": "7732ddc4",
   "metadata": {},
   "source": [
    "## Event Funnel Analysis"
   ]
  },
  {
   "cell_type": "markdown",
   "id": "c474e91f",
   "metadata": {},
   "source": [
    "### What events are recorded in the logs, and how frequently do they occur?"
   ]
  },
  {
   "cell_type": "code",
   "execution_count": 31,
   "id": "1f99597c",
   "metadata": {
    "scrolled": true
   },
   "outputs": [
    {
     "data": {
      "text/plain": [
       "event_name\n",
       "MainScreenAppear           117328\n",
       "OffersScreenAppear          46333\n",
       "CartScreenAppear            42303\n",
       "PaymentScreenSuccessful     33918\n",
       "Tutorial                     1005\n",
       "Name: event_name, dtype: int64"
      ]
     },
     "execution_count": 31,
     "metadata": {},
     "output_type": "execute_result"
    }
   ],
   "source": [
    "full_data.groupby('event_name')['event_name'].count().sort_values(ascending=False)"
   ]
  },
  {
   "cell_type": "code",
   "execution_count": 32,
   "id": "d9a566f6",
   "metadata": {},
   "outputs": [
    {
     "data": {
      "text/plain": [
       "240887"
      ]
     },
     "execution_count": 32,
     "metadata": {},
     "output_type": "execute_result"
    }
   ],
   "source": [
    "len(full_data)"
   ]
  },
  {
   "cell_type": "markdown",
   "id": "6d663638",
   "metadata": {},
   "source": [
    "There are 5 distinct events in the logs. The most frequently occurring event is `MainScreenAppear`."
   ]
  },
  {
   "cell_type": "markdown",
   "id": "f1f5554b",
   "metadata": {},
   "source": [
    "### Number of Users Who Performed Each Event\n",
    "This step involves calculating how many unique users triggered each event at least once. It helps us understand user engagement with different parts of the application."
   ]
  },
  {
   "cell_type": "code",
   "execution_count": 33,
   "id": "437ee773",
   "metadata": {},
   "outputs": [
    {
     "data": {
      "text/plain": [
       "7534"
      ]
     },
     "execution_count": 33,
     "metadata": {},
     "output_type": "execute_result"
    }
   ],
   "source": [
    "count_by_users = full_data.groupby('event_name')['device_id'].nunique().sort_values(ascending=False).reset_index()\n",
    "full_data['device_id'].nunique()\n"
   ]
  },
  {
   "cell_type": "code",
   "execution_count": 34,
   "id": "c3859c26",
   "metadata": {},
   "outputs": [
    {
     "data": {
      "text/html": [
       "<div>\n",
       "<style scoped>\n",
       "    .dataframe tbody tr th:only-of-type {\n",
       "        vertical-align: middle;\n",
       "    }\n",
       "\n",
       "    .dataframe tbody tr th {\n",
       "        vertical-align: top;\n",
       "    }\n",
       "\n",
       "    .dataframe thead th {\n",
       "        text-align: right;\n",
       "    }\n",
       "</style>\n",
       "<table border=\"1\" class=\"dataframe\">\n",
       "  <thead>\n",
       "    <tr style=\"text-align: right;\">\n",
       "      <th></th>\n",
       "      <th>event_name</th>\n",
       "      <th>device_id</th>\n",
       "    </tr>\n",
       "  </thead>\n",
       "  <tbody>\n",
       "    <tr>\n",
       "      <th>0</th>\n",
       "      <td>MainScreenAppear</td>\n",
       "      <td>7419</td>\n",
       "    </tr>\n",
       "    <tr>\n",
       "      <th>1</th>\n",
       "      <td>OffersScreenAppear</td>\n",
       "      <td>4593</td>\n",
       "    </tr>\n",
       "    <tr>\n",
       "      <th>2</th>\n",
       "      <td>CartScreenAppear</td>\n",
       "      <td>3734</td>\n",
       "    </tr>\n",
       "    <tr>\n",
       "      <th>3</th>\n",
       "      <td>PaymentScreenSuccessful</td>\n",
       "      <td>3539</td>\n",
       "    </tr>\n",
       "    <tr>\n",
       "      <th>4</th>\n",
       "      <td>Tutorial</td>\n",
       "      <td>840</td>\n",
       "    </tr>\n",
       "  </tbody>\n",
       "</table>\n",
       "</div>"
      ],
      "text/plain": [
       "                event_name  device_id\n",
       "0         MainScreenAppear       7419\n",
       "1       OffersScreenAppear       4593\n",
       "2         CartScreenAppear       3734\n",
       "3  PaymentScreenSuccessful       3539\n",
       "4                 Tutorial        840"
      ]
     },
     "execution_count": 34,
     "metadata": {},
     "output_type": "execute_result"
    }
   ],
   "source": [
    "count_by_users"
   ]
  },
  {
   "cell_type": "code",
   "execution_count": 35,
   "id": "9547e75d",
   "metadata": {},
   "outputs": [
    {
     "data": {
      "text/html": [
       "<div>\n",
       "<style scoped>\n",
       "    .dataframe tbody tr th:only-of-type {\n",
       "        vertical-align: middle;\n",
       "    }\n",
       "\n",
       "    .dataframe tbody tr th {\n",
       "        vertical-align: top;\n",
       "    }\n",
       "\n",
       "    .dataframe thead th {\n",
       "        text-align: right;\n",
       "    }\n",
       "</style>\n",
       "<table border=\"1\" class=\"dataframe\">\n",
       "  <thead>\n",
       "    <tr style=\"text-align: right;\">\n",
       "      <th></th>\n",
       "      <th>event_name</th>\n",
       "      <th>users_total</th>\n",
       "      <th>share,%</th>\n",
       "    </tr>\n",
       "  </thead>\n",
       "  <tbody>\n",
       "    <tr>\n",
       "      <th>0</th>\n",
       "      <td>MainScreenAppear</td>\n",
       "      <td>7419</td>\n",
       "      <td>98.25</td>\n",
       "    </tr>\n",
       "    <tr>\n",
       "      <th>1</th>\n",
       "      <td>OffersScreenAppear</td>\n",
       "      <td>4593</td>\n",
       "      <td>60.83</td>\n",
       "    </tr>\n",
       "    <tr>\n",
       "      <th>2</th>\n",
       "      <td>CartScreenAppear</td>\n",
       "      <td>3734</td>\n",
       "      <td>49.45</td>\n",
       "    </tr>\n",
       "    <tr>\n",
       "      <th>3</th>\n",
       "      <td>PaymentScreenSuccessful</td>\n",
       "      <td>3539</td>\n",
       "      <td>46.87</td>\n",
       "    </tr>\n",
       "    <tr>\n",
       "      <th>4</th>\n",
       "      <td>Tutorial</td>\n",
       "      <td>840</td>\n",
       "      <td>11.12</td>\n",
       "    </tr>\n",
       "  </tbody>\n",
       "</table>\n",
       "</div>"
      ],
      "text/plain": [
       "                event_name  users_total  share,%\n",
       "0         MainScreenAppear         7419    98.25\n",
       "1       OffersScreenAppear         4593    60.83\n",
       "2         CartScreenAppear         3734    49.45\n",
       "3  PaymentScreenSuccessful         3539    46.87\n",
       "4                 Tutorial          840    11.12"
      ]
     },
     "execution_count": 35,
     "metadata": {},
     "output_type": "execute_result"
    }
   ],
   "source": [
    "count_by_users.columns = ['event_name','users_total']\n",
    "count_by_users['share,%'] = count_by_users['users_total']/df['device_id'].nunique()*100\n",
    "count_by_users"
   ]
  },
  {
   "cell_type": "markdown",
   "id": "8c6eacb5",
   "metadata": {},
   "source": [
    "The table above shows both the absolute and relative number of users who performed each of the listed events at least once."
   ]
  },
  {
   "cell_type": "markdown",
   "id": "e4e7d9e9",
   "metadata": {},
   "source": [
    "### Events order"
   ]
  },
  {
   "cell_type": "markdown",
   "id": "54d8b744",
   "metadata": {},
   "source": [
    "It appears that most users tend to follow this sequence of actions:\n",
    "\n",
    "* Open the Main Screen.\n",
    "* Then proceed to the Offers Screen.\n",
    "* Next, move to the Cart.\n",
    "* Finally, make a Purchase.\n",
    "\n",
    "However, the Tutorial section is viewed by very few users.\n"
   ]
  },
  {
   "cell_type": "code",
   "execution_count": 36,
   "id": "97688c0e",
   "metadata": {},
   "outputs": [
    {
     "data": {
      "application/vnd.plotly.v1+json": {
       "config": {
        "plotlyServerURL": "https://plot.ly"
       },
       "data": [
        {
         "type": "funnel",
         "x": [
          7419,
          4593,
          3734,
          3539,
          840
         ],
         "y": [
          "Main Screen Viewed",
          "Offers Screen Viewed",
          "Cart Accessed",
          "Purchase Completed"
         ]
        }
       ],
       "layout": {
        "font": {
         "color": "RebeccaPurple",
         "family": "Courier New, monospace",
         "size": 16
        },
        "template": {
         "data": {
          "bar": [
           {
            "error_x": {
             "color": "#2a3f5f"
            },
            "error_y": {
             "color": "#2a3f5f"
            },
            "marker": {
             "line": {
              "color": "#E5ECF6",
              "width": 0.5
             },
             "pattern": {
              "fillmode": "overlay",
              "size": 10,
              "solidity": 0.2
             }
            },
            "type": "bar"
           }
          ],
          "barpolar": [
           {
            "marker": {
             "line": {
              "color": "#E5ECF6",
              "width": 0.5
             },
             "pattern": {
              "fillmode": "overlay",
              "size": 10,
              "solidity": 0.2
             }
            },
            "type": "barpolar"
           }
          ],
          "carpet": [
           {
            "aaxis": {
             "endlinecolor": "#2a3f5f",
             "gridcolor": "white",
             "linecolor": "white",
             "minorgridcolor": "white",
             "startlinecolor": "#2a3f5f"
            },
            "baxis": {
             "endlinecolor": "#2a3f5f",
             "gridcolor": "white",
             "linecolor": "white",
             "minorgridcolor": "white",
             "startlinecolor": "#2a3f5f"
            },
            "type": "carpet"
           }
          ],
          "choropleth": [
           {
            "colorbar": {
             "outlinewidth": 0,
             "ticks": ""
            },
            "type": "choropleth"
           }
          ],
          "contour": [
           {
            "colorbar": {
             "outlinewidth": 0,
             "ticks": ""
            },
            "colorscale": [
             [
              0,
              "#0d0887"
             ],
             [
              0.1111111111111111,
              "#46039f"
             ],
             [
              0.2222222222222222,
              "#7201a8"
             ],
             [
              0.3333333333333333,
              "#9c179e"
             ],
             [
              0.4444444444444444,
              "#bd3786"
             ],
             [
              0.5555555555555556,
              "#d8576b"
             ],
             [
              0.6666666666666666,
              "#ed7953"
             ],
             [
              0.7777777777777778,
              "#fb9f3a"
             ],
             [
              0.8888888888888888,
              "#fdca26"
             ],
             [
              1,
              "#f0f921"
             ]
            ],
            "type": "contour"
           }
          ],
          "contourcarpet": [
           {
            "colorbar": {
             "outlinewidth": 0,
             "ticks": ""
            },
            "type": "contourcarpet"
           }
          ],
          "heatmap": [
           {
            "colorbar": {
             "outlinewidth": 0,
             "ticks": ""
            },
            "colorscale": [
             [
              0,
              "#0d0887"
             ],
             [
              0.1111111111111111,
              "#46039f"
             ],
             [
              0.2222222222222222,
              "#7201a8"
             ],
             [
              0.3333333333333333,
              "#9c179e"
             ],
             [
              0.4444444444444444,
              "#bd3786"
             ],
             [
              0.5555555555555556,
              "#d8576b"
             ],
             [
              0.6666666666666666,
              "#ed7953"
             ],
             [
              0.7777777777777778,
              "#fb9f3a"
             ],
             [
              0.8888888888888888,
              "#fdca26"
             ],
             [
              1,
              "#f0f921"
             ]
            ],
            "type": "heatmap"
           }
          ],
          "heatmapgl": [
           {
            "colorbar": {
             "outlinewidth": 0,
             "ticks": ""
            },
            "colorscale": [
             [
              0,
              "#0d0887"
             ],
             [
              0.1111111111111111,
              "#46039f"
             ],
             [
              0.2222222222222222,
              "#7201a8"
             ],
             [
              0.3333333333333333,
              "#9c179e"
             ],
             [
              0.4444444444444444,
              "#bd3786"
             ],
             [
              0.5555555555555556,
              "#d8576b"
             ],
             [
              0.6666666666666666,
              "#ed7953"
             ],
             [
              0.7777777777777778,
              "#fb9f3a"
             ],
             [
              0.8888888888888888,
              "#fdca26"
             ],
             [
              1,
              "#f0f921"
             ]
            ],
            "type": "heatmapgl"
           }
          ],
          "histogram": [
           {
            "marker": {
             "pattern": {
              "fillmode": "overlay",
              "size": 10,
              "solidity": 0.2
             }
            },
            "type": "histogram"
           }
          ],
          "histogram2d": [
           {
            "colorbar": {
             "outlinewidth": 0,
             "ticks": ""
            },
            "colorscale": [
             [
              0,
              "#0d0887"
             ],
             [
              0.1111111111111111,
              "#46039f"
             ],
             [
              0.2222222222222222,
              "#7201a8"
             ],
             [
              0.3333333333333333,
              "#9c179e"
             ],
             [
              0.4444444444444444,
              "#bd3786"
             ],
             [
              0.5555555555555556,
              "#d8576b"
             ],
             [
              0.6666666666666666,
              "#ed7953"
             ],
             [
              0.7777777777777778,
              "#fb9f3a"
             ],
             [
              0.8888888888888888,
              "#fdca26"
             ],
             [
              1,
              "#f0f921"
             ]
            ],
            "type": "histogram2d"
           }
          ],
          "histogram2dcontour": [
           {
            "colorbar": {
             "outlinewidth": 0,
             "ticks": ""
            },
            "colorscale": [
             [
              0,
              "#0d0887"
             ],
             [
              0.1111111111111111,
              "#46039f"
             ],
             [
              0.2222222222222222,
              "#7201a8"
             ],
             [
              0.3333333333333333,
              "#9c179e"
             ],
             [
              0.4444444444444444,
              "#bd3786"
             ],
             [
              0.5555555555555556,
              "#d8576b"
             ],
             [
              0.6666666666666666,
              "#ed7953"
             ],
             [
              0.7777777777777778,
              "#fb9f3a"
             ],
             [
              0.8888888888888888,
              "#fdca26"
             ],
             [
              1,
              "#f0f921"
             ]
            ],
            "type": "histogram2dcontour"
           }
          ],
          "mesh3d": [
           {
            "colorbar": {
             "outlinewidth": 0,
             "ticks": ""
            },
            "type": "mesh3d"
           }
          ],
          "parcoords": [
           {
            "line": {
             "colorbar": {
              "outlinewidth": 0,
              "ticks": ""
             }
            },
            "type": "parcoords"
           }
          ],
          "pie": [
           {
            "automargin": true,
            "type": "pie"
           }
          ],
          "scatter": [
           {
            "fillpattern": {
             "fillmode": "overlay",
             "size": 10,
             "solidity": 0.2
            },
            "type": "scatter"
           }
          ],
          "scatter3d": [
           {
            "line": {
             "colorbar": {
              "outlinewidth": 0,
              "ticks": ""
             }
            },
            "marker": {
             "colorbar": {
              "outlinewidth": 0,
              "ticks": ""
             }
            },
            "type": "scatter3d"
           }
          ],
          "scattercarpet": [
           {
            "marker": {
             "colorbar": {
              "outlinewidth": 0,
              "ticks": ""
             }
            },
            "type": "scattercarpet"
           }
          ],
          "scattergeo": [
           {
            "marker": {
             "colorbar": {
              "outlinewidth": 0,
              "ticks": ""
             }
            },
            "type": "scattergeo"
           }
          ],
          "scattergl": [
           {
            "marker": {
             "colorbar": {
              "outlinewidth": 0,
              "ticks": ""
             }
            },
            "type": "scattergl"
           }
          ],
          "scattermapbox": [
           {
            "marker": {
             "colorbar": {
              "outlinewidth": 0,
              "ticks": ""
             }
            },
            "type": "scattermapbox"
           }
          ],
          "scatterpolar": [
           {
            "marker": {
             "colorbar": {
              "outlinewidth": 0,
              "ticks": ""
             }
            },
            "type": "scatterpolar"
           }
          ],
          "scatterpolargl": [
           {
            "marker": {
             "colorbar": {
              "outlinewidth": 0,
              "ticks": ""
             }
            },
            "type": "scatterpolargl"
           }
          ],
          "scatterternary": [
           {
            "marker": {
             "colorbar": {
              "outlinewidth": 0,
              "ticks": ""
             }
            },
            "type": "scatterternary"
           }
          ],
          "surface": [
           {
            "colorbar": {
             "outlinewidth": 0,
             "ticks": ""
            },
            "colorscale": [
             [
              0,
              "#0d0887"
             ],
             [
              0.1111111111111111,
              "#46039f"
             ],
             [
              0.2222222222222222,
              "#7201a8"
             ],
             [
              0.3333333333333333,
              "#9c179e"
             ],
             [
              0.4444444444444444,
              "#bd3786"
             ],
             [
              0.5555555555555556,
              "#d8576b"
             ],
             [
              0.6666666666666666,
              "#ed7953"
             ],
             [
              0.7777777777777778,
              "#fb9f3a"
             ],
             [
              0.8888888888888888,
              "#fdca26"
             ],
             [
              1,
              "#f0f921"
             ]
            ],
            "type": "surface"
           }
          ],
          "table": [
           {
            "cells": {
             "fill": {
              "color": "#EBF0F8"
             },
             "line": {
              "color": "white"
             }
            },
            "header": {
             "fill": {
              "color": "#C8D4E3"
             },
             "line": {
              "color": "white"
             }
            },
            "type": "table"
           }
          ]
         },
         "layout": {
          "annotationdefaults": {
           "arrowcolor": "#2a3f5f",
           "arrowhead": 0,
           "arrowwidth": 1
          },
          "autotypenumbers": "strict",
          "coloraxis": {
           "colorbar": {
            "outlinewidth": 0,
            "ticks": ""
           }
          },
          "colorscale": {
           "diverging": [
            [
             0,
             "#8e0152"
            ],
            [
             0.1,
             "#c51b7d"
            ],
            [
             0.2,
             "#de77ae"
            ],
            [
             0.3,
             "#f1b6da"
            ],
            [
             0.4,
             "#fde0ef"
            ],
            [
             0.5,
             "#f7f7f7"
            ],
            [
             0.6,
             "#e6f5d0"
            ],
            [
             0.7,
             "#b8e186"
            ],
            [
             0.8,
             "#7fbc41"
            ],
            [
             0.9,
             "#4d9221"
            ],
            [
             1,
             "#276419"
            ]
           ],
           "sequential": [
            [
             0,
             "#0d0887"
            ],
            [
             0.1111111111111111,
             "#46039f"
            ],
            [
             0.2222222222222222,
             "#7201a8"
            ],
            [
             0.3333333333333333,
             "#9c179e"
            ],
            [
             0.4444444444444444,
             "#bd3786"
            ],
            [
             0.5555555555555556,
             "#d8576b"
            ],
            [
             0.6666666666666666,
             "#ed7953"
            ],
            [
             0.7777777777777778,
             "#fb9f3a"
            ],
            [
             0.8888888888888888,
             "#fdca26"
            ],
            [
             1,
             "#f0f921"
            ]
           ],
           "sequentialminus": [
            [
             0,
             "#0d0887"
            ],
            [
             0.1111111111111111,
             "#46039f"
            ],
            [
             0.2222222222222222,
             "#7201a8"
            ],
            [
             0.3333333333333333,
             "#9c179e"
            ],
            [
             0.4444444444444444,
             "#bd3786"
            ],
            [
             0.5555555555555556,
             "#d8576b"
            ],
            [
             0.6666666666666666,
             "#ed7953"
            ],
            [
             0.7777777777777778,
             "#fb9f3a"
            ],
            [
             0.8888888888888888,
             "#fdca26"
            ],
            [
             1,
             "#f0f921"
            ]
           ]
          },
          "colorway": [
           "#636efa",
           "#EF553B",
           "#00cc96",
           "#ab63fa",
           "#FFA15A",
           "#19d3f3",
           "#FF6692",
           "#B6E880",
           "#FF97FF",
           "#FECB52"
          ],
          "font": {
           "color": "#2a3f5f"
          },
          "geo": {
           "bgcolor": "white",
           "lakecolor": "white",
           "landcolor": "#E5ECF6",
           "showlakes": true,
           "showland": true,
           "subunitcolor": "white"
          },
          "hoverlabel": {
           "align": "left"
          },
          "hovermode": "closest",
          "mapbox": {
           "style": "light"
          },
          "paper_bgcolor": "white",
          "plot_bgcolor": "#E5ECF6",
          "polar": {
           "angularaxis": {
            "gridcolor": "white",
            "linecolor": "white",
            "ticks": ""
           },
           "bgcolor": "#E5ECF6",
           "radialaxis": {
            "gridcolor": "white",
            "linecolor": "white",
            "ticks": ""
           }
          },
          "scene": {
           "xaxis": {
            "backgroundcolor": "#E5ECF6",
            "gridcolor": "white",
            "gridwidth": 2,
            "linecolor": "white",
            "showbackground": true,
            "ticks": "",
            "zerolinecolor": "white"
           },
           "yaxis": {
            "backgroundcolor": "#E5ECF6",
            "gridcolor": "white",
            "gridwidth": 2,
            "linecolor": "white",
            "showbackground": true,
            "ticks": "",
            "zerolinecolor": "white"
           },
           "zaxis": {
            "backgroundcolor": "#E5ECF6",
            "gridcolor": "white",
            "gridwidth": 2,
            "linecolor": "white",
            "showbackground": true,
            "ticks": "",
            "zerolinecolor": "white"
           }
          },
          "shapedefaults": {
           "line": {
            "color": "#2a3f5f"
           }
          },
          "ternary": {
           "aaxis": {
            "gridcolor": "white",
            "linecolor": "white",
            "ticks": ""
           },
           "baxis": {
            "gridcolor": "white",
            "linecolor": "white",
            "ticks": ""
           },
           "bgcolor": "#E5ECF6",
           "caxis": {
            "gridcolor": "white",
            "linecolor": "white",
            "ticks": ""
           }
          },
          "title": {
           "x": 0.05
          },
          "xaxis": {
           "automargin": true,
           "gridcolor": "white",
           "linecolor": "white",
           "ticks": "",
           "title": {
            "standoff": 15
           },
           "zerolinecolor": "white",
           "zerolinewidth": 2
          },
          "yaxis": {
           "automargin": true,
           "gridcolor": "white",
           "linecolor": "white",
           "ticks": "",
           "title": {
            "standoff": 15
           },
           "zerolinecolor": "white",
           "zerolinewidth": 2
          }
         }
        },
        "title": {
         "text": "Event Funnel"
        }
       }
      }
     },
     "metadata": {},
     "output_type": "display_data"
    }
   ],
   "source": [
    "fig = go.Figure(\n",
    "    go.Funnel(\n",
    "        y=[\n",
    "            'Main Screen Viewed',\n",
    "            'Offers Screen Viewed',\n",
    "            'Cart Accessed',\n",
    "            'Purchase Completed'\n",
    "\n",
    ",\n",
    "        ],\n",
    "        x=count_by_users[\"users_total\"], \n",
    "    )\n",
    ")\n",
    "\n",
    "fig.update_layout(\n",
    "    title=\"Event Funnel\",font=dict(\n",
    "        family=\"Courier New, monospace\",\n",
    "        size=16,\n",
    "        color=\"RebeccaPurple\"))\n",
    "\n",
    "fig.show() "
   ]
  },
  {
   "cell_type": "code",
   "execution_count": 37,
   "id": "9ce77da1",
   "metadata": {},
   "outputs": [
    {
     "data": {
      "image/png": "[encoded data removed]",
      "text/plain": [
       "<Figure size 1000x600 with 1 Axes>"
      ]
     },
     "metadata": {},
     "output_type": "display_data"
    }
   ],
   "source": [
    "fig, ax = plt.subplots(figsize=(10, 6))\n",
    "bars = ax.bar(count_by_users['event_name'], count_by_users['users_total'], color='green')\n",
    "\n",
    "# Add value labels on top of each bar\n",
    "for bar in bars:\n",
    "    height = bar.get_height()\n",
    "    ax.text(\n",
    "        bar.get_x() + bar.get_width() / 2,   # x position (center of the bar)\n",
    "        height,                              # y position (top of the bar)\n",
    "        f'{int(height)}',                    # label text\n",
    "        ha='center', va='bottom'             # alignment\n",
    "    )\n",
    "\n",
    "ax.set_title('Number of Users by Funnel Stage')\n",
    "ax.set_xlabel('Event Name')\n",
    "ax.set_ylabel('Number of Unique Users')\n",
    "ax.tick_params(axis='x', rotation=45)\n",
    "\n",
    "plt.tight_layout()\n",
    "plt.show()\n",
    "\n"
   ]
  },
  {
   "cell_type": "markdown",
   "id": "8e5b15d4",
   "metadata": {},
   "source": [
    "**Funnel Analysis Findings:**\n",
    "\n",
    "* **61.9%** of users who opened the main screen proceeded to the offers screen.\n",
    "* **81.3%** of those who visited the offers screen moved to the cart to place an order.\n",
    "* **94.6%** of users who accessed the cart completed a purchase.\n",
    "* In total, **47.7%** of users progressed from the initial event (Main Screen Viewed) to the final event (Purchase Completed).\n",
    "\n",
    "The largest drop-off occurs at the very first step — after viewing the main screen.\n"
   ]
  },
  {
   "cell_type": "markdown",
   "id": "fe19b54f",
   "metadata": {},
   "source": [
    "## Analysis of Experiment Results\n",
    "\n",
    "In this section, we will analyze the A/A/B experiment conducted by the company. The purpose of the experiment was to assess the impact of a new font on user behavior in the mobile application.\n",
    "\n",
    "There are three groups in the dataset:\n",
    "- **Group 246**: Control Group A_1 (old font)\n",
    "- **Group 247**: Control Group A_2 (old font)\n",
    "- **Group 248**: Experimental Group B (new font)"
   ]
  },
  {
   "cell_type": "markdown",
   "id": "b6714791",
   "metadata": {},
   "source": [
    "### Number of unique users per experiment group"
   ]
  },
  {
   "cell_type": "code",
   "execution_count": 38,
   "id": "153f0913",
   "metadata": {},
   "outputs": [],
   "source": [
    "df = df.reset_index(drop = True)"
   ]
  },
  {
   "cell_type": "markdown",
   "id": "8486a0f2",
   "metadata": {},
   "source": [
    "I will replace the experiment IDs with letter labels:\n",
    "\n",
    "246 → A_1\n",
    "\n",
    "247 → A_2\n",
    "\n",
    "248 → B\n"
   ]
  },
  {
   "cell_type": "code",
   "execution_count": 39,
   "id": "6e145d5a",
   "metadata": {},
   "outputs": [],
   "source": [
    "full_data['exp_id'] = full_data['exp_id'].replace(246,'A_1')\n",
    "full_data['exp_id'] = full_data['exp_id'].replace(247,'A_2')\n",
    "full_data['exp_id'] = full_data['exp_id'].replace(248,'B')"
   ]
  },
  {
   "cell_type": "code",
   "execution_count": 40,
   "id": "c2cc4f51",
   "metadata": {},
   "outputs": [
    {
     "data": {
      "text/html": [
       "<div>\n",
       "<style scoped>\n",
       "    .dataframe tbody tr th:only-of-type {\n",
       "        vertical-align: middle;\n",
       "    }\n",
       "\n",
       "    .dataframe tbody tr th {\n",
       "        vertical-align: top;\n",
       "    }\n",
       "\n",
       "    .dataframe thead th {\n",
       "        text-align: right;\n",
       "    }\n",
       "</style>\n",
       "<table border=\"1\" class=\"dataframe\">\n",
       "  <thead>\n",
       "    <tr style=\"text-align: right;\">\n",
       "      <th></th>\n",
       "      <th>event_name</th>\n",
       "      <th>device_id</th>\n",
       "      <th>event_timestamp</th>\n",
       "      <th>exp_id</th>\n",
       "      <th>event_date_time</th>\n",
       "      <th>date</th>\n",
       "    </tr>\n",
       "  </thead>\n",
       "  <tbody>\n",
       "    <tr>\n",
       "      <th>2826</th>\n",
       "      <td>Tutorial</td>\n",
       "      <td>3737462046622621720</td>\n",
       "      <td>1564618048</td>\n",
       "      <td>A_1</td>\n",
       "      <td>2019-08-01 00:07:28</td>\n",
       "      <td>2019-08-01</td>\n",
       "    </tr>\n",
       "    <tr>\n",
       "      <th>2827</th>\n",
       "      <td>MainScreenAppear</td>\n",
       "      <td>3737462046622621720</td>\n",
       "      <td>1564618080</td>\n",
       "      <td>A_1</td>\n",
       "      <td>2019-08-01 00:08:00</td>\n",
       "      <td>2019-08-01</td>\n",
       "    </tr>\n",
       "    <tr>\n",
       "      <th>2828</th>\n",
       "      <td>MainScreenAppear</td>\n",
       "      <td>3737462046622621720</td>\n",
       "      <td>1564618135</td>\n",
       "      <td>A_1</td>\n",
       "      <td>2019-08-01 00:08:55</td>\n",
       "      <td>2019-08-01</td>\n",
       "    </tr>\n",
       "    <tr>\n",
       "      <th>2829</th>\n",
       "      <td>OffersScreenAppear</td>\n",
       "      <td>3737462046622621720</td>\n",
       "      <td>1564618138</td>\n",
       "      <td>A_1</td>\n",
       "      <td>2019-08-01 00:08:58</td>\n",
       "      <td>2019-08-01</td>\n",
       "    </tr>\n",
       "    <tr>\n",
       "      <th>2830</th>\n",
       "      <td>MainScreenAppear</td>\n",
       "      <td>1433840883824088890</td>\n",
       "      <td>1564618139</td>\n",
       "      <td>A_2</td>\n",
       "      <td>2019-08-01 00:08:59</td>\n",
       "      <td>2019-08-01</td>\n",
       "    </tr>\n",
       "  </tbody>\n",
       "</table>\n",
       "</div>"
      ],
      "text/plain": [
       "              event_name            device_id  event_timestamp exp_id  \\\n",
       "2826            Tutorial  3737462046622621720       1564618048    A_1   \n",
       "2827    MainScreenAppear  3737462046622621720       1564618080    A_1   \n",
       "2828    MainScreenAppear  3737462046622621720       1564618135    A_1   \n",
       "2829  OffersScreenAppear  3737462046622621720       1564618138    A_1   \n",
       "2830    MainScreenAppear  1433840883824088890       1564618139    A_2   \n",
       "\n",
       "         event_date_time       date  \n",
       "2826 2019-08-01 00:07:28 2019-08-01  \n",
       "2827 2019-08-01 00:08:00 2019-08-01  \n",
       "2828 2019-08-01 00:08:55 2019-08-01  \n",
       "2829 2019-08-01 00:08:58 2019-08-01  \n",
       "2830 2019-08-01 00:08:59 2019-08-01  "
      ]
     },
     "execution_count": 40,
     "metadata": {},
     "output_type": "execute_result"
    }
   ],
   "source": [
    "full_data.head()"
   ]
  },
  {
   "cell_type": "code",
   "execution_count": 41,
   "id": "e5bc40fd",
   "metadata": {
    "scrolled": false
   },
   "outputs": [
    {
     "data": {
      "text/plain": [
       "exp_id\n",
       "A_1    2484\n",
       "A_2    2513\n",
       "B      2537\n",
       "Name: device_id, dtype: int64"
      ]
     },
     "execution_count": 41,
     "metadata": {},
     "output_type": "execute_result"
    }
   ],
   "source": [
    "full_data.groupby(by = 'exp_id')['device_id'].nunique()"
   ]
  },
  {
   "cell_type": "markdown",
   "id": "7960aa04",
   "metadata": {},
   "source": [
    "The groups can be considered equal in size, with only a minor difference of about 1% between A\\_1 and A\\_2.\n"
   ]
  },
  {
   "cell_type": "code",
   "execution_count": 42,
   "id": "608ec6ab",
   "metadata": {},
   "outputs": [],
   "source": [
    "A_1_group = full_data.query('exp_id == \"A_1\"')\n",
    "A_2_group = full_data.query('exp_id == \"A_2\"')\n",
    "B_group = full_data.query('exp_id == \"B\"')"
   ]
  },
  {
   "cell_type": "code",
   "execution_count": 43,
   "id": "de3f02e2",
   "metadata": {},
   "outputs": [
    {
     "data": {
      "text/html": [
       "<div>\n",
       "<style scoped>\n",
       "    .dataframe tbody tr th:only-of-type {\n",
       "        vertical-align: middle;\n",
       "    }\n",
       "\n",
       "    .dataframe tbody tr th {\n",
       "        vertical-align: top;\n",
       "    }\n",
       "\n",
       "    .dataframe thead th {\n",
       "        text-align: right;\n",
       "    }\n",
       "</style>\n",
       "<table border=\"1\" class=\"dataframe\">\n",
       "  <thead>\n",
       "    <tr style=\"text-align: right;\">\n",
       "      <th></th>\n",
       "      <th>event_name</th>\n",
       "      <th>device_id</th>\n",
       "      <th>event_timestamp</th>\n",
       "      <th>exp_id</th>\n",
       "      <th>event_date_time</th>\n",
       "      <th>date</th>\n",
       "    </tr>\n",
       "  </thead>\n",
       "  <tbody>\n",
       "    <tr>\n",
       "      <th>2826</th>\n",
       "      <td>Tutorial</td>\n",
       "      <td>3737462046622621720</td>\n",
       "      <td>1564618048</td>\n",
       "      <td>A_1</td>\n",
       "      <td>2019-08-01 00:07:28</td>\n",
       "      <td>2019-08-01</td>\n",
       "    </tr>\n",
       "    <tr>\n",
       "      <th>2827</th>\n",
       "      <td>MainScreenAppear</td>\n",
       "      <td>3737462046622621720</td>\n",
       "      <td>1564618080</td>\n",
       "      <td>A_1</td>\n",
       "      <td>2019-08-01 00:08:00</td>\n",
       "      <td>2019-08-01</td>\n",
       "    </tr>\n",
       "    <tr>\n",
       "      <th>2828</th>\n",
       "      <td>MainScreenAppear</td>\n",
       "      <td>3737462046622621720</td>\n",
       "      <td>1564618135</td>\n",
       "      <td>A_1</td>\n",
       "      <td>2019-08-01 00:08:55</td>\n",
       "      <td>2019-08-01</td>\n",
       "    </tr>\n",
       "    <tr>\n",
       "      <th>2829</th>\n",
       "      <td>OffersScreenAppear</td>\n",
       "      <td>3737462046622621720</td>\n",
       "      <td>1564618138</td>\n",
       "      <td>A_1</td>\n",
       "      <td>2019-08-01 00:08:58</td>\n",
       "      <td>2019-08-01</td>\n",
       "    </tr>\n",
       "    <tr>\n",
       "      <th>2832</th>\n",
       "      <td>OffersScreenAppear</td>\n",
       "      <td>3737462046622621720</td>\n",
       "      <td>1564618226</td>\n",
       "      <td>A_1</td>\n",
       "      <td>2019-08-01 00:10:26</td>\n",
       "      <td>2019-08-01</td>\n",
       "    </tr>\n",
       "  </tbody>\n",
       "</table>\n",
       "</div>"
      ],
      "text/plain": [
       "              event_name            device_id  event_timestamp exp_id  \\\n",
       "2826            Tutorial  3737462046622621720       1564618048    A_1   \n",
       "2827    MainScreenAppear  3737462046622621720       1564618080    A_1   \n",
       "2828    MainScreenAppear  3737462046622621720       1564618135    A_1   \n",
       "2829  OffersScreenAppear  3737462046622621720       1564618138    A_1   \n",
       "2832  OffersScreenAppear  3737462046622621720       1564618226    A_1   \n",
       "\n",
       "         event_date_time       date  \n",
       "2826 2019-08-01 00:07:28 2019-08-01  \n",
       "2827 2019-08-01 00:08:00 2019-08-01  \n",
       "2828 2019-08-01 00:08:55 2019-08-01  \n",
       "2829 2019-08-01 00:08:58 2019-08-01  \n",
       "2832 2019-08-01 00:10:26 2019-08-01  "
      ]
     },
     "execution_count": 43,
     "metadata": {},
     "output_type": "execute_result"
    }
   ],
   "source": [
    "A_1_group.head()"
   ]
  },
  {
   "cell_type": "markdown",
   "id": "34d0ae5d",
   "metadata": {},
   "source": [
    "Retrieving funnel data for group A\\_1:\n"
   ]
  },
  {
   "cell_type": "code",
   "execution_count": 44,
   "id": "26d78ceb",
   "metadata": {},
   "outputs": [],
   "source": [
    "A_1_funnel= A_1_group.query(\n",
    "    'event_name != \"Tutorial\"').groupby(\n",
    "    by = 'event_name')['device_id'].nunique().sort_values(ascending=False).reset_index()\n",
    "A_1_funnel.columns = ['event_name','users_A_1']"
   ]
  },
  {
   "cell_type": "code",
   "execution_count": 45,
   "id": "76279a8d",
   "metadata": {},
   "outputs": [
    {
     "data": {
      "text/html": [
       "<div>\n",
       "<style scoped>\n",
       "    .dataframe tbody tr th:only-of-type {\n",
       "        vertical-align: middle;\n",
       "    }\n",
       "\n",
       "    .dataframe tbody tr th {\n",
       "        vertical-align: top;\n",
       "    }\n",
       "\n",
       "    .dataframe thead th {\n",
       "        text-align: right;\n",
       "    }\n",
       "</style>\n",
       "<table border=\"1\" class=\"dataframe\">\n",
       "  <thead>\n",
       "    <tr style=\"text-align: right;\">\n",
       "      <th></th>\n",
       "      <th>event_name</th>\n",
       "      <th>users_A_1</th>\n",
       "    </tr>\n",
       "  </thead>\n",
       "  <tbody>\n",
       "    <tr>\n",
       "      <th>0</th>\n",
       "      <td>MainScreenAppear</td>\n",
       "      <td>2450</td>\n",
       "    </tr>\n",
       "    <tr>\n",
       "      <th>1</th>\n",
       "      <td>OffersScreenAppear</td>\n",
       "      <td>1542</td>\n",
       "    </tr>\n",
       "    <tr>\n",
       "      <th>2</th>\n",
       "      <td>CartScreenAppear</td>\n",
       "      <td>1266</td>\n",
       "    </tr>\n",
       "    <tr>\n",
       "      <th>3</th>\n",
       "      <td>PaymentScreenSuccessful</td>\n",
       "      <td>1200</td>\n",
       "    </tr>\n",
       "  </tbody>\n",
       "</table>\n",
       "</div>"
      ],
      "text/plain": [
       "                event_name  users_A_1\n",
       "0         MainScreenAppear       2450\n",
       "1       OffersScreenAppear       1542\n",
       "2         CartScreenAppear       1266\n",
       "3  PaymentScreenSuccessful       1200"
      ]
     },
     "execution_count": 45,
     "metadata": {},
     "output_type": "execute_result"
    }
   ],
   "source": [
    "A_1_funnel"
   ]
  },
  {
   "cell_type": "markdown",
   "id": "aae4408d",
   "metadata": {},
   "source": [
    "Retrieving funnel data for group A_2:"
   ]
  },
  {
   "cell_type": "code",
   "execution_count": 46,
   "id": "27676061",
   "metadata": {},
   "outputs": [],
   "source": [
    "A_2_funnel= A_2_group.query(\n",
    "    'event_name != \"Tutorial\"').groupby(\n",
    "    by = 'event_name')['device_id'].nunique().sort_values(ascending=False).reset_index()\n",
    "A_2_funnel.columns = ['event_name','users_A_2']"
   ]
  },
  {
   "cell_type": "code",
   "execution_count": 47,
   "id": "c4c09255",
   "metadata": {
    "scrolled": true
   },
   "outputs": [
    {
     "data": {
      "text/html": [
       "<div>\n",
       "<style scoped>\n",
       "    .dataframe tbody tr th:only-of-type {\n",
       "        vertical-align: middle;\n",
       "    }\n",
       "\n",
       "    .dataframe tbody tr th {\n",
       "        vertical-align: top;\n",
       "    }\n",
       "\n",
       "    .dataframe thead th {\n",
       "        text-align: right;\n",
       "    }\n",
       "</style>\n",
       "<table border=\"1\" class=\"dataframe\">\n",
       "  <thead>\n",
       "    <tr style=\"text-align: right;\">\n",
       "      <th></th>\n",
       "      <th>event_name</th>\n",
       "      <th>users_A_2</th>\n",
       "    </tr>\n",
       "  </thead>\n",
       "  <tbody>\n",
       "    <tr>\n",
       "      <th>0</th>\n",
       "      <td>MainScreenAppear</td>\n",
       "      <td>2476</td>\n",
       "    </tr>\n",
       "    <tr>\n",
       "      <th>1</th>\n",
       "      <td>OffersScreenAppear</td>\n",
       "      <td>1520</td>\n",
       "    </tr>\n",
       "    <tr>\n",
       "      <th>2</th>\n",
       "      <td>CartScreenAppear</td>\n",
       "      <td>1238</td>\n",
       "    </tr>\n",
       "    <tr>\n",
       "      <th>3</th>\n",
       "      <td>PaymentScreenSuccessful</td>\n",
       "      <td>1158</td>\n",
       "    </tr>\n",
       "  </tbody>\n",
       "</table>\n",
       "</div>"
      ],
      "text/plain": [
       "                event_name  users_A_2\n",
       "0         MainScreenAppear       2476\n",
       "1       OffersScreenAppear       1520\n",
       "2         CartScreenAppear       1238\n",
       "3  PaymentScreenSuccessful       1158"
      ]
     },
     "execution_count": 47,
     "metadata": {},
     "output_type": "execute_result"
    }
   ],
   "source": [
    "A_2_funnel"
   ]
  },
  {
   "cell_type": "markdown",
   "id": "07b72dd5",
   "metadata": {},
   "source": [
    "Retrieving funnel data for group B:"
   ]
  },
  {
   "cell_type": "code",
   "execution_count": 48,
   "id": "30f759a1",
   "metadata": {},
   "outputs": [],
   "source": [
    "B_funnel= B_group.query(\n",
    "    'event_name != \"Tutorial\"').groupby(\n",
    "    by = 'event_name')['device_id'].nunique().sort_values(ascending=False).reset_index()\n",
    "B_funnel.columns = ['event_name','users_B']"
   ]
  },
  {
   "cell_type": "code",
   "execution_count": 49,
   "id": "1e8124ef",
   "metadata": {},
   "outputs": [
    {
     "data": {
      "text/html": [
       "<div>\n",
       "<style scoped>\n",
       "    .dataframe tbody tr th:only-of-type {\n",
       "        vertical-align: middle;\n",
       "    }\n",
       "\n",
       "    .dataframe tbody tr th {\n",
       "        vertical-align: top;\n",
       "    }\n",
       "\n",
       "    .dataframe thead th {\n",
       "        text-align: right;\n",
       "    }\n",
       "</style>\n",
       "<table border=\"1\" class=\"dataframe\">\n",
       "  <thead>\n",
       "    <tr style=\"text-align: right;\">\n",
       "      <th></th>\n",
       "      <th>event_name</th>\n",
       "      <th>users_B</th>\n",
       "    </tr>\n",
       "  </thead>\n",
       "  <tbody>\n",
       "    <tr>\n",
       "      <th>0</th>\n",
       "      <td>MainScreenAppear</td>\n",
       "      <td>2493</td>\n",
       "    </tr>\n",
       "    <tr>\n",
       "      <th>1</th>\n",
       "      <td>OffersScreenAppear</td>\n",
       "      <td>1531</td>\n",
       "    </tr>\n",
       "    <tr>\n",
       "      <th>2</th>\n",
       "      <td>CartScreenAppear</td>\n",
       "      <td>1230</td>\n",
       "    </tr>\n",
       "    <tr>\n",
       "      <th>3</th>\n",
       "      <td>PaymentScreenSuccessful</td>\n",
       "      <td>1181</td>\n",
       "    </tr>\n",
       "  </tbody>\n",
       "</table>\n",
       "</div>"
      ],
      "text/plain": [
       "                event_name  users_B\n",
       "0         MainScreenAppear     2493\n",
       "1       OffersScreenAppear     1531\n",
       "2         CartScreenAppear     1230\n",
       "3  PaymentScreenSuccessful     1181"
      ]
     },
     "execution_count": 49,
     "metadata": {},
     "output_type": "execute_result"
    }
   ],
   "source": [
    "B_funnel"
   ]
  },
  {
   "cell_type": "markdown",
   "id": "1c570d4d",
   "metadata": {},
   "source": [
    "All three groups together."
   ]
  },
  {
   "cell_type": "code",
   "execution_count": 50,
   "id": "94970143",
   "metadata": {},
   "outputs": [],
   "source": [
    "funnels = A_1_funnel.merge(A_2_funnel, on = 'event_name', how = 'left'\n",
    "                          ).merge(B_funnel,on = 'event_name',how = 'left')\n",
    "# add united control group AA:\n",
    "\n",
    "funnels['users_AA'] = funnels['users_A_1']+funnels['users_A_2']"
   ]
  },
  {
   "cell_type": "code",
   "execution_count": 51,
   "id": "97b7042d",
   "metadata": {
    "scrolled": false
   },
   "outputs": [
    {
     "data": {
      "text/html": [
       "<div>\n",
       "<style scoped>\n",
       "    .dataframe tbody tr th:only-of-type {\n",
       "        vertical-align: middle;\n",
       "    }\n",
       "\n",
       "    .dataframe tbody tr th {\n",
       "        vertical-align: top;\n",
       "    }\n",
       "\n",
       "    .dataframe thead th {\n",
       "        text-align: right;\n",
       "    }\n",
       "</style>\n",
       "<table border=\"1\" class=\"dataframe\">\n",
       "  <thead>\n",
       "    <tr style=\"text-align: right;\">\n",
       "      <th></th>\n",
       "      <th>event_name</th>\n",
       "      <th>users_A_1</th>\n",
       "      <th>users_A_2</th>\n",
       "      <th>users_B</th>\n",
       "      <th>users_AA</th>\n",
       "    </tr>\n",
       "  </thead>\n",
       "  <tbody>\n",
       "    <tr>\n",
       "      <th>0</th>\n",
       "      <td>MainScreenAppear</td>\n",
       "      <td>2450</td>\n",
       "      <td>2476</td>\n",
       "      <td>2493</td>\n",
       "      <td>4926</td>\n",
       "    </tr>\n",
       "    <tr>\n",
       "      <th>1</th>\n",
       "      <td>OffersScreenAppear</td>\n",
       "      <td>1542</td>\n",
       "      <td>1520</td>\n",
       "      <td>1531</td>\n",
       "      <td>3062</td>\n",
       "    </tr>\n",
       "    <tr>\n",
       "      <th>2</th>\n",
       "      <td>CartScreenAppear</td>\n",
       "      <td>1266</td>\n",
       "      <td>1238</td>\n",
       "      <td>1230</td>\n",
       "      <td>2504</td>\n",
       "    </tr>\n",
       "    <tr>\n",
       "      <th>3</th>\n",
       "      <td>PaymentScreenSuccessful</td>\n",
       "      <td>1200</td>\n",
       "      <td>1158</td>\n",
       "      <td>1181</td>\n",
       "      <td>2358</td>\n",
       "    </tr>\n",
       "  </tbody>\n",
       "</table>\n",
       "</div>"
      ],
      "text/plain": [
       "                event_name  users_A_1  users_A_2  users_B  users_AA\n",
       "0         MainScreenAppear       2450       2476     2493      4926\n",
       "1       OffersScreenAppear       1542       1520     1531      3062\n",
       "2         CartScreenAppear       1266       1238     1230      2504\n",
       "3  PaymentScreenSuccessful       1200       1158     1181      2358"
      ]
     },
     "execution_count": 51,
     "metadata": {},
     "output_type": "execute_result"
    }
   ],
   "source": [
    "funnels"
   ]
  },
  {
   "cell_type": "markdown",
   "id": "22d541de",
   "metadata": {},
   "source": [
    "### Z test\n",
    "\n",
    "To compare the conversion rates between groups in the A/A/B experiment, we applied a **Z-test for proportions**. This test is appropriate in our case for the following reasons:\n",
    "\n",
    "- **We are comparing proportions**, not means — specifically, the proportion of users who completed each step of the funnel within each experimental group.\n",
    "- **Sample sizes in all groups are large (thousands of users)**, which satisfies the conditions for using the Z-test. According to the Central Limit Theorem, with a large sample size, the sampling distribution of proportions approximates a normal distribution.\n",
    "\n",
    "Because of these factors, the Z-test is the most suitable method for evaluating whether the observed differences in conversion rates are statistically significant.\n"
   ]
  },
  {
   "cell_type": "markdown",
   "id": "02b86448",
   "metadata": {},
   "source": [
    "To ensure the reliability of the subsequent A/B test, we will first conduct an A/A test. The goal is to confirm that the two control groups, A_1 and A_2, perform similarly and that the application behaves consistently for both.\n",
    "\n",
    "Before testing, we formulate the following hypotheses:\n",
    "\n",
    "H₀ (Null Hypothesis): There is no statistically significant difference in conversion rates between groups A_1 and A_2.\n",
    "\n",
    "H₁ (Alternative Hypothesis): There is a statistically significant difference in conversion rates between groups A_1 and A_2.\n",
    "\n"
   ]
  },
  {
   "cell_type": "code",
   "execution_count": 52,
   "id": "ce7b58d3",
   "metadata": {},
   "outputs": [],
   "source": [
    "### Z-Test Function to Compare Proportions Between Two Groups\n",
    "\n",
    "#The function below is used to compare conversion rates (proportions) between two independent groups\n",
    "# using a two-tailed z-test. It helps evaluate whether the observed differences in proportions are statistically significant.\n",
    "\n",
    "\n",
    "def z_test(trials, successes, alpha):\n",
    "    # Proportion of successes in the first group:\n",
    "    p1 = successes[0] / trials[0]\n",
    "\n",
    "    # Proportion of successes in the second group:\n",
    "    p2 = successes[1] / trials[1]\n",
    "\n",
    "    # Combined success proportion across both groups:\n",
    "    p_combined = (successes[0] + successes[1]) / (trials[0] + trials[1])\n",
    "\n",
    "    # Difference between the two proportions:\n",
    "    difference = p1 - p2 \n",
    "\n",
    "    # Calculate the z-statistic using the formula for the standard error:\n",
    "    z_value = difference / mth.sqrt(\n",
    "        p_combined * (1 - p_combined) * (1/trials[0] + 1/trials[1])\n",
    "    )\n",
    "\n",
    "    # Standard normal distribution (mean = 0, std = 1):\n",
    "    distr = st.norm(0, 1)\n",
    "\n",
    "    # Two-tailed p-value:\n",
    "    p_value = (1 - distr.cdf(abs(z_value))) * 2\n",
    "\n",
    "    print('p-value:', p_value)\n",
    "\n",
    "    if p_value < alpha:\n",
    "        print('Reject the null hypothesis: there is a statistically significant difference between the proportions')\n",
    "    else:\n",
    "        print('Fail to reject the null hypothesis: no statistically significant difference between the proportions')\n"
   ]
  },
  {
   "cell_type": "code",
   "execution_count": 53,
   "id": "eb2bf6e2",
   "metadata": {},
   "outputs": [
    {
     "data": {
      "text/plain": [
       "<map at 0x170a833a0>"
      ]
     },
     "execution_count": 53,
     "metadata": {},
     "output_type": "execute_result"
    }
   ],
   "source": [
    "funnels.itertuples()"
   ]
  },
  {
   "cell_type": "code",
   "execution_count": 54,
   "id": "a8fce4fc",
   "metadata": {},
   "outputs": [
    {
     "name": "stdout",
     "output_type": "stream",
     "text": [
      "_____________\n",
      "MainScreenAppear\n",
      "p-value: 0.7570597232046099\n",
      "Fail to reject the null hypothesis: no statistically significant difference between the proportions\n",
      "_____________\n",
      "OffersScreenAppear\n",
      "p-value: 0.2480954578522181\n",
      "Fail to reject the null hypothesis: no statistically significant difference between the proportions\n",
      "_____________\n",
      "CartScreenAppear\n",
      "p-value: 0.22883372237997213\n",
      "Fail to reject the null hypothesis: no statistically significant difference between the proportions\n",
      "_____________\n",
      "PaymentScreenSuccessful\n",
      "p-value: 0.11456679313141849\n",
      "Fail to reject the null hypothesis: no statistically significant difference between the proportions\n"
     ]
    }
   ],
   "source": [
    "# Get the number of users in each control group (A_1 = 246, A_2 = 247)\n",
    "total_in_groups = list(full_data.groupby(by='exp_id')['device_id'].nunique())\n",
    "\n",
    "# Loop through each funnel step and perform the z-test\n",
    "for row in funnels.itertuples():\n",
    "    print('_____________')\n",
    "    print(row.event_name)\n",
    "\n",
    "    z_test(total_in_groups, [row.users_A_1, row.users_A_2], alpha=0.05)"
   ]
  },
  {
   "cell_type": "code",
   "execution_count": 55,
   "id": "13170185",
   "metadata": {},
   "outputs": [
    {
     "data": {
      "text/plain": [
       "[2484, 2513, 2537]"
      ]
     },
     "execution_count": 55,
     "metadata": {},
     "output_type": "execute_result"
    }
   ],
   "source": [
    "total_in_groups"
   ]
  },
  {
   "cell_type": "markdown",
   "id": "99f1be5b",
   "metadata": {},
   "source": [
    "Z-test results for groups A_1 and A_2 showed that there is no reason to consider the proportions in the samples significantly different. "
   ]
  },
  {
   "cell_type": "markdown",
   "id": "dbfc9497",
   "metadata": {},
   "source": [
    "### Events Comparison::"
   ]
  },
  {
   "cell_type": "code",
   "execution_count": 56,
   "id": "9edfb943",
   "metadata": {
    "scrolled": true
   },
   "outputs": [
    {
     "data": {
      "text/html": [
       "<div>\n",
       "<style scoped>\n",
       "    .dataframe tbody tr th:only-of-type {\n",
       "        vertical-align: middle;\n",
       "    }\n",
       "\n",
       "    .dataframe tbody tr th {\n",
       "        vertical-align: top;\n",
       "    }\n",
       "\n",
       "    .dataframe thead th {\n",
       "        text-align: right;\n",
       "    }\n",
       "</style>\n",
       "<table border=\"1\" class=\"dataframe\">\n",
       "  <thead>\n",
       "    <tr style=\"text-align: right;\">\n",
       "      <th></th>\n",
       "      <th>event_name</th>\n",
       "      <th>users_A_1</th>\n",
       "      <th>users_A_2</th>\n",
       "      <th>users_B</th>\n",
       "      <th>users_AA</th>\n",
       "    </tr>\n",
       "  </thead>\n",
       "  <tbody>\n",
       "    <tr>\n",
       "      <th>0</th>\n",
       "      <td>MainScreenAppear</td>\n",
       "      <td>2450</td>\n",
       "      <td>2476</td>\n",
       "      <td>2493</td>\n",
       "      <td>4926</td>\n",
       "    </tr>\n",
       "    <tr>\n",
       "      <th>1</th>\n",
       "      <td>OffersScreenAppear</td>\n",
       "      <td>1542</td>\n",
       "      <td>1520</td>\n",
       "      <td>1531</td>\n",
       "      <td>3062</td>\n",
       "    </tr>\n",
       "    <tr>\n",
       "      <th>2</th>\n",
       "      <td>CartScreenAppear</td>\n",
       "      <td>1266</td>\n",
       "      <td>1238</td>\n",
       "      <td>1230</td>\n",
       "      <td>2504</td>\n",
       "    </tr>\n",
       "    <tr>\n",
       "      <th>3</th>\n",
       "      <td>PaymentScreenSuccessful</td>\n",
       "      <td>1200</td>\n",
       "      <td>1158</td>\n",
       "      <td>1181</td>\n",
       "      <td>2358</td>\n",
       "    </tr>\n",
       "  </tbody>\n",
       "</table>\n",
       "</div>"
      ],
      "text/plain": [
       "                event_name  users_A_1  users_A_2  users_B  users_AA\n",
       "0         MainScreenAppear       2450       2476     2493      4926\n",
       "1       OffersScreenAppear       1542       1520     1531      3062\n",
       "2         CartScreenAppear       1266       1238     1230      2504\n",
       "3  PaymentScreenSuccessful       1200       1158     1181      2358"
      ]
     },
     "execution_count": 56,
     "metadata": {},
     "output_type": "execute_result"
    }
   ],
   "source": [
    "funnels"
   ]
  },
  {
   "cell_type": "code",
   "execution_count": 57,
   "id": "77d14116",
   "metadata": {},
   "outputs": [
    {
     "data": {
      "text/plain": [
       "[2484, 2513, 2537]"
      ]
     },
     "execution_count": 57,
     "metadata": {},
     "output_type": "execute_result"
    }
   ],
   "source": [
    "total_in_groups"
   ]
  },
  {
   "cell_type": "markdown",
   "id": "747cf93d",
   "metadata": {},
   "source": [
    "Now I calculate the **conversion rates** for each event across the experimental groups (A_1, A_2, B) and the combined control group (A_1 + A_2). The conversion rate here refers to the percentage of users in each group who performed a specific event."
   ]
  },
  {
   "cell_type": "code",
   "execution_count": 58,
   "id": "2019ad01",
   "metadata": {},
   "outputs": [],
   "source": [
    "funnels['share_A_1,%'] = funnels['users_A_1']/total_in_groups[0]*100\n",
    "funnels['share_A_2,%'] = funnels['users_A_2']/total_in_groups[1]*100\n",
    "funnels['share_B,%'] = funnels['users_B']/total_in_groups[2]*100\n",
    "funnels['share_AA,%'] = funnels['users_AA']/(total_in_groups[0] + total_in_groups[1])*100"
   ]
  },
  {
   "cell_type": "code",
   "execution_count": 59,
   "id": "78476dda",
   "metadata": {
    "scrolled": true
   },
   "outputs": [
    {
     "data": {
      "text/html": [
       "<div>\n",
       "<style scoped>\n",
       "    .dataframe tbody tr th:only-of-type {\n",
       "        vertical-align: middle;\n",
       "    }\n",
       "\n",
       "    .dataframe tbody tr th {\n",
       "        vertical-align: top;\n",
       "    }\n",
       "\n",
       "    .dataframe thead th {\n",
       "        text-align: right;\n",
       "    }\n",
       "</style>\n",
       "<table border=\"1\" class=\"dataframe\">\n",
       "  <thead>\n",
       "    <tr style=\"text-align: right;\">\n",
       "      <th></th>\n",
       "      <th>event_name</th>\n",
       "      <th>users_A_1</th>\n",
       "      <th>users_A_2</th>\n",
       "      <th>users_B</th>\n",
       "      <th>users_AA</th>\n",
       "      <th>share_A_1,%</th>\n",
       "      <th>share_A_2,%</th>\n",
       "      <th>share_B,%</th>\n",
       "      <th>share_AA,%</th>\n",
       "    </tr>\n",
       "  </thead>\n",
       "  <tbody>\n",
       "    <tr>\n",
       "      <th>0</th>\n",
       "      <td>MainScreenAppear</td>\n",
       "      <td>2450</td>\n",
       "      <td>2476</td>\n",
       "      <td>2493</td>\n",
       "      <td>4926</td>\n",
       "      <td>98.63</td>\n",
       "      <td>98.53</td>\n",
       "      <td>98.27</td>\n",
       "      <td>98.58</td>\n",
       "    </tr>\n",
       "    <tr>\n",
       "      <th>1</th>\n",
       "      <td>OffersScreenAppear</td>\n",
       "      <td>1542</td>\n",
       "      <td>1520</td>\n",
       "      <td>1531</td>\n",
       "      <td>3062</td>\n",
       "      <td>62.08</td>\n",
       "      <td>60.49</td>\n",
       "      <td>60.35</td>\n",
       "      <td>61.28</td>\n",
       "    </tr>\n",
       "    <tr>\n",
       "      <th>2</th>\n",
       "      <td>CartScreenAppear</td>\n",
       "      <td>1266</td>\n",
       "      <td>1238</td>\n",
       "      <td>1230</td>\n",
       "      <td>2504</td>\n",
       "      <td>50.97</td>\n",
       "      <td>49.26</td>\n",
       "      <td>48.48</td>\n",
       "      <td>50.11</td>\n",
       "    </tr>\n",
       "    <tr>\n",
       "      <th>3</th>\n",
       "      <td>PaymentScreenSuccessful</td>\n",
       "      <td>1200</td>\n",
       "      <td>1158</td>\n",
       "      <td>1181</td>\n",
       "      <td>2358</td>\n",
       "      <td>48.31</td>\n",
       "      <td>46.08</td>\n",
       "      <td>46.55</td>\n",
       "      <td>47.19</td>\n",
       "    </tr>\n",
       "  </tbody>\n",
       "</table>\n",
       "</div>"
      ],
      "text/plain": [
       "                event_name  users_A_1  users_A_2  users_B  users_AA  \\\n",
       "0         MainScreenAppear       2450       2476     2493      4926   \n",
       "1       OffersScreenAppear       1542       1520     1531      3062   \n",
       "2         CartScreenAppear       1266       1238     1230      2504   \n",
       "3  PaymentScreenSuccessful       1200       1158     1181      2358   \n",
       "\n",
       "   share_A_1,%  share_A_2,%  share_B,%  share_AA,%  \n",
       "0        98.63        98.53      98.27       98.58  \n",
       "1        62.08        60.49      60.35       61.28  \n",
       "2        50.97        49.26      48.48       50.11  \n",
       "3        48.31        46.08      46.55       47.19  "
      ]
     },
     "execution_count": 59,
     "metadata": {},
     "output_type": "execute_result"
    }
   ],
   "source": [
    "funnels"
   ]
  },
  {
   "cell_type": "code",
   "execution_count": 60,
   "id": "f178589a",
   "metadata": {},
   "outputs": [],
   "source": [
    "#main_screen_appear = list(funnels.loc[0,['users_A_1','users_B']])\n",
    "#main_screen_appear"
   ]
  },
  {
   "cell_type": "code",
   "execution_count": 61,
   "id": "09b73d93",
   "metadata": {},
   "outputs": [
    {
     "data": {
      "text/plain": [
       "[2484, 2513, 2537]"
      ]
     },
     "execution_count": 61,
     "metadata": {},
     "output_type": "execute_result"
    }
   ],
   "source": [
    "total_in_groups = list(full_data.groupby(by = 'exp_id')['device_id'].nunique())\n",
    "total_in_groups"
   ]
  },
  {
   "cell_type": "markdown",
   "id": "4383e7bb",
   "metadata": {},
   "source": [
    "For further calculations, I need to determine the initial number of users in groups B and AA, respectively."
   ]
  },
  {
   "cell_type": "code",
   "execution_count": 62,
   "id": "fd13684e",
   "metadata": {},
   "outputs": [
    {
     "name": "stdout",
     "output_type": "stream",
     "text": [
      "[2537 4997]\n"
     ]
    }
   ],
   "source": [
    "total_in_groups_AA = total_in_groups[0]+total_in_groups[1]\n",
    "\n",
    "# creating an array\n",
    "total_in_groups_AA_B = np.array([total_in_groups[2],total_in_groups_AA])\n",
    "print(total_in_groups_AA_B)"
   ]
  },
  {
   "cell_type": "markdown",
   "id": "b8495a1f",
   "metadata": {},
   "source": [
    "## A/B Testing by Events"
   ]
  },
  {
   "cell_type": "markdown",
   "id": "d3909012",
   "metadata": {},
   "source": [
    "A total of 16 z-tests will be conducted (4 events across 4 group comparisons).  \n",
    "Therefore, using the Bonferroni correction, I will adjust the significance level (alpha) by dividing it by the number of comparisons — that is, by 16.\n"
   ]
  },
  {
   "cell_type": "markdown",
   "id": "36526262",
   "metadata": {},
   "source": [
    "### Hypotheses for A/B Testing\n",
    "\n",
    "- **H₀ (Null Hypothesis):** There is no statistically significant difference in conversion rates between the groups.\n",
    "- **H₁ (Alternative Hypothesis):** There is a statistically significant difference in conversion rates between the groups.\n",
    "\n",
    "The critical significance level (alpha) is adjusted using the Bonferroni correction.\n"
   ]
  },
  {
   "cell_type": "code",
   "execution_count": 63,
   "id": "7287fe1f",
   "metadata": {},
   "outputs": [
    {
     "name": "stdout",
     "output_type": "stream",
     "text": [
      "____***____\n",
      "MainScreenAppear\n",
      "____***____\n",
      "Comparing A_1 vs A_2:\n",
      "p-value: 0.7570597232046099\n",
      "Fail to reject the null hypothesis: no statistically significant difference between the proportions\n",
      "__________\n",
      "Comparing A_1 vs B:\n",
      "p-value: 0.2949721933554552\n",
      "Fail to reject the null hypothesis: no statistically significant difference between the proportions\n",
      "__________\n",
      "Comparing A_2 vs B:\n",
      "p-value: 0.4587053616621515\n",
      "Fail to reject the null hypothesis: no statistically significant difference between the proportions\n",
      "__________\n",
      "Comparing B vs AA:\n",
      "p-value: 0.29424526837179577\n",
      "Fail to reject the null hypothesis: no statistically significant difference between the proportions\n",
      "____***____\n",
      "OffersScreenAppear\n",
      "____***____\n",
      "Comparing A_1 vs A_2:\n",
      "p-value: 0.2480954578522181\n",
      "Fail to reject the null hypothesis: no statistically significant difference between the proportions\n",
      "__________\n",
      "Comparing A_1 vs B:\n",
      "p-value: 0.20836205402738917\n",
      "Fail to reject the null hypothesis: no statistically significant difference between the proportions\n",
      "__________\n",
      "Comparing A_2 vs B:\n",
      "p-value: 0.9197817830592261\n",
      "Fail to reject the null hypothesis: no statistically significant difference between the proportions\n",
      "__________\n",
      "Comparing B vs AA:\n",
      "p-value: 0.43425549655188256\n",
      "Fail to reject the null hypothesis: no statistically significant difference between the proportions\n",
      "____***____\n",
      "CartScreenAppear\n",
      "____***____\n",
      "Comparing A_1 vs A_2:\n",
      "p-value: 0.22883372237997213\n",
      "Fail to reject the null hypothesis: no statistically significant difference between the proportions\n",
      "__________\n",
      "Comparing A_1 vs B:\n",
      "p-value: 0.07842923237520116\n",
      "Fail to reject the null hypothesis: no statistically significant difference between the proportions\n",
      "__________\n",
      "Comparing A_2 vs B:\n",
      "p-value: 0.5786197879539783\n",
      "Fail to reject the null hypothesis: no statistically significant difference between the proportions\n",
      "__________\n",
      "Comparing B vs AA:\n",
      "p-value: 0.18175875284404386\n",
      "Fail to reject the null hypothesis: no statistically significant difference between the proportions\n",
      "____***____\n",
      "PaymentScreenSuccessful\n",
      "____***____\n",
      "Comparing A_1 vs A_2:\n",
      "p-value: 0.11456679313141849\n",
      "Fail to reject the null hypothesis: no statistically significant difference between the proportions\n",
      "__________\n",
      "Comparing A_1 vs B:\n",
      "p-value: 0.2122553275697796\n",
      "Fail to reject the null hypothesis: no statistically significant difference between the proportions\n",
      "__________\n",
      "Comparing A_2 vs B:\n",
      "p-value: 0.7373415053803964\n",
      "Fail to reject the null hypothesis: no statistically significant difference between the proportions\n",
      "__________\n",
      "Comparing B vs AA:\n",
      "p-value: 0.6004294282308704\n",
      "Fail to reject the null hypothesis: no statistically significant difference between the proportions\n"
     ]
    }
   ],
   "source": [
    " for row in funnels.itertuples():\n",
    "    print('____***____')    \n",
    "    print(row.event_name)\n",
    "    print('____***____')  \n",
    "    print('Comparing A_1 vs A_2:')\n",
    "    z_test(total_in_groups, [row.users_A_1, row.users_A_2], alpha = .05/16)\n",
    "    print('__________')\n",
    "    print('Comparing A_1 vs B:')\n",
    "    z_test(total_in_groups[::2],[row.users_A_1,row.users_B],alpha = .05/16)\n",
    "    print('__________')\n",
    "    print('Comparing A_2 vs B:')\n",
    "    z_test(total_in_groups[1:],[row.users_A_2,row.users_B],alpha = .05/16)\n",
    "    print('__________')\n",
    "    print('Comparing B vs AA:')\n",
    "    z_test(total_in_groups_AA_B,[row.users_B,row.users_AA],alpha = .05/16)\n",
    "    \n",
    "    "
   ]
  },
  {
   "cell_type": "markdown",
   "id": "aae2697c",
   "metadata": {},
   "source": [
    "## Results"
   ]
  },
  {
   "cell_type": "markdown",
   "id": "3266632e",
   "metadata": {},
   "source": [
    "#### Testing Groups for the Event: \"MainScreenAppear\"\n"
   ]
  },
  {
   "cell_type": "markdown",
   "id": "78f05b0a",
   "metadata": {},
   "source": [
    "Out of the total number of app users in each group, the following proportions accessed the Main Screen (MainScreenAppear):\n",
    "\n",
    "Group A_1 – 98.63% of 2,489 users\n",
    "\n",
    "Group A_2 – 98.53% of 2,513 users\n",
    "\n",
    "Group B – 98.27% of 2,537 users\n",
    "\n",
    "Combined control group AA – 98.58% of 4,997 users\n",
    "\n",
    "A z-test conducted across all 4 groups for the \"Main Screen Opened\" event showed that there are **no statistically significant differences between the groups**."
   ]
  },
  {
   "cell_type": "markdown",
   "id": "c9fbba60",
   "metadata": {},
   "source": [
    "#### Testing Groups for the Event: \"OffersScreenAppear\""
   ]
  },
  {
   "cell_type": "markdown",
   "id": "7cf4ffce",
   "metadata": {},
   "source": [
    "Out of the total number of users in each group, the following proportions accessed the Offers Screen (OffersScreenAppear):\n",
    "\n",
    "Group A_1 – 62.08% of 2,489 users\n",
    "\n",
    "Group A_2 – 60.49% of 2,513 users\n",
    "\n",
    "Group B – 60.35% of 2,537 users\n",
    "\n",
    "Combined control group AA – 61.28% of 4,997 users\n",
    "\n",
    "A z-test conducted across the 4 groups for the \"Offers Screen Opened\" event showed that there are **no statistically significant differences between the groups**."
   ]
  },
  {
   "cell_type": "markdown",
   "id": "37d3c65b",
   "metadata": {},
   "source": [
    "#### Testing Groups for the Event: \"CartScreenAppear\""
   ]
  },
  {
   "cell_type": "markdown",
   "id": "6547e9cd",
   "metadata": {},
   "source": [
    "Out of the total number of users in each group, the following proportions accessed the Cart Screen (CartScreenAppear):\n",
    "\n",
    "Group A_1 – 50.97% of 2,489 users\n",
    "\n",
    "Group A_2 – 49.26% of 2,513 users\n",
    "\n",
    "Group B – 48.48% of 2,537 users\n",
    "\n",
    "Combined control group AA – 50.11% of 4,997 users\n",
    "\n",
    "A z-test conducted across the 4 groups for the \"CartScreenAppear\" event showed that there are **no statistically significant differences between the groups**."
   ]
  },
  {
   "cell_type": "markdown",
   "id": "1055690a",
   "metadata": {},
   "source": [
    "#### Testing Groups for the Event: \"PaymentScreenSuccessful\""
   ]
  },
  {
   "cell_type": "markdown",
   "id": "d7c8debf",
   "metadata": {},
   "source": [
    "Out of the total number of users in each group, the following proportions completed a purchase (PaymentScreenSuccessful):\n",
    "\n",
    "Group A_1 – 48.31% of 2,489 users\n",
    "\n",
    "Group A_2 – 46.08% of 2,513 users\n",
    "\n",
    "Group B – 46.55% of 2,537 users\n",
    "\n",
    "Combined control group AA – 47.19% of 4,997 users\n",
    "\n",
    "A z-test conducted across the 4 groups for the \"Purchase Made\" event showed that there are **no statistically significant differences between the groups**."
   ]
  },
  {
   "cell_type": "markdown",
   "id": "ca6f4607",
   "metadata": {},
   "source": [
    "## Final Summary\n",
    "\n",
    "The dataset analyzed for this project contained user event logs for the period from **July 25, 2019 to August 7, 2019**.\n",
    "However, after examining data completeness, it was determined that **data from August 1 to August 7, 2019** was the most consistent and complete. This subset of data was saved in the variable `full_data`.\n",
    "\n",
    "### Funnel Analysis\n",
    "\n",
    "Based on an analysis of the **conversion funnel**, the typical user journey in the app follows this sequence:\n",
    "\n",
    "1. **Main Screen**\n",
    "2. **Offers Screen**\n",
    "3. **Cart Screen**\n",
    "4. **Successful Payment**\n",
    "\n",
    "From the first event (opening the main screen) to the final event (completing a purchase), **47.7% of users** reach the end of the funnel.\n",
    "The biggest drop-off (38.1%) occurs after the main screen — in other words, **at the very first step**.\n",
    "________________________________________________________\n",
    "### A/B Test Overview\n",
    "\n",
    "#### Goal of the A/B Test\n",
    "\n",
    "The goal was to evaluate whether **changing the app's font** affects user behavior. Designers proposed a new font style across the app, but product managers were concerned it might negatively impact the user experience.\n",
    "To resolve this, an **A/A/B test** was conducted:\n",
    "\n",
    "* **A\\_1 and A\\_2** — two control groups using the original font\n",
    "* **B** — experimental group with the new font\n",
    "\n",
    "The **combined control group AA (A\\_1 + A\\_2)** was also analyzed to strengthen statistical power.\n",
    "\n",
    "#### A/B Testing Summary\n",
    "\n",
    "A total of **16 z-tests** were conducted (4 key events × multiple group comparisons).\n",
    "**None of the tests revealed statistically significant differences** between the groups.\n",
    "\n",
    "A significance level (alpha) of **0.05** was initially selected.\n",
    "To correct for multiple comparisons, the **Bonferroni correction** was applied, adjusting the alpha to **0.003**.\n",
    "This helps reduce the risk of **Type I errors** (false positives).\n",
    "Even with this stricter threshold, **no significant differences** were observed.\n",
    "_______________________________________________________\n",
    "### Conclusion\n",
    "\n",
    "The experiment suggests that the introduction of **new fonts** in the food delivery app **did not negatively impact user behavior**, but also **did not result in any measurable improvements**.\n",
    "\n",
    "Since the changes had no adverse effects and were neutral in terms of performance, it would be reasonable to **roll out the new font to all users**, especially if the update aligns with branding or UI consistency goals.\n"
   ]
  }
 ],
 "metadata": {
  "ExecuteTimeLog": [
   {
    "duration": 1218,
    "start_time": "2022-05-30T07:11:06.254Z"
   },
   {
    "duration": 735,
    "start_time": "2022-05-30T07:11:07.480Z"
   },
   {
    "duration": 187,
    "start_time": "2022-05-30T07:11:08.219Z"
   },
   {
    "duration": 0,
    "start_time": "2022-05-30T07:11:08.409Z"
   },
   {
    "duration": 0,
    "start_time": "2022-05-30T07:11:08.411Z"
   },
   {
    "duration": 0,
    "start_time": "2022-05-30T07:11:08.412Z"
   },
   {
    "duration": 0,
    "start_time": "2022-05-30T07:11:08.413Z"
   },
   {
    "duration": 0,
    "start_time": "2022-05-30T07:11:08.414Z"
   },
   {
    "duration": 0,
    "start_time": "2022-05-30T07:11:08.415Z"
   },
   {
    "duration": 0,
    "start_time": "2022-05-30T07:11:08.417Z"
   },
   {
    "duration": 0,
    "start_time": "2022-05-30T07:11:08.419Z"
   },
   {
    "duration": 0,
    "start_time": "2022-05-30T07:11:08.420Z"
   },
   {
    "duration": 0,
    "start_time": "2022-05-30T07:11:08.423Z"
   },
   {
    "duration": 0,
    "start_time": "2022-05-30T07:11:08.425Z"
   },
   {
    "duration": 0,
    "start_time": "2022-05-30T07:11:08.426Z"
   },
   {
    "duration": 0,
    "start_time": "2022-05-30T07:11:08.428Z"
   },
   {
    "duration": 0,
    "start_time": "2022-05-30T07:11:08.429Z"
   },
   {
    "duration": 0,
    "start_time": "2022-05-30T07:11:08.460Z"
   },
   {
    "duration": 0,
    "start_time": "2022-05-30T07:11:08.461Z"
   },
   {
    "duration": 0,
    "start_time": "2022-05-30T07:11:08.463Z"
   },
   {
    "duration": 0,
    "start_time": "2022-05-30T07:11:08.464Z"
   },
   {
    "duration": 0,
    "start_time": "2022-05-30T07:11:08.465Z"
   },
   {
    "duration": 0,
    "start_time": "2022-05-30T07:11:08.466Z"
   },
   {
    "duration": 0,
    "start_time": "2022-05-30T07:11:08.467Z"
   },
   {
    "duration": 0,
    "start_time": "2022-05-30T07:11:08.469Z"
   },
   {
    "duration": 0,
    "start_time": "2022-05-30T07:11:08.470Z"
   },
   {
    "duration": 0,
    "start_time": "2022-05-30T07:11:08.471Z"
   },
   {
    "duration": 0,
    "start_time": "2022-05-30T07:11:08.472Z"
   },
   {
    "duration": 0,
    "start_time": "2022-05-30T07:11:08.474Z"
   },
   {
    "duration": 0,
    "start_time": "2022-05-30T07:11:08.475Z"
   },
   {
    "duration": 0,
    "start_time": "2022-05-30T07:11:08.476Z"
   },
   {
    "duration": 0,
    "start_time": "2022-05-30T07:11:08.477Z"
   },
   {
    "duration": 0,
    "start_time": "2022-05-30T07:11:08.478Z"
   },
   {
    "duration": 0,
    "start_time": "2022-05-30T07:11:08.479Z"
   },
   {
    "duration": 0,
    "start_time": "2022-05-30T07:11:08.481Z"
   },
   {
    "duration": 0,
    "start_time": "2022-05-30T07:11:08.482Z"
   },
   {
    "duration": 0,
    "start_time": "2022-05-30T07:11:08.483Z"
   },
   {
    "duration": 0,
    "start_time": "2022-05-30T07:11:08.485Z"
   },
   {
    "duration": 1,
    "start_time": "2022-05-30T07:11:08.486Z"
   },
   {
    "duration": 0,
    "start_time": "2022-05-30T07:11:08.488Z"
   },
   {
    "duration": 0,
    "start_time": "2022-05-30T07:11:08.490Z"
   },
   {
    "duration": 0,
    "start_time": "2022-05-30T07:11:08.491Z"
   },
   {
    "duration": 0,
    "start_time": "2022-05-30T07:11:08.492Z"
   },
   {
    "duration": 0,
    "start_time": "2022-05-30T07:11:08.494Z"
   },
   {
    "duration": 0,
    "start_time": "2022-05-30T07:11:08.496Z"
   },
   {
    "duration": 0,
    "start_time": "2022-05-30T07:11:08.497Z"
   },
   {
    "duration": 0,
    "start_time": "2022-05-30T07:11:08.499Z"
   },
   {
    "duration": 0,
    "start_time": "2022-05-30T07:11:08.501Z"
   },
   {
    "duration": 0,
    "start_time": "2022-05-30T07:11:08.502Z"
   },
   {
    "duration": 0,
    "start_time": "2022-05-30T07:11:08.559Z"
   },
   {
    "duration": 0,
    "start_time": "2022-05-30T07:11:08.560Z"
   },
   {
    "duration": 0,
    "start_time": "2022-05-30T07:11:08.562Z"
   },
   {
    "duration": 0,
    "start_time": "2022-05-30T07:11:08.563Z"
   },
   {
    "duration": 0,
    "start_time": "2022-05-30T07:11:08.564Z"
   },
   {
    "duration": 0,
    "start_time": "2022-05-30T07:11:08.565Z"
   },
   {
    "duration": 0,
    "start_time": "2022-05-30T07:11:08.566Z"
   },
   {
    "duration": 0,
    "start_time": "2022-05-30T07:11:08.567Z"
   },
   {
    "duration": 0,
    "start_time": "2022-05-30T07:11:08.568Z"
   },
   {
    "duration": 0,
    "start_time": "2022-05-30T07:11:08.569Z"
   },
   {
    "duration": 0,
    "start_time": "2022-05-30T07:11:08.570Z"
   },
   {
    "duration": 0,
    "start_time": "2022-05-30T07:11:08.571Z"
   },
   {
    "duration": 0,
    "start_time": "2022-05-30T07:11:08.572Z"
   },
   {
    "duration": 0,
    "start_time": "2022-05-30T07:11:08.573Z"
   },
   {
    "duration": 1093,
    "start_time": "2022-05-30T07:15:09.986Z"
   },
   {
    "duration": 846,
    "start_time": "2022-05-30T07:15:11.082Z"
   },
   {
    "duration": 12,
    "start_time": "2022-05-30T07:15:11.930Z"
   },
   {
    "duration": 158,
    "start_time": "2022-05-30T07:15:11.944Z"
   },
   {
    "duration": 0,
    "start_time": "2022-05-30T07:15:12.105Z"
   },
   {
    "duration": 0,
    "start_time": "2022-05-30T07:15:12.106Z"
   },
   {
    "duration": 0,
    "start_time": "2022-05-30T07:15:12.108Z"
   },
   {
    "duration": 0,
    "start_time": "2022-05-30T07:15:12.109Z"
   },
   {
    "duration": 0,
    "start_time": "2022-05-30T07:15:12.110Z"
   },
   {
    "duration": 0,
    "start_time": "2022-05-30T07:15:12.112Z"
   },
   {
    "duration": 0,
    "start_time": "2022-05-30T07:15:12.112Z"
   },
   {
    "duration": 0,
    "start_time": "2022-05-30T07:15:12.114Z"
   },
   {
    "duration": 0,
    "start_time": "2022-05-30T07:15:12.115Z"
   },
   {
    "duration": 0,
    "start_time": "2022-05-30T07:15:12.116Z"
   },
   {
    "duration": 0,
    "start_time": "2022-05-30T07:15:12.117Z"
   },
   {
    "duration": 0,
    "start_time": "2022-05-30T07:15:12.118Z"
   },
   {
    "duration": 0,
    "start_time": "2022-05-30T07:15:12.120Z"
   },
   {
    "duration": 0,
    "start_time": "2022-05-30T07:15:12.121Z"
   },
   {
    "duration": 0,
    "start_time": "2022-05-30T07:15:12.122Z"
   },
   {
    "duration": 0,
    "start_time": "2022-05-30T07:15:12.123Z"
   },
   {
    "duration": 0,
    "start_time": "2022-05-30T07:15:12.124Z"
   },
   {
    "duration": 0,
    "start_time": "2022-05-30T07:15:12.125Z"
   },
   {
    "duration": 0,
    "start_time": "2022-05-30T07:15:12.126Z"
   },
   {
    "duration": 0,
    "start_time": "2022-05-30T07:15:12.127Z"
   },
   {
    "duration": 0,
    "start_time": "2022-05-30T07:15:12.128Z"
   },
   {
    "duration": 0,
    "start_time": "2022-05-30T07:15:12.128Z"
   },
   {
    "duration": 0,
    "start_time": "2022-05-30T07:15:12.130Z"
   },
   {
    "duration": 0,
    "start_time": "2022-05-30T07:15:12.132Z"
   },
   {
    "duration": 1,
    "start_time": "2022-05-30T07:15:12.132Z"
   },
   {
    "duration": 0,
    "start_time": "2022-05-30T07:15:12.133Z"
   },
   {
    "duration": 0,
    "start_time": "2022-05-30T07:15:12.134Z"
   },
   {
    "duration": 0,
    "start_time": "2022-05-30T07:15:12.161Z"
   },
   {
    "duration": 0,
    "start_time": "2022-05-30T07:15:12.162Z"
   },
   {
    "duration": 0,
    "start_time": "2022-05-30T07:15:12.163Z"
   },
   {
    "duration": 0,
    "start_time": "2022-05-30T07:15:12.163Z"
   },
   {
    "duration": 0,
    "start_time": "2022-05-30T07:15:12.164Z"
   },
   {
    "duration": 0,
    "start_time": "2022-05-30T07:15:12.165Z"
   },
   {
    "duration": 0,
    "start_time": "2022-05-30T07:15:12.165Z"
   },
   {
    "duration": 0,
    "start_time": "2022-05-30T07:15:12.167Z"
   },
   {
    "duration": 0,
    "start_time": "2022-05-30T07:15:12.168Z"
   },
   {
    "duration": 0,
    "start_time": "2022-05-30T07:15:12.168Z"
   },
   {
    "duration": 0,
    "start_time": "2022-05-30T07:15:12.169Z"
   },
   {
    "duration": 0,
    "start_time": "2022-05-30T07:15:12.170Z"
   },
   {
    "duration": 0,
    "start_time": "2022-05-30T07:15:12.173Z"
   },
   {
    "duration": 0,
    "start_time": "2022-05-30T07:15:12.174Z"
   },
   {
    "duration": 0,
    "start_time": "2022-05-30T07:15:12.175Z"
   },
   {
    "duration": 0,
    "start_time": "2022-05-30T07:15:12.176Z"
   },
   {
    "duration": 0,
    "start_time": "2022-05-30T07:15:12.177Z"
   },
   {
    "duration": 0,
    "start_time": "2022-05-30T07:15:12.178Z"
   },
   {
    "duration": 0,
    "start_time": "2022-05-30T07:15:12.179Z"
   },
   {
    "duration": 0,
    "start_time": "2022-05-30T07:15:12.180Z"
   },
   {
    "duration": 1,
    "start_time": "2022-05-30T07:15:12.180Z"
   },
   {
    "duration": 0,
    "start_time": "2022-05-30T07:15:12.181Z"
   },
   {
    "duration": 0,
    "start_time": "2022-05-30T07:15:12.182Z"
   },
   {
    "duration": 0,
    "start_time": "2022-05-30T07:15:12.183Z"
   },
   {
    "duration": 0,
    "start_time": "2022-05-30T07:15:12.184Z"
   },
   {
    "duration": 0,
    "start_time": "2022-05-30T07:15:12.185Z"
   },
   {
    "duration": 0,
    "start_time": "2022-05-30T07:15:12.186Z"
   },
   {
    "duration": 0,
    "start_time": "2022-05-30T07:15:12.187Z"
   },
   {
    "duration": 0,
    "start_time": "2022-05-30T07:15:12.188Z"
   },
   {
    "duration": 0,
    "start_time": "2022-05-30T07:15:12.189Z"
   },
   {
    "duration": 0,
    "start_time": "2022-05-30T07:15:12.191Z"
   },
   {
    "duration": 0,
    "start_time": "2022-05-30T07:15:12.192Z"
   },
   {
    "duration": 302,
    "start_time": "2022-05-30T07:15:26.990Z"
   },
   {
    "duration": 7,
    "start_time": "2022-05-30T07:15:27.941Z"
   },
   {
    "duration": 1255,
    "start_time": "2022-05-30T07:16:00.544Z"
   },
   {
    "duration": 209,
    "start_time": "2022-05-30T07:16:01.813Z"
   },
   {
    "duration": 13,
    "start_time": "2022-05-30T07:16:02.024Z"
   },
   {
    "duration": 6,
    "start_time": "2022-05-30T07:16:02.039Z"
   },
   {
    "duration": 94,
    "start_time": "2022-05-30T07:16:02.059Z"
   },
   {
    "duration": 13,
    "start_time": "2022-05-30T07:16:02.155Z"
   },
   {
    "duration": 64,
    "start_time": "2022-05-30T07:16:02.172Z"
   },
   {
    "duration": 7,
    "start_time": "2022-05-30T07:16:02.238Z"
   },
   {
    "duration": 153,
    "start_time": "2022-05-30T07:16:02.246Z"
   },
   {
    "duration": 92,
    "start_time": "2022-05-30T07:16:02.402Z"
   },
   {
    "duration": 10,
    "start_time": "2022-05-30T07:16:02.495Z"
   },
   {
    "duration": 107,
    "start_time": "2022-05-30T07:16:02.506Z"
   },
   {
    "duration": 135,
    "start_time": "2022-05-30T07:16:02.615Z"
   },
   {
    "duration": 27,
    "start_time": "2022-05-30T07:16:02.752Z"
   },
   {
    "duration": 46,
    "start_time": "2022-05-30T07:16:02.781Z"
   },
   {
    "duration": 19,
    "start_time": "2022-05-30T07:16:02.829Z"
   },
   {
    "duration": 18,
    "start_time": "2022-05-30T07:16:02.860Z"
   },
   {
    "duration": 437,
    "start_time": "2022-05-30T07:16:02.882Z"
   },
   {
    "duration": 56,
    "start_time": "2022-05-30T07:16:03.321Z"
   },
   {
    "duration": 41,
    "start_time": "2022-05-30T07:16:03.380Z"
   },
   {
    "duration": 18,
    "start_time": "2022-05-30T07:16:03.423Z"
   },
   {
    "duration": 551,
    "start_time": "2022-05-30T07:16:03.443Z"
   },
   {
    "duration": 7,
    "start_time": "2022-05-30T07:16:03.997Z"
   },
   {
    "duration": 23,
    "start_time": "2022-05-30T07:16:04.006Z"
   },
   {
    "duration": 21,
    "start_time": "2022-05-30T07:16:04.032Z"
   },
   {
    "duration": 29,
    "start_time": "2022-05-30T07:16:04.055Z"
   },
   {
    "duration": 36,
    "start_time": "2022-05-30T07:16:04.086Z"
   },
   {
    "duration": 13,
    "start_time": "2022-05-30T07:16:04.126Z"
   },
   {
    "duration": 160,
    "start_time": "2022-05-30T07:16:04.141Z"
   },
   {
    "duration": 34,
    "start_time": "2022-05-30T07:16:04.303Z"
   },
   {
    "duration": 62,
    "start_time": "2022-05-30T07:16:04.339Z"
   },
   {
    "duration": 7,
    "start_time": "2022-05-30T07:16:04.403Z"
   },
   {
    "duration": 80,
    "start_time": "2022-05-30T07:16:04.413Z"
   },
   {
    "duration": 18,
    "start_time": "2022-05-30T07:16:04.495Z"
   },
   {
    "duration": 735,
    "start_time": "2022-05-30T07:16:04.514Z"
   },
   {
    "duration": 13,
    "start_time": "2022-05-30T07:16:05.252Z"
   },
   {
    "duration": 55,
    "start_time": "2022-05-30T07:16:05.268Z"
   },
   {
    "duration": 16,
    "start_time": "2022-05-30T07:16:05.359Z"
   },
   {
    "duration": 74,
    "start_time": "2022-05-30T07:16:05.376Z"
   },
   {
    "duration": 54,
    "start_time": "2022-05-30T07:16:05.452Z"
   },
   {
    "duration": 14,
    "start_time": "2022-05-30T07:16:05.508Z"
   },
   {
    "duration": 97,
    "start_time": "2022-05-30T07:16:05.525Z"
   },
   {
    "duration": 8,
    "start_time": "2022-05-30T07:16:05.624Z"
   },
   {
    "duration": 65,
    "start_time": "2022-05-30T07:16:05.634Z"
   },
   {
    "duration": 9,
    "start_time": "2022-05-30T07:16:05.701Z"
   },
   {
    "duration": 39,
    "start_time": "2022-05-30T07:16:05.712Z"
   },
   {
    "duration": 32,
    "start_time": "2022-05-30T07:16:05.753Z"
   },
   {
    "duration": 17,
    "start_time": "2022-05-30T07:16:05.787Z"
   },
   {
    "duration": 25,
    "start_time": "2022-05-30T07:16:05.806Z"
   },
   {
    "duration": 51,
    "start_time": "2022-05-30T07:16:05.833Z"
   },
   {
    "duration": 35,
    "start_time": "2022-05-30T07:16:05.886Z"
   },
   {
    "duration": 93,
    "start_time": "2022-05-30T07:16:05.922Z"
   },
   {
    "duration": 20,
    "start_time": "2022-05-30T07:16:06.017Z"
   },
   {
    "duration": 11,
    "start_time": "2022-05-30T07:16:06.039Z"
   },
   {
    "duration": 57,
    "start_time": "2022-05-30T07:16:06.052Z"
   },
   {
    "duration": 27,
    "start_time": "2022-05-30T07:16:06.111Z"
   },
   {
    "duration": 15,
    "start_time": "2022-05-30T07:16:06.140Z"
   },
   {
    "duration": 75,
    "start_time": "2022-05-30T07:16:06.157Z"
   },
   {
    "duration": 62,
    "start_time": "2022-05-30T07:16:06.234Z"
   },
   {
    "duration": 13,
    "start_time": "2022-05-30T07:16:06.298Z"
   },
   {
    "duration": 18,
    "start_time": "2022-05-30T07:16:06.313Z"
   },
   {
    "duration": 12,
    "start_time": "2022-05-30T07:16:06.333Z"
   },
   {
    "duration": 30,
    "start_time": "2022-05-30T07:16:06.364Z"
   },
   {
    "duration": 17,
    "start_time": "2022-05-30T07:22:29.458Z"
   },
   {
    "duration": 6,
    "start_time": "2022-05-30T07:22:56.892Z"
   },
   {
    "duration": 6,
    "start_time": "2022-05-30T07:23:04.347Z"
   },
   {
    "duration": 1321,
    "start_time": "2022-05-30T20:16:10.321Z"
   },
   {
    "duration": 554,
    "start_time": "2022-05-30T20:16:11.645Z"
   },
   {
    "duration": 15,
    "start_time": "2022-05-30T20:16:12.201Z"
   },
   {
    "duration": 4,
    "start_time": "2022-05-30T20:16:12.219Z"
   },
   {
    "duration": 105,
    "start_time": "2022-05-30T20:16:12.226Z"
   },
   {
    "duration": 13,
    "start_time": "2022-05-30T20:16:12.333Z"
   },
   {
    "duration": 52,
    "start_time": "2022-05-30T20:16:12.348Z"
   },
   {
    "duration": 7,
    "start_time": "2022-05-30T20:16:12.401Z"
   },
   {
    "duration": 117,
    "start_time": "2022-05-30T20:16:12.410Z"
   },
   {
    "duration": 75,
    "start_time": "2022-05-30T20:16:12.543Z"
   },
   {
    "duration": 9,
    "start_time": "2022-05-30T20:16:12.620Z"
   },
   {
    "duration": 67,
    "start_time": "2022-05-30T20:16:12.645Z"
   },
   {
    "duration": 91,
    "start_time": "2022-05-30T20:16:12.714Z"
   },
   {
    "duration": 9,
    "start_time": "2022-05-30T20:16:12.808Z"
   },
   {
    "duration": 47,
    "start_time": "2022-05-30T20:16:12.818Z"
   },
   {
    "duration": 18,
    "start_time": "2022-05-30T20:16:12.866Z"
   },
   {
    "duration": 8,
    "start_time": "2022-05-30T20:16:12.885Z"
   },
   {
    "duration": 354,
    "start_time": "2022-05-30T20:16:12.895Z"
   },
   {
    "duration": 27,
    "start_time": "2022-05-30T20:16:13.250Z"
   },
   {
    "duration": 27,
    "start_time": "2022-05-30T20:16:13.278Z"
   },
   {
    "duration": 14,
    "start_time": "2022-05-30T20:16:13.306Z"
   },
   {
    "duration": 450,
    "start_time": "2022-05-30T20:16:13.345Z"
   },
   {
    "duration": 7,
    "start_time": "2022-05-30T20:16:13.796Z"
   },
   {
    "duration": 12,
    "start_time": "2022-05-30T20:16:13.805Z"
   },
   {
    "duration": 4,
    "start_time": "2022-05-30T20:16:13.818Z"
   },
   {
    "duration": 23,
    "start_time": "2022-05-30T20:16:13.824Z"
   },
   {
    "duration": 5,
    "start_time": "2022-05-30T20:16:13.848Z"
   },
   {
    "duration": 16,
    "start_time": "2022-05-30T20:16:13.855Z"
   },
   {
    "duration": 137,
    "start_time": "2022-05-30T20:16:13.872Z"
   },
   {
    "duration": 40,
    "start_time": "2022-05-30T20:16:14.011Z"
   },
   {
    "duration": 32,
    "start_time": "2022-05-30T20:16:14.053Z"
   },
   {
    "duration": 4,
    "start_time": "2022-05-30T20:16:14.087Z"
   },
   {
    "duration": 67,
    "start_time": "2022-05-30T20:16:14.093Z"
   },
   {
    "duration": 10,
    "start_time": "2022-05-30T20:16:14.162Z"
   },
   {
    "duration": 148,
    "start_time": "2022-05-30T20:16:14.174Z"
   },
   {
    "duration": 5,
    "start_time": "2022-05-30T20:16:14.324Z"
   },
   {
    "duration": 39,
    "start_time": "2022-05-30T20:16:14.331Z"
   },
   {
    "duration": 10,
    "start_time": "2022-05-30T20:16:14.371Z"
   },
   {
    "duration": 92,
    "start_time": "2022-05-30T20:16:14.382Z"
   },
   {
    "duration": 77,
    "start_time": "2022-05-30T20:16:14.475Z"
   },
   {
    "duration": 10,
    "start_time": "2022-05-30T20:16:14.555Z"
   },
   {
    "duration": 33,
    "start_time": "2022-05-30T20:16:14.566Z"
   },
   {
    "duration": 6,
    "start_time": "2022-05-30T20:16:14.601Z"
   },
   {
    "duration": 44,
    "start_time": "2022-05-30T20:16:14.609Z"
   },
   {
    "duration": 7,
    "start_time": "2022-05-30T20:16:14.655Z"
   },
   {
    "duration": 29,
    "start_time": "2022-05-30T20:16:14.663Z"
   },
   {
    "duration": 7,
    "start_time": "2022-05-30T20:16:14.694Z"
   },
   {
    "duration": 40,
    "start_time": "2022-05-30T20:16:14.703Z"
   },
   {
    "duration": 41,
    "start_time": "2022-05-30T20:16:14.745Z"
   },
   {
    "duration": 22,
    "start_time": "2022-05-30T20:16:14.788Z"
   },
   {
    "duration": 26,
    "start_time": "2022-05-30T20:16:14.811Z"
   },
   {
    "duration": 75,
    "start_time": "2022-05-30T20:16:14.839Z"
   },
   {
    "duration": 7,
    "start_time": "2022-05-30T20:16:14.916Z"
   },
   {
    "duration": 18,
    "start_time": "2022-05-30T20:16:14.925Z"
   },
   {
    "duration": 19,
    "start_time": "2022-05-30T20:16:14.945Z"
   },
   {
    "duration": 21,
    "start_time": "2022-05-30T20:16:14.966Z"
   },
   {
    "duration": 26,
    "start_time": "2022-05-30T20:16:14.989Z"
   },
   {
    "duration": 78,
    "start_time": "2022-05-30T20:16:15.017Z"
   },
   {
    "duration": 60,
    "start_time": "2022-05-30T20:16:15.097Z"
   },
   {
    "duration": 16,
    "start_time": "2022-05-30T20:16:15.158Z"
   },
   {
    "duration": 43,
    "start_time": "2022-05-30T20:16:15.176Z"
   },
   {
    "duration": 33,
    "start_time": "2022-05-30T20:16:15.221Z"
   },
   {
    "duration": 38,
    "start_time": "2022-05-30T20:16:15.255Z"
   },
   {
    "duration": 6,
    "start_time": "2022-05-30T20:17:15.500Z"
   },
   {
    "duration": 6,
    "start_time": "2022-05-30T20:17:36.580Z"
   },
   {
    "duration": 8,
    "start_time": "2022-05-30T20:17:42.247Z"
   },
   {
    "duration": 30,
    "start_time": "2022-05-30T20:18:40.461Z"
   },
   {
    "duration": 31,
    "start_time": "2022-05-30T20:19:14.799Z"
   },
   {
    "duration": 4,
    "start_time": "2022-05-30T20:19:23.931Z"
   },
   {
    "duration": 1107,
    "start_time": "2022-05-30T20:19:39.627Z"
   },
   {
    "duration": 167,
    "start_time": "2022-05-30T20:19:40.736Z"
   },
   {
    "duration": 13,
    "start_time": "2022-05-30T20:19:40.904Z"
   },
   {
    "duration": 50,
    "start_time": "2022-05-30T20:19:40.919Z"
   },
   {
    "duration": 103,
    "start_time": "2022-05-30T20:19:40.971Z"
   },
   {
    "duration": 9,
    "start_time": "2022-05-30T20:19:41.076Z"
   },
   {
    "duration": 53,
    "start_time": "2022-05-30T20:19:41.088Z"
   },
   {
    "duration": 28,
    "start_time": "2022-05-30T20:19:41.144Z"
   },
   {
    "duration": 144,
    "start_time": "2022-05-30T20:19:41.174Z"
   },
   {
    "duration": 101,
    "start_time": "2022-05-30T20:19:41.322Z"
   },
   {
    "duration": 10,
    "start_time": "2022-05-30T20:19:41.425Z"
   },
   {
    "duration": 98,
    "start_time": "2022-05-30T20:19:41.436Z"
   },
   {
    "duration": 87,
    "start_time": "2022-05-30T20:19:41.535Z"
   },
   {
    "duration": 9,
    "start_time": "2022-05-30T20:19:41.623Z"
   },
   {
    "duration": 58,
    "start_time": "2022-05-30T20:19:41.633Z"
   },
   {
    "duration": 24,
    "start_time": "2022-05-30T20:19:41.693Z"
   },
   {
    "duration": 10,
    "start_time": "2022-05-30T20:19:41.719Z"
   },
   {
    "duration": 356,
    "start_time": "2022-05-30T20:19:41.731Z"
   },
   {
    "duration": 22,
    "start_time": "2022-05-30T20:19:42.088Z"
   },
   {
    "duration": 44,
    "start_time": "2022-05-30T20:19:42.112Z"
   },
   {
    "duration": 13,
    "start_time": "2022-05-30T20:19:42.157Z"
   },
   {
    "duration": 531,
    "start_time": "2022-05-30T20:19:42.172Z"
   },
   {
    "duration": 7,
    "start_time": "2022-05-30T20:19:42.705Z"
   },
   {
    "duration": 17,
    "start_time": "2022-05-30T20:19:42.714Z"
   },
   {
    "duration": 38,
    "start_time": "2022-05-30T20:19:42.733Z"
   },
   {
    "duration": 45,
    "start_time": "2022-05-30T20:19:42.773Z"
   },
   {
    "duration": 17,
    "start_time": "2022-05-30T20:19:42.822Z"
   },
   {
    "duration": 30,
    "start_time": "2022-05-30T20:19:42.844Z"
   },
   {
    "duration": 136,
    "start_time": "2022-05-30T20:19:42.876Z"
   },
   {
    "duration": 44,
    "start_time": "2022-05-30T20:19:43.014Z"
   },
   {
    "duration": 37,
    "start_time": "2022-05-30T20:19:43.061Z"
   },
   {
    "duration": 19,
    "start_time": "2022-05-30T20:19:43.100Z"
   },
   {
    "duration": 84,
    "start_time": "2022-05-30T20:19:43.121Z"
   },
   {
    "duration": 11,
    "start_time": "2022-05-30T20:19:43.207Z"
   },
   {
    "duration": 166,
    "start_time": "2022-05-30T20:19:43.220Z"
   },
   {
    "duration": 5,
    "start_time": "2022-05-30T20:19:43.388Z"
   },
   {
    "duration": 75,
    "start_time": "2022-05-30T20:19:43.395Z"
   },
   {
    "duration": 15,
    "start_time": "2022-05-30T20:19:43.472Z"
   },
   {
    "duration": 96,
    "start_time": "2022-05-30T20:19:43.489Z"
   },
   {
    "duration": 38,
    "start_time": "2022-05-30T20:19:43.587Z"
   },
   {
    "duration": 32,
    "start_time": "2022-05-30T20:19:43.627Z"
   },
   {
    "duration": 54,
    "start_time": "2022-05-30T20:19:43.661Z"
   },
   {
    "duration": 22,
    "start_time": "2022-05-30T20:19:43.717Z"
   },
   {
    "duration": 66,
    "start_time": "2022-05-30T20:19:43.741Z"
   },
   {
    "duration": 6,
    "start_time": "2022-05-30T20:19:43.809Z"
   },
   {
    "duration": 53,
    "start_time": "2022-05-30T20:19:43.816Z"
   },
   {
    "duration": 21,
    "start_time": "2022-05-30T20:19:43.871Z"
   },
   {
    "duration": 29,
    "start_time": "2022-05-30T20:19:43.894Z"
   },
   {
    "duration": 51,
    "start_time": "2022-05-30T20:19:43.925Z"
   },
   {
    "duration": 45,
    "start_time": "2022-05-30T20:19:43.978Z"
   },
   {
    "duration": 39,
    "start_time": "2022-05-30T20:19:44.025Z"
   },
   {
    "duration": 90,
    "start_time": "2022-05-30T20:19:44.066Z"
   },
   {
    "duration": 36,
    "start_time": "2022-05-30T20:19:44.161Z"
   },
   {
    "duration": 35,
    "start_time": "2022-05-30T20:19:44.199Z"
   },
   {
    "duration": 58,
    "start_time": "2022-05-30T20:19:44.236Z"
   },
   {
    "duration": 37,
    "start_time": "2022-05-30T20:19:44.296Z"
   },
   {
    "duration": 41,
    "start_time": "2022-05-30T20:19:44.335Z"
   },
   {
    "duration": 71,
    "start_time": "2022-05-30T20:19:44.377Z"
   },
   {
    "duration": 65,
    "start_time": "2022-05-30T20:19:44.449Z"
   },
   {
    "duration": 39,
    "start_time": "2022-05-30T20:19:44.516Z"
   },
   {
    "duration": 45,
    "start_time": "2022-05-30T20:19:44.557Z"
   },
   {
    "duration": 43,
    "start_time": "2022-05-30T20:19:44.604Z"
   },
   {
    "duration": 72,
    "start_time": "2022-05-30T20:19:44.651Z"
   },
   {
    "duration": 4,
    "start_time": "2022-05-30T20:19:59.638Z"
   },
   {
    "duration": 54,
    "start_time": "2022-05-30T20:20:34.471Z"
   },
   {
    "duration": 12,
    "start_time": "2022-05-30T20:20:45.778Z"
   },
   {
    "duration": 15,
    "start_time": "2022-05-30T20:21:25.784Z"
   },
   {
    "duration": 52,
    "start_time": "2022-05-30T20:22:21.681Z"
   },
   {
    "duration": 20,
    "start_time": "2022-05-30T20:22:56.740Z"
   },
   {
    "duration": 12,
    "start_time": "2022-05-30T20:23:56.787Z"
   },
   {
    "duration": 8,
    "start_time": "2022-05-30T20:29:46.024Z"
   },
   {
    "duration": 36,
    "start_time": "2022-05-30T20:31:37.585Z"
   },
   {
    "duration": 9,
    "start_time": "2022-05-30T20:31:41.722Z"
   },
   {
    "duration": 41,
    "start_time": "2022-05-30T20:31:48.777Z"
   },
   {
    "duration": 43,
    "start_time": "2022-05-30T20:33:07.415Z"
   },
   {
    "duration": 11,
    "start_time": "2022-05-30T20:33:12.093Z"
   },
   {
    "duration": 25,
    "start_time": "2022-05-30T20:33:58.388Z"
   },
   {
    "duration": 7,
    "start_time": "2022-05-30T20:33:58.798Z"
   },
   {
    "duration": 28,
    "start_time": "2022-05-30T20:34:17.219Z"
   },
   {
    "duration": 6,
    "start_time": "2022-05-30T20:34:18.481Z"
   },
   {
    "duration": 26,
    "start_time": "2022-05-30T20:34:23.195Z"
   },
   {
    "duration": 6,
    "start_time": "2022-05-30T20:34:23.670Z"
   },
   {
    "duration": 9,
    "start_time": "2022-05-30T20:34:36.785Z"
   },
   {
    "duration": 7,
    "start_time": "2022-05-30T20:34:37.175Z"
   },
   {
    "duration": 53,
    "start_time": "2022-05-30T20:35:50.480Z"
   },
   {
    "duration": 51,
    "start_time": "2022-05-30T20:53:48.256Z"
   },
   {
    "duration": 54,
    "start_time": "2022-05-30T20:53:52.816Z"
   },
   {
    "duration": 2355,
    "start_time": "2022-05-30T21:14:17.440Z"
   },
   {
    "duration": 56519,
    "start_time": "2022-05-30T21:14:34.030Z"
   },
   {
    "duration": 65,
    "start_time": "2022-05-30T21:31:05.435Z"
   },
   {
    "duration": 22,
    "start_time": "2022-05-30T21:31:10.027Z"
   },
   {
    "duration": 4,
    "start_time": "2022-05-30T21:31:48.216Z"
   },
   {
    "duration": 23,
    "start_time": "2022-05-30T21:33:27.458Z"
   },
   {
    "duration": 3,
    "start_time": "2022-05-30T21:42:26.991Z"
   },
   {
    "duration": 22,
    "start_time": "2022-05-30T21:43:45.999Z"
   },
   {
    "duration": 19,
    "start_time": "2022-05-30T21:43:54.764Z"
   },
   {
    "duration": 70,
    "start_time": "2022-05-30T21:58:45.121Z"
   },
   {
    "duration": 1079,
    "start_time": "2022-05-30T22:01:05.469Z"
   },
   {
    "duration": 163,
    "start_time": "2022-05-30T22:01:06.550Z"
   },
   {
    "duration": 11,
    "start_time": "2022-05-30T22:01:06.715Z"
   },
   {
    "duration": 4,
    "start_time": "2022-05-30T22:01:06.728Z"
   },
   {
    "duration": 86,
    "start_time": "2022-05-30T22:01:06.735Z"
   },
   {
    "duration": 9,
    "start_time": "2022-05-30T22:01:06.823Z"
   },
   {
    "duration": 34,
    "start_time": "2022-05-30T22:01:06.845Z"
   },
   {
    "duration": 3,
    "start_time": "2022-05-30T22:01:06.881Z"
   },
   {
    "duration": 143,
    "start_time": "2022-05-30T22:01:06.885Z"
   },
   {
    "duration": 85,
    "start_time": "2022-05-30T22:01:07.045Z"
   },
   {
    "duration": 20,
    "start_time": "2022-05-30T22:01:07.131Z"
   },
   {
    "duration": 84,
    "start_time": "2022-05-30T22:01:07.153Z"
   },
   {
    "duration": 101,
    "start_time": "2022-05-30T22:01:07.245Z"
   },
   {
    "duration": 9,
    "start_time": "2022-05-30T22:01:07.349Z"
   },
   {
    "duration": 36,
    "start_time": "2022-05-30T22:01:07.359Z"
   },
   {
    "duration": 20,
    "start_time": "2022-05-30T22:01:07.397Z"
   },
   {
    "duration": 41,
    "start_time": "2022-05-30T22:01:07.418Z"
   },
   {
    "duration": 353,
    "start_time": "2022-05-30T22:01:07.460Z"
   },
   {
    "duration": 33,
    "start_time": "2022-05-30T22:01:07.814Z"
   },
   {
    "duration": 33,
    "start_time": "2022-05-30T22:01:07.849Z"
   },
   {
    "duration": 16,
    "start_time": "2022-05-30T22:01:07.883Z"
   },
   {
    "duration": 470,
    "start_time": "2022-05-30T22:01:07.900Z"
   },
   {
    "duration": 7,
    "start_time": "2022-05-30T22:01:08.372Z"
   },
   {
    "duration": 12,
    "start_time": "2022-05-30T22:01:08.380Z"
   },
   {
    "duration": 4,
    "start_time": "2022-05-30T22:01:08.393Z"
   },
   {
    "duration": 10,
    "start_time": "2022-05-30T22:01:08.399Z"
   },
   {
    "duration": 8,
    "start_time": "2022-05-30T22:01:08.411Z"
   },
   {
    "duration": 7,
    "start_time": "2022-05-30T22:01:08.443Z"
   },
   {
    "duration": 145,
    "start_time": "2022-05-30T22:01:08.451Z"
   },
   {
    "duration": 32,
    "start_time": "2022-05-30T22:01:08.598Z"
   },
   {
    "duration": 40,
    "start_time": "2022-05-30T22:01:08.632Z"
   },
   {
    "duration": 4,
    "start_time": "2022-05-30T22:01:08.674Z"
   },
   {
    "duration": 69,
    "start_time": "2022-05-30T22:01:08.679Z"
   },
   {
    "duration": 12,
    "start_time": "2022-05-30T22:01:08.750Z"
   },
   {
    "duration": 140,
    "start_time": "2022-05-30T22:01:08.763Z"
   },
   {
    "duration": 5,
    "start_time": "2022-05-30T22:01:08.905Z"
   },
   {
    "duration": 59,
    "start_time": "2022-05-30T22:01:08.912Z"
   },
   {
    "duration": 9,
    "start_time": "2022-05-30T22:01:08.973Z"
   },
   {
    "duration": 97,
    "start_time": "2022-05-30T22:01:08.984Z"
   },
   {
    "duration": 66,
    "start_time": "2022-05-30T22:01:09.083Z"
   },
   {
    "duration": 10,
    "start_time": "2022-05-30T22:01:09.152Z"
   },
   {
    "duration": 38,
    "start_time": "2022-05-30T22:01:09.164Z"
   },
   {
    "duration": 6,
    "start_time": "2022-05-30T22:01:09.204Z"
   },
   {
    "duration": 40,
    "start_time": "2022-05-30T22:01:09.211Z"
   },
   {
    "duration": 6,
    "start_time": "2022-05-30T22:01:09.253Z"
   },
   {
    "duration": 34,
    "start_time": "2022-05-30T22:01:09.261Z"
   },
   {
    "duration": 6,
    "start_time": "2022-05-30T22:01:09.297Z"
   },
   {
    "duration": 44,
    "start_time": "2022-05-30T22:01:09.305Z"
   },
   {
    "duration": 20,
    "start_time": "2022-05-30T22:01:09.351Z"
   },
   {
    "duration": 14,
    "start_time": "2022-05-30T22:01:09.373Z"
   },
   {
    "duration": 70643,
    "start_time": "2022-05-30T22:01:09.389Z"
   },
   {
    "duration": 0,
    "start_time": "2022-05-30T22:02:20.033Z"
   },
   {
    "duration": 0,
    "start_time": "2022-05-30T22:02:20.034Z"
   },
   {
    "duration": 0,
    "start_time": "2022-05-30T22:02:20.035Z"
   },
   {
    "duration": 0,
    "start_time": "2022-05-30T22:02:20.036Z"
   },
   {
    "duration": 0,
    "start_time": "2022-05-30T22:02:20.044Z"
   },
   {
    "duration": 0,
    "start_time": "2022-05-30T22:02:20.045Z"
   },
   {
    "duration": 0,
    "start_time": "2022-05-30T22:02:20.046Z"
   },
   {
    "duration": 0,
    "start_time": "2022-05-30T22:02:20.047Z"
   },
   {
    "duration": 0,
    "start_time": "2022-05-30T22:02:20.048Z"
   },
   {
    "duration": 0,
    "start_time": "2022-05-30T22:02:20.049Z"
   },
   {
    "duration": 0,
    "start_time": "2022-05-30T22:02:20.051Z"
   },
   {
    "duration": 0,
    "start_time": "2022-05-30T22:02:20.052Z"
   },
   {
    "duration": 55,
    "start_time": "2022-05-30T22:03:20.559Z"
   },
   {
    "duration": 51,
    "start_time": "2022-05-30T22:03:44.761Z"
   },
   {
    "duration": 60,
    "start_time": "2022-05-30T22:04:12.565Z"
   },
   {
    "duration": 61,
    "start_time": "2022-05-30T22:04:41.282Z"
   },
   {
    "duration": 56,
    "start_time": "2022-05-30T22:06:14.124Z"
   },
   {
    "duration": 1085,
    "start_time": "2022-05-30T22:06:45.847Z"
   },
   {
    "duration": 162,
    "start_time": "2022-05-30T22:06:46.935Z"
   },
   {
    "duration": 11,
    "start_time": "2022-05-30T22:06:47.098Z"
   },
   {
    "duration": 3,
    "start_time": "2022-05-30T22:06:47.110Z"
   },
   {
    "duration": 93,
    "start_time": "2022-05-30T22:06:47.115Z"
   },
   {
    "duration": 9,
    "start_time": "2022-05-30T22:06:47.210Z"
   },
   {
    "duration": 42,
    "start_time": "2022-05-30T22:06:47.221Z"
   },
   {
    "duration": 6,
    "start_time": "2022-05-30T22:06:47.265Z"
   },
   {
    "duration": 139,
    "start_time": "2022-05-30T22:06:47.273Z"
   },
   {
    "duration": 104,
    "start_time": "2022-05-30T22:06:47.414Z"
   },
   {
    "duration": 10,
    "start_time": "2022-05-30T22:06:47.520Z"
   },
   {
    "duration": 89,
    "start_time": "2022-05-30T22:06:47.532Z"
   },
   {
    "duration": 97,
    "start_time": "2022-05-30T22:06:47.623Z"
   },
   {
    "duration": 8,
    "start_time": "2022-05-30T22:06:47.723Z"
   },
   {
    "duration": 32,
    "start_time": "2022-05-30T22:06:47.745Z"
   },
   {
    "duration": 16,
    "start_time": "2022-05-30T22:06:47.779Z"
   },
   {
    "duration": 8,
    "start_time": "2022-05-30T22:06:47.797Z"
   },
   {
    "duration": 372,
    "start_time": "2022-05-30T22:06:47.806Z"
   },
   {
    "duration": 22,
    "start_time": "2022-05-30T22:06:48.180Z"
   },
   {
    "duration": 42,
    "start_time": "2022-05-30T22:06:48.204Z"
   },
   {
    "duration": 17,
    "start_time": "2022-05-30T22:06:48.248Z"
   },
   {
    "duration": 448,
    "start_time": "2022-05-30T22:06:48.267Z"
   },
   {
    "duration": 7,
    "start_time": "2022-05-30T22:06:48.716Z"
   },
   {
    "duration": 22,
    "start_time": "2022-05-30T22:06:48.725Z"
   },
   {
    "duration": 15,
    "start_time": "2022-05-30T22:06:48.748Z"
   },
   {
    "duration": 16,
    "start_time": "2022-05-30T22:06:48.765Z"
   },
   {
    "duration": 20,
    "start_time": "2022-05-30T22:06:48.783Z"
   },
   {
    "duration": 32,
    "start_time": "2022-05-30T22:06:48.805Z"
   },
   {
    "duration": 140,
    "start_time": "2022-05-30T22:06:48.839Z"
   },
   {
    "duration": 30,
    "start_time": "2022-05-30T22:06:48.981Z"
   },
   {
    "duration": 40,
    "start_time": "2022-05-30T22:06:49.013Z"
   },
   {
    "duration": 3,
    "start_time": "2022-05-30T22:06:49.055Z"
   },
   {
    "duration": 66,
    "start_time": "2022-05-30T22:06:49.060Z"
   },
   {
    "duration": 25,
    "start_time": "2022-05-30T22:06:49.128Z"
   },
   {
    "duration": 155,
    "start_time": "2022-05-30T22:06:49.155Z"
   },
   {
    "duration": 7,
    "start_time": "2022-05-30T22:06:49.312Z"
   },
   {
    "duration": 47,
    "start_time": "2022-05-30T22:06:49.320Z"
   },
   {
    "duration": 10,
    "start_time": "2022-05-30T22:06:49.369Z"
   },
   {
    "duration": 109,
    "start_time": "2022-05-30T22:06:49.381Z"
   },
   {
    "duration": 58,
    "start_time": "2022-05-30T22:06:49.492Z"
   },
   {
    "duration": 10,
    "start_time": "2022-05-30T22:06:49.555Z"
   },
   {
    "duration": 45,
    "start_time": "2022-05-30T22:06:49.566Z"
   },
   {
    "duration": 7,
    "start_time": "2022-05-30T22:06:49.612Z"
   },
   {
    "duration": 33,
    "start_time": "2022-05-30T22:06:49.620Z"
   },
   {
    "duration": 21,
    "start_time": "2022-05-30T22:06:49.654Z"
   },
   {
    "duration": 30,
    "start_time": "2022-05-30T22:06:49.677Z"
   },
   {
    "duration": 7,
    "start_time": "2022-05-30T22:06:49.709Z"
   },
   {
    "duration": 23,
    "start_time": "2022-05-30T22:06:49.717Z"
   },
   {
    "duration": 30,
    "start_time": "2022-05-30T22:06:49.741Z"
   },
   {
    "duration": 38,
    "start_time": "2022-05-30T22:06:49.772Z"
   },
   {
    "duration": 84,
    "start_time": "2022-05-30T22:06:49.812Z"
   },
   {
    "duration": 117,
    "start_time": "2022-05-30T22:06:49.897Z"
   },
   {
    "duration": 0,
    "start_time": "2022-05-30T22:06:50.016Z"
   },
   {
    "duration": 0,
    "start_time": "2022-05-30T22:06:50.017Z"
   },
   {
    "duration": 0,
    "start_time": "2022-05-30T22:06:50.019Z"
   },
   {
    "duration": 0,
    "start_time": "2022-05-30T22:06:50.020Z"
   },
   {
    "duration": 0,
    "start_time": "2022-05-30T22:06:50.021Z"
   },
   {
    "duration": 0,
    "start_time": "2022-05-30T22:06:50.022Z"
   },
   {
    "duration": 0,
    "start_time": "2022-05-30T22:06:50.023Z"
   },
   {
    "duration": 0,
    "start_time": "2022-05-30T22:06:50.024Z"
   },
   {
    "duration": 0,
    "start_time": "2022-05-30T22:06:50.025Z"
   },
   {
    "duration": 0,
    "start_time": "2022-05-30T22:06:50.026Z"
   },
   {
    "duration": 0,
    "start_time": "2022-05-30T22:06:50.027Z"
   },
   {
    "duration": 34,
    "start_time": "2022-05-30T22:08:41.249Z"
   },
   {
    "duration": 59,
    "start_time": "2022-05-30T22:08:47.265Z"
   },
   {
    "duration": 56,
    "start_time": "2022-05-30T22:08:56.322Z"
   },
   {
    "duration": 64,
    "start_time": "2022-05-30T22:11:09.379Z"
   },
   {
    "duration": 50,
    "start_time": "2022-05-30T22:11:22.345Z"
   },
   {
    "duration": 51,
    "start_time": "2022-05-30T22:11:41.378Z"
   },
   {
    "duration": 48,
    "start_time": "2022-05-30T22:11:48.147Z"
   },
   {
    "duration": 1187,
    "start_time": "2022-05-31T09:52:19.869Z"
   },
   {
    "duration": 483,
    "start_time": "2022-05-31T09:52:21.058Z"
   },
   {
    "duration": 12,
    "start_time": "2022-05-31T09:52:21.542Z"
   },
   {
    "duration": 4,
    "start_time": "2022-05-31T09:52:21.555Z"
   },
   {
    "duration": 81,
    "start_time": "2022-05-31T09:52:21.561Z"
   },
   {
    "duration": 10,
    "start_time": "2022-05-31T09:52:21.644Z"
   },
   {
    "duration": 41,
    "start_time": "2022-05-31T09:52:21.656Z"
   },
   {
    "duration": 4,
    "start_time": "2022-05-31T09:52:21.698Z"
   },
   {
    "duration": 136,
    "start_time": "2022-05-31T09:52:21.704Z"
   },
   {
    "duration": 84,
    "start_time": "2022-05-31T09:52:21.841Z"
   },
   {
    "duration": 26,
    "start_time": "2022-05-31T09:52:21.927Z"
   },
   {
    "duration": 71,
    "start_time": "2022-05-31T09:52:21.955Z"
   },
   {
    "duration": 97,
    "start_time": "2022-05-31T09:52:22.028Z"
   },
   {
    "duration": 9,
    "start_time": "2022-05-31T09:52:22.128Z"
   },
   {
    "duration": 36,
    "start_time": "2022-05-31T09:52:22.151Z"
   },
   {
    "duration": 37,
    "start_time": "2022-05-31T09:52:22.189Z"
   },
   {
    "duration": 12,
    "start_time": "2022-05-31T09:52:22.227Z"
   },
   {
    "duration": 366,
    "start_time": "2022-05-31T09:52:22.241Z"
   },
   {
    "duration": 24,
    "start_time": "2022-05-31T09:52:22.609Z"
   },
   {
    "duration": 43,
    "start_time": "2022-05-31T09:52:22.635Z"
   },
   {
    "duration": 13,
    "start_time": "2022-05-31T09:52:22.679Z"
   },
   {
    "duration": 431,
    "start_time": "2022-05-31T09:52:22.694Z"
   },
   {
    "duration": 6,
    "start_time": "2022-05-31T09:52:23.127Z"
   },
   {
    "duration": 30,
    "start_time": "2022-05-31T09:52:23.135Z"
   },
   {
    "duration": 5,
    "start_time": "2022-05-31T09:52:23.168Z"
   },
   {
    "duration": 15,
    "start_time": "2022-05-31T09:52:23.174Z"
   },
   {
    "duration": 7,
    "start_time": "2022-05-31T09:52:23.191Z"
   },
   {
    "duration": 16,
    "start_time": "2022-05-31T09:52:23.200Z"
   },
   {
    "duration": 142,
    "start_time": "2022-05-31T09:52:23.218Z"
   },
   {
    "duration": 30,
    "start_time": "2022-05-31T09:52:23.362Z"
   },
   {
    "duration": 28,
    "start_time": "2022-05-31T09:52:23.394Z"
   },
   {
    "duration": 29,
    "start_time": "2022-05-31T09:52:23.424Z"
   },
   {
    "duration": 57,
    "start_time": "2022-05-31T09:52:23.455Z"
   },
   {
    "duration": 11,
    "start_time": "2022-05-31T09:52:23.513Z"
   },
   {
    "duration": 140,
    "start_time": "2022-05-31T09:52:23.526Z"
   },
   {
    "duration": 5,
    "start_time": "2022-05-31T09:52:23.668Z"
   },
   {
    "duration": 33,
    "start_time": "2022-05-31T09:52:23.675Z"
   },
   {
    "duration": 60,
    "start_time": "2022-05-31T09:52:23.710Z"
   },
   {
    "duration": 82,
    "start_time": "2022-05-31T09:52:23.771Z"
   },
   {
    "duration": 40,
    "start_time": "2022-05-31T09:52:23.855Z"
   },
   {
    "duration": 10,
    "start_time": "2022-05-31T09:52:23.899Z"
   },
   {
    "duration": 50,
    "start_time": "2022-05-31T09:52:23.910Z"
   },
   {
    "duration": 6,
    "start_time": "2022-05-31T09:52:23.962Z"
   },
   {
    "duration": 39,
    "start_time": "2022-05-31T09:52:23.970Z"
   },
   {
    "duration": 22,
    "start_time": "2022-05-31T09:52:24.011Z"
   },
   {
    "duration": 29,
    "start_time": "2022-05-31T09:52:24.035Z"
   },
   {
    "duration": 6,
    "start_time": "2022-05-31T09:52:24.065Z"
   },
   {
    "duration": 14,
    "start_time": "2022-05-31T09:52:24.073Z"
   },
   {
    "duration": 17,
    "start_time": "2022-05-31T09:52:24.089Z"
   },
   {
    "duration": 59,
    "start_time": "2022-05-31T09:52:24.108Z"
   },
   {
    "duration": 7,
    "start_time": "2022-05-31T09:52:24.169Z"
   },
   {
    "duration": 16,
    "start_time": "2022-05-31T09:52:24.178Z"
   },
   {
    "duration": 16,
    "start_time": "2022-05-31T09:52:24.196Z"
   },
   {
    "duration": 16,
    "start_time": "2022-05-31T09:52:24.213Z"
   },
   {
    "duration": 9,
    "start_time": "2022-05-31T09:52:24.230Z"
   },
   {
    "duration": 50,
    "start_time": "2022-05-31T09:52:24.240Z"
   },
   {
    "duration": 44,
    "start_time": "2022-05-31T09:52:24.292Z"
   },
   {
    "duration": 15,
    "start_time": "2022-05-31T09:52:24.338Z"
   },
   {
    "duration": 9,
    "start_time": "2022-05-31T09:52:24.354Z"
   },
   {
    "duration": 11,
    "start_time": "2022-05-31T09:52:24.365Z"
   },
   {
    "duration": 13,
    "start_time": "2022-05-31T09:52:24.378Z"
   },
   {
    "duration": 9,
    "start_time": "2022-05-31T09:59:26.976Z"
   },
   {
    "duration": 138,
    "start_time": "2022-05-31T10:02:39.896Z"
   },
   {
    "duration": 1061,
    "start_time": "2022-05-31T10:04:37.980Z"
   },
   {
    "duration": 148,
    "start_time": "2022-05-31T10:04:39.043Z"
   },
   {
    "duration": 11,
    "start_time": "2022-05-31T10:04:39.192Z"
   },
   {
    "duration": 3,
    "start_time": "2022-05-31T10:04:39.205Z"
   },
   {
    "duration": 88,
    "start_time": "2022-05-31T10:04:39.209Z"
   },
   {
    "duration": 9,
    "start_time": "2022-05-31T10:04:39.299Z"
   },
   {
    "duration": 48,
    "start_time": "2022-05-31T10:04:39.309Z"
   },
   {
    "duration": 3,
    "start_time": "2022-05-31T10:04:39.359Z"
   },
   {
    "duration": 125,
    "start_time": "2022-05-31T10:04:39.364Z"
   },
   {
    "duration": 92,
    "start_time": "2022-05-31T10:04:39.491Z"
   },
   {
    "duration": 10,
    "start_time": "2022-05-31T10:04:39.585Z"
   },
   {
    "duration": 85,
    "start_time": "2022-05-31T10:04:39.597Z"
   },
   {
    "duration": 89,
    "start_time": "2022-05-31T10:04:39.683Z"
   },
   {
    "duration": 9,
    "start_time": "2022-05-31T10:04:39.774Z"
   },
   {
    "duration": 52,
    "start_time": "2022-05-31T10:04:39.784Z"
   },
   {
    "duration": 19,
    "start_time": "2022-05-31T10:04:39.837Z"
   },
   {
    "duration": 8,
    "start_time": "2022-05-31T10:04:39.858Z"
   },
   {
    "duration": 376,
    "start_time": "2022-05-31T10:04:39.868Z"
   },
   {
    "duration": 31,
    "start_time": "2022-05-31T10:04:40.246Z"
   },
   {
    "duration": 28,
    "start_time": "2022-05-31T10:04:40.279Z"
   },
   {
    "duration": 13,
    "start_time": "2022-05-31T10:04:40.309Z"
   },
   {
    "duration": 452,
    "start_time": "2022-05-31T10:04:40.323Z"
   },
   {
    "duration": 6,
    "start_time": "2022-05-31T10:04:40.777Z"
   },
   {
    "duration": 11,
    "start_time": "2022-05-31T10:04:40.784Z"
   },
   {
    "duration": 4,
    "start_time": "2022-05-31T10:04:40.796Z"
   },
   {
    "duration": 8,
    "start_time": "2022-05-31T10:04:40.801Z"
   },
   {
    "duration": 7,
    "start_time": "2022-05-31T10:04:40.810Z"
   },
   {
    "duration": 5,
    "start_time": "2022-05-31T10:04:40.854Z"
   },
   {
    "duration": 132,
    "start_time": "2022-05-31T10:04:40.860Z"
   },
   {
    "duration": 32,
    "start_time": "2022-05-31T10:04:40.993Z"
   },
   {
    "duration": 41,
    "start_time": "2022-05-31T10:04:41.027Z"
   },
   {
    "duration": 3,
    "start_time": "2022-05-31T10:04:41.070Z"
   },
   {
    "duration": 63,
    "start_time": "2022-05-31T10:04:41.075Z"
   },
   {
    "duration": 22,
    "start_time": "2022-05-31T10:04:41.139Z"
   },
   {
    "duration": 150,
    "start_time": "2022-05-31T10:04:41.163Z"
   },
   {
    "duration": 7,
    "start_time": "2022-05-31T10:04:41.315Z"
   },
   {
    "duration": 57,
    "start_time": "2022-05-31T10:04:41.323Z"
   },
   {
    "duration": 11,
    "start_time": "2022-05-31T10:04:41.382Z"
   },
   {
    "duration": 97,
    "start_time": "2022-05-31T10:04:41.395Z"
   },
   {
    "duration": 63,
    "start_time": "2022-05-31T10:04:41.493Z"
   },
   {
    "duration": 9,
    "start_time": "2022-05-31T10:04:41.558Z"
   },
   {
    "duration": 47,
    "start_time": "2022-05-31T10:04:41.568Z"
   },
   {
    "duration": 7,
    "start_time": "2022-05-31T10:04:41.616Z"
   },
   {
    "duration": 29,
    "start_time": "2022-05-31T10:04:41.624Z"
   },
   {
    "duration": 6,
    "start_time": "2022-05-31T10:04:41.655Z"
   },
   {
    "duration": 28,
    "start_time": "2022-05-31T10:04:41.663Z"
   },
   {
    "duration": 6,
    "start_time": "2022-05-31T10:04:41.693Z"
   },
   {
    "duration": 24,
    "start_time": "2022-05-31T10:04:41.700Z"
   },
   {
    "duration": 13,
    "start_time": "2022-05-31T10:04:41.725Z"
   },
   {
    "duration": 59,
    "start_time": "2022-05-31T10:04:41.740Z"
   },
   {
    "duration": 9,
    "start_time": "2022-05-31T10:04:41.800Z"
   },
   {
    "duration": 13,
    "start_time": "2022-05-31T10:04:41.810Z"
   },
   {
    "duration": 19,
    "start_time": "2022-05-31T10:04:41.825Z"
   },
   {
    "duration": 13,
    "start_time": "2022-05-31T10:04:41.846Z"
   },
   {
    "duration": 8,
    "start_time": "2022-05-31T10:04:41.860Z"
   },
   {
    "duration": 35,
    "start_time": "2022-05-31T10:04:41.870Z"
   },
   {
    "duration": 10,
    "start_time": "2022-05-31T10:04:41.907Z"
   },
   {
    "duration": 7,
    "start_time": "2022-05-31T10:04:41.919Z"
   },
   {
    "duration": 0,
    "start_time": "2022-05-31T10:04:41.952Z"
   },
   {
    "duration": 0,
    "start_time": "2022-05-31T10:04:41.954Z"
   },
   {
    "duration": 0,
    "start_time": "2022-05-31T10:04:41.955Z"
   },
   {
    "duration": 0,
    "start_time": "2022-05-31T10:04:41.956Z"
   },
   {
    "duration": 0,
    "start_time": "2022-05-31T10:04:41.957Z"
   },
   {
    "duration": 0,
    "start_time": "2022-05-31T10:04:41.958Z"
   },
   {
    "duration": 44,
    "start_time": "2022-05-31T10:05:11.683Z"
   },
   {
    "duration": 9,
    "start_time": "2022-05-31T10:05:13.365Z"
   },
   {
    "duration": 1097,
    "start_time": "2022-05-31T10:10:30.547Z"
   },
   {
    "duration": 158,
    "start_time": "2022-05-31T10:10:31.646Z"
   },
   {
    "duration": 13,
    "start_time": "2022-05-31T10:10:31.805Z"
   },
   {
    "duration": 5,
    "start_time": "2022-05-31T10:10:31.820Z"
   },
   {
    "duration": 99,
    "start_time": "2022-05-31T10:10:31.827Z"
   },
   {
    "duration": 13,
    "start_time": "2022-05-31T10:10:31.928Z"
   },
   {
    "duration": 65,
    "start_time": "2022-05-31T10:10:31.943Z"
   },
   {
    "duration": 6,
    "start_time": "2022-05-31T10:10:32.010Z"
   },
   {
    "duration": 154,
    "start_time": "2022-05-31T10:10:32.017Z"
   },
   {
    "duration": 84,
    "start_time": "2022-05-31T10:10:32.174Z"
   },
   {
    "duration": 12,
    "start_time": "2022-05-31T10:10:32.263Z"
   },
   {
    "duration": 104,
    "start_time": "2022-05-31T10:10:32.276Z"
   },
   {
    "duration": 90,
    "start_time": "2022-05-31T10:10:32.381Z"
   },
   {
    "duration": 19,
    "start_time": "2022-05-31T10:10:32.473Z"
   },
   {
    "duration": 69,
    "start_time": "2022-05-31T10:10:32.494Z"
   },
   {
    "duration": 25,
    "start_time": "2022-05-31T10:10:32.567Z"
   },
   {
    "duration": 18,
    "start_time": "2022-05-31T10:10:32.594Z"
   },
   {
    "duration": 365,
    "start_time": "2022-05-31T10:10:32.614Z"
   },
   {
    "duration": 21,
    "start_time": "2022-05-31T10:10:32.981Z"
   },
   {
    "duration": 27,
    "start_time": "2022-05-31T10:10:33.004Z"
   },
   {
    "duration": 30,
    "start_time": "2022-05-31T10:10:33.033Z"
   },
   {
    "duration": 440,
    "start_time": "2022-05-31T10:10:33.068Z"
   },
   {
    "duration": 8,
    "start_time": "2022-05-31T10:10:33.509Z"
   },
   {
    "duration": 10,
    "start_time": "2022-05-31T10:10:33.520Z"
   },
   {
    "duration": 23,
    "start_time": "2022-05-31T10:10:33.532Z"
   },
   {
    "duration": 16,
    "start_time": "2022-05-31T10:10:33.561Z"
   },
   {
    "duration": 8,
    "start_time": "2022-05-31T10:10:33.578Z"
   },
   {
    "duration": 9,
    "start_time": "2022-05-31T10:10:33.589Z"
   },
   {
    "duration": 125,
    "start_time": "2022-05-31T10:10:33.599Z"
   },
   {
    "duration": 37,
    "start_time": "2022-05-31T10:10:33.725Z"
   },
   {
    "duration": 27,
    "start_time": "2022-05-31T10:10:33.766Z"
   },
   {
    "duration": 4,
    "start_time": "2022-05-31T10:10:33.794Z"
   },
   {
    "duration": 79,
    "start_time": "2022-05-31T10:10:33.800Z"
   },
   {
    "duration": 10,
    "start_time": "2022-05-31T10:10:33.880Z"
   },
   {
    "duration": 163,
    "start_time": "2022-05-31T10:10:33.892Z"
   },
   {
    "duration": 8,
    "start_time": "2022-05-31T10:10:34.057Z"
   },
   {
    "duration": 95,
    "start_time": "2022-05-31T10:10:34.068Z"
   },
   {
    "duration": 13,
    "start_time": "2022-05-31T10:10:34.164Z"
   },
   {
    "duration": 45,
    "start_time": "2022-05-31T10:10:34.179Z"
   },
   {
    "duration": 81,
    "start_time": "2022-05-31T10:10:34.226Z"
   },
   {
    "duration": 10,
    "start_time": "2022-05-31T10:10:34.310Z"
   },
   {
    "duration": 49,
    "start_time": "2022-05-31T10:10:34.322Z"
   },
   {
    "duration": 6,
    "start_time": "2022-05-31T10:10:34.373Z"
   },
   {
    "duration": 31,
    "start_time": "2022-05-31T10:10:34.380Z"
   },
   {
    "duration": 7,
    "start_time": "2022-05-31T10:10:34.413Z"
   },
   {
    "duration": 36,
    "start_time": "2022-05-31T10:10:34.421Z"
   },
   {
    "duration": 11,
    "start_time": "2022-05-31T10:10:34.459Z"
   },
   {
    "duration": 14,
    "start_time": "2022-05-31T10:10:34.471Z"
   },
   {
    "duration": 11,
    "start_time": "2022-05-31T10:10:34.486Z"
   },
   {
    "duration": 80,
    "start_time": "2022-05-31T10:10:34.498Z"
   },
   {
    "duration": 7,
    "start_time": "2022-05-31T10:10:34.580Z"
   },
   {
    "duration": 20,
    "start_time": "2022-05-31T10:10:34.589Z"
   },
   {
    "duration": 13,
    "start_time": "2022-05-31T10:10:34.611Z"
   },
   {
    "duration": 15,
    "start_time": "2022-05-31T10:10:34.626Z"
   },
   {
    "duration": 16,
    "start_time": "2022-05-31T10:10:34.642Z"
   },
   {
    "duration": 54,
    "start_time": "2022-05-31T10:10:34.659Z"
   },
   {
    "duration": 9,
    "start_time": "2022-05-31T10:10:34.715Z"
   },
   {
    "duration": 53,
    "start_time": "2022-05-31T10:10:34.726Z"
   },
   {
    "duration": 4,
    "start_time": "2022-05-31T10:10:34.781Z"
   },
   {
    "duration": 0,
    "start_time": "2022-05-31T10:10:34.787Z"
   },
   {
    "duration": 0,
    "start_time": "2022-05-31T10:10:34.787Z"
   },
   {
    "duration": 0,
    "start_time": "2022-05-31T10:10:34.789Z"
   },
   {
    "duration": 0,
    "start_time": "2022-05-31T10:10:34.789Z"
   },
   {
    "duration": 0,
    "start_time": "2022-05-31T10:10:34.790Z"
   },
   {
    "duration": 0,
    "start_time": "2022-05-31T10:10:34.791Z"
   },
   {
    "duration": 3,
    "start_time": "2022-05-31T10:11:13.208Z"
   },
   {
    "duration": 4,
    "start_time": "2022-05-31T10:11:20.333Z"
   },
   {
    "duration": 54,
    "start_time": "2022-05-31T10:12:34.418Z"
   },
   {
    "duration": 5,
    "start_time": "2022-05-31T10:12:34.904Z"
   },
   {
    "duration": 3,
    "start_time": "2022-05-31T10:16:41.402Z"
   },
   {
    "duration": 6,
    "start_time": "2022-05-31T10:16:48.829Z"
   },
   {
    "duration": 4,
    "start_time": "2022-05-31T10:17:20.829Z"
   },
   {
    "duration": 53,
    "start_time": "2022-05-31T10:20:34.212Z"
   },
   {
    "duration": 25,
    "start_time": "2022-05-31T10:20:47.971Z"
   },
   {
    "duration": 27,
    "start_time": "2022-05-31T10:24:32.820Z"
   },
   {
    "duration": 29,
    "start_time": "2022-05-31T10:25:23.594Z"
   },
   {
    "duration": 1129,
    "start_time": "2022-05-31T10:25:53.393Z"
   },
   {
    "duration": 159,
    "start_time": "2022-05-31T10:25:54.524Z"
   },
   {
    "duration": 11,
    "start_time": "2022-05-31T10:25:54.684Z"
   },
   {
    "duration": 4,
    "start_time": "2022-05-31T10:25:54.697Z"
   },
   {
    "duration": 101,
    "start_time": "2022-05-31T10:25:54.703Z"
   },
   {
    "duration": 9,
    "start_time": "2022-05-31T10:25:54.806Z"
   },
   {
    "duration": 54,
    "start_time": "2022-05-31T10:25:54.817Z"
   },
   {
    "duration": 7,
    "start_time": "2022-05-31T10:25:54.873Z"
   },
   {
    "duration": 132,
    "start_time": "2022-05-31T10:25:54.881Z"
   },
   {
    "duration": 100,
    "start_time": "2022-05-31T10:25:55.015Z"
   },
   {
    "duration": 10,
    "start_time": "2022-05-31T10:25:55.118Z"
   },
   {
    "duration": 113,
    "start_time": "2022-05-31T10:25:55.129Z"
   },
   {
    "duration": 124,
    "start_time": "2022-05-31T10:25:55.245Z"
   },
   {
    "duration": 14,
    "start_time": "2022-05-31T10:25:55.374Z"
   },
   {
    "duration": 45,
    "start_time": "2022-05-31T10:25:55.390Z"
   },
   {
    "duration": 34,
    "start_time": "2022-05-31T10:25:55.437Z"
   },
   {
    "duration": 39,
    "start_time": "2022-05-31T10:25:55.474Z"
   },
   {
    "duration": 367,
    "start_time": "2022-05-31T10:25:55.515Z"
   },
   {
    "duration": 21,
    "start_time": "2022-05-31T10:25:55.884Z"
   },
   {
    "duration": 26,
    "start_time": "2022-05-31T10:25:55.907Z"
   },
   {
    "duration": 16,
    "start_time": "2022-05-31T10:25:55.953Z"
   },
   {
    "duration": 467,
    "start_time": "2022-05-31T10:25:55.971Z"
   },
   {
    "duration": 20,
    "start_time": "2022-05-31T10:25:56.440Z"
   },
   {
    "duration": 33,
    "start_time": "2022-05-31T10:25:56.462Z"
   },
   {
    "duration": 10,
    "start_time": "2022-05-31T10:25:56.496Z"
   },
   {
    "duration": 29,
    "start_time": "2022-05-31T10:25:56.508Z"
   },
   {
    "duration": 31,
    "start_time": "2022-05-31T10:25:56.539Z"
   },
   {
    "duration": 18,
    "start_time": "2022-05-31T10:25:56.572Z"
   },
   {
    "duration": 143,
    "start_time": "2022-05-31T10:25:56.592Z"
   },
   {
    "duration": 40,
    "start_time": "2022-05-31T10:25:56.736Z"
   },
   {
    "duration": 30,
    "start_time": "2022-05-31T10:25:56.778Z"
   },
   {
    "duration": 11,
    "start_time": "2022-05-31T10:25:56.810Z"
   },
   {
    "duration": 72,
    "start_time": "2022-05-31T10:25:56.823Z"
   },
   {
    "duration": 11,
    "start_time": "2022-05-31T10:25:56.897Z"
   },
   {
    "duration": 160,
    "start_time": "2022-05-31T10:25:56.910Z"
   },
   {
    "duration": 6,
    "start_time": "2022-05-31T10:25:57.072Z"
   },
   {
    "duration": 95,
    "start_time": "2022-05-31T10:25:57.080Z"
   },
   {
    "duration": 11,
    "start_time": "2022-05-31T10:25:57.179Z"
   },
   {
    "duration": 81,
    "start_time": "2022-05-31T10:25:57.191Z"
   },
   {
    "duration": 50,
    "start_time": "2022-05-31T10:25:57.274Z"
   },
   {
    "duration": 9,
    "start_time": "2022-05-31T10:25:57.328Z"
   },
   {
    "duration": 47,
    "start_time": "2022-05-31T10:25:57.338Z"
   },
   {
    "duration": 13,
    "start_time": "2022-05-31T10:25:57.387Z"
   },
   {
    "duration": 47,
    "start_time": "2022-05-31T10:25:57.402Z"
   },
   {
    "duration": 10,
    "start_time": "2022-05-31T10:25:57.451Z"
   },
   {
    "duration": 60,
    "start_time": "2022-05-31T10:25:57.462Z"
   },
   {
    "duration": 6,
    "start_time": "2022-05-31T10:25:57.524Z"
   },
   {
    "duration": 37,
    "start_time": "2022-05-31T10:25:57.531Z"
   },
   {
    "duration": 12,
    "start_time": "2022-05-31T10:25:57.571Z"
   },
   {
    "duration": 68,
    "start_time": "2022-05-31T10:25:57.585Z"
   },
   {
    "duration": 11,
    "start_time": "2022-05-31T10:25:57.663Z"
   },
   {
    "duration": 9,
    "start_time": "2022-05-31T10:25:57.676Z"
   },
   {
    "duration": 16,
    "start_time": "2022-05-31T10:25:57.687Z"
   },
   {
    "duration": 21,
    "start_time": "2022-05-31T10:25:57.705Z"
   },
   {
    "duration": 18,
    "start_time": "2022-05-31T10:25:57.728Z"
   },
   {
    "duration": 71,
    "start_time": "2022-05-31T10:25:57.748Z"
   },
   {
    "duration": 9,
    "start_time": "2022-05-31T10:25:57.820Z"
   },
   {
    "duration": 68,
    "start_time": "2022-05-31T10:25:57.831Z"
   },
   {
    "duration": 4,
    "start_time": "2022-05-31T10:25:57.900Z"
   },
   {
    "duration": 42,
    "start_time": "2022-05-31T10:25:57.906Z"
   },
   {
    "duration": 118,
    "start_time": "2022-05-31T10:25:57.955Z"
   },
   {
    "duration": 0,
    "start_time": "2022-05-31T10:25:58.075Z"
   },
   {
    "duration": 0,
    "start_time": "2022-05-31T10:25:58.076Z"
   },
   {
    "duration": 0,
    "start_time": "2022-05-31T10:25:58.077Z"
   },
   {
    "duration": 0,
    "start_time": "2022-05-31T10:25:58.078Z"
   },
   {
    "duration": 1135,
    "start_time": "2022-05-31T10:26:57.647Z"
   },
   {
    "duration": 152,
    "start_time": "2022-05-31T10:26:58.784Z"
   },
   {
    "duration": 23,
    "start_time": "2022-05-31T10:26:58.938Z"
   },
   {
    "duration": 6,
    "start_time": "2022-05-31T10:26:58.962Z"
   },
   {
    "duration": 76,
    "start_time": "2022-05-31T10:26:58.970Z"
   },
   {
    "duration": 11,
    "start_time": "2022-05-31T10:26:59.048Z"
   },
   {
    "duration": 40,
    "start_time": "2022-05-31T10:26:59.067Z"
   },
   {
    "duration": 9,
    "start_time": "2022-05-31T10:26:59.109Z"
   },
   {
    "duration": 150,
    "start_time": "2022-05-31T10:26:59.120Z"
   },
   {
    "duration": 77,
    "start_time": "2022-05-31T10:26:59.272Z"
   },
   {
    "duration": 18,
    "start_time": "2022-05-31T10:26:59.351Z"
   },
   {
    "duration": 86,
    "start_time": "2022-05-31T10:26:59.371Z"
   },
   {
    "duration": 101,
    "start_time": "2022-05-31T10:26:59.458Z"
   },
   {
    "duration": 10,
    "start_time": "2022-05-31T10:26:59.563Z"
   },
   {
    "duration": 48,
    "start_time": "2022-05-31T10:26:59.575Z"
   },
   {
    "duration": 42,
    "start_time": "2022-05-31T10:26:59.625Z"
   },
   {
    "duration": 11,
    "start_time": "2022-05-31T10:26:59.669Z"
   },
   {
    "duration": 378,
    "start_time": "2022-05-31T10:26:59.681Z"
   },
   {
    "duration": 24,
    "start_time": "2022-05-31T10:27:00.065Z"
   },
   {
    "duration": 29,
    "start_time": "2022-05-31T10:27:00.091Z"
   },
   {
    "duration": 50,
    "start_time": "2022-05-31T10:27:00.121Z"
   },
   {
    "duration": 456,
    "start_time": "2022-05-31T10:27:00.174Z"
   },
   {
    "duration": 8,
    "start_time": "2022-05-31T10:27:00.632Z"
   },
   {
    "duration": 38,
    "start_time": "2022-05-31T10:27:00.642Z"
   },
   {
    "duration": 11,
    "start_time": "2022-05-31T10:27:00.682Z"
   },
   {
    "duration": 25,
    "start_time": "2022-05-31T10:27:00.695Z"
   },
   {
    "duration": 15,
    "start_time": "2022-05-31T10:27:00.722Z"
   },
   {
    "duration": 39,
    "start_time": "2022-05-31T10:27:00.739Z"
   },
   {
    "duration": 139,
    "start_time": "2022-05-31T10:27:00.780Z"
   },
   {
    "duration": 46,
    "start_time": "2022-05-31T10:27:00.921Z"
   },
   {
    "duration": 28,
    "start_time": "2022-05-31T10:27:00.969Z"
   },
   {
    "duration": 5,
    "start_time": "2022-05-31T10:27:00.999Z"
   },
   {
    "duration": 76,
    "start_time": "2022-05-31T10:27:01.006Z"
   },
   {
    "duration": 12,
    "start_time": "2022-05-31T10:27:01.084Z"
   },
   {
    "duration": 166,
    "start_time": "2022-05-31T10:27:01.097Z"
   },
   {
    "duration": 6,
    "start_time": "2022-05-31T10:27:01.266Z"
   },
   {
    "duration": 106,
    "start_time": "2022-05-31T10:27:01.273Z"
   },
   {
    "duration": 28,
    "start_time": "2022-05-31T10:27:01.381Z"
   },
   {
    "duration": 67,
    "start_time": "2022-05-31T10:27:01.411Z"
   },
   {
    "duration": 62,
    "start_time": "2022-05-31T10:27:01.480Z"
   },
   {
    "duration": 12,
    "start_time": "2022-05-31T10:27:01.545Z"
   },
   {
    "duration": 62,
    "start_time": "2022-05-31T10:27:01.565Z"
   },
   {
    "duration": 7,
    "start_time": "2022-05-31T10:27:01.629Z"
   },
   {
    "duration": 71,
    "start_time": "2022-05-31T10:27:01.638Z"
   },
   {
    "duration": 20,
    "start_time": "2022-05-31T10:27:01.711Z"
   },
   {
    "duration": 49,
    "start_time": "2022-05-31T10:27:01.733Z"
   },
   {
    "duration": 13,
    "start_time": "2022-05-31T10:27:01.785Z"
   },
   {
    "duration": 24,
    "start_time": "2022-05-31T10:27:01.800Z"
   },
   {
    "duration": 18,
    "start_time": "2022-05-31T10:27:01.826Z"
   },
   {
    "duration": 118,
    "start_time": "2022-05-31T10:27:01.848Z"
   },
   {
    "duration": 11,
    "start_time": "2022-05-31T10:27:01.968Z"
   },
   {
    "duration": 59,
    "start_time": "2022-05-31T10:27:01.980Z"
   },
   {
    "duration": 64,
    "start_time": "2022-05-31T10:27:02.041Z"
   },
   {
    "duration": 30,
    "start_time": "2022-05-31T10:27:02.107Z"
   },
   {
    "duration": 71,
    "start_time": "2022-05-31T10:27:02.140Z"
   },
   {
    "duration": 130,
    "start_time": "2022-05-31T10:27:02.213Z"
   },
   {
    "duration": 20,
    "start_time": "2022-05-31T10:27:02.345Z"
   },
   {
    "duration": 72,
    "start_time": "2022-05-31T10:27:02.369Z"
   },
   {
    "duration": 4,
    "start_time": "2022-05-31T10:27:02.443Z"
   },
   {
    "duration": 51,
    "start_time": "2022-05-31T10:27:02.449Z"
   },
   {
    "duration": 142,
    "start_time": "2022-05-31T10:27:02.503Z"
   },
   {
    "duration": 0,
    "start_time": "2022-05-31T10:27:02.647Z"
   },
   {
    "duration": 0,
    "start_time": "2022-05-31T10:27:02.653Z"
   },
   {
    "duration": 0,
    "start_time": "2022-05-31T10:27:02.654Z"
   },
   {
    "duration": 0,
    "start_time": "2022-05-31T10:27:02.657Z"
   },
   {
    "duration": 36,
    "start_time": "2022-05-31T10:28:09.624Z"
   },
   {
    "duration": 55,
    "start_time": "2022-05-31T10:29:37.439Z"
   },
   {
    "duration": 10,
    "start_time": "2022-05-31T10:29:47.734Z"
   },
   {
    "duration": 6,
    "start_time": "2022-05-31T10:29:48.152Z"
   },
   {
    "duration": 6,
    "start_time": "2022-05-31T10:29:48.686Z"
   },
   {
    "duration": 9,
    "start_time": "2022-05-31T10:29:49.188Z"
   },
   {
    "duration": 5,
    "start_time": "2022-05-31T10:29:49.701Z"
   },
   {
    "duration": 41,
    "start_time": "2022-05-31T10:29:50.800Z"
   },
   {
    "duration": 10,
    "start_time": "2022-05-31T10:29:54.316Z"
   },
   {
    "duration": 7,
    "start_time": "2022-05-31T10:29:55.307Z"
   },
   {
    "duration": 30,
    "start_time": "2022-05-31T10:29:58.438Z"
   },
   {
    "duration": 29,
    "start_time": "2022-05-31T10:30:27.519Z"
   },
   {
    "duration": 8,
    "start_time": "2022-05-31T10:34:26.877Z"
   },
   {
    "duration": 1122,
    "start_time": "2022-05-31T10:41:13.369Z"
   },
   {
    "duration": 164,
    "start_time": "2022-05-31T10:41:14.493Z"
   },
   {
    "duration": 12,
    "start_time": "2022-05-31T10:41:14.666Z"
   },
   {
    "duration": 3,
    "start_time": "2022-05-31T10:41:14.680Z"
   },
   {
    "duration": 93,
    "start_time": "2022-05-31T10:41:14.684Z"
   },
   {
    "duration": 9,
    "start_time": "2022-05-31T10:41:14.778Z"
   },
   {
    "duration": 41,
    "start_time": "2022-05-31T10:41:14.789Z"
   },
   {
    "duration": 23,
    "start_time": "2022-05-31T10:41:14.832Z"
   },
   {
    "duration": 139,
    "start_time": "2022-05-31T10:41:14.856Z"
   },
   {
    "duration": 100,
    "start_time": "2022-05-31T10:41:14.998Z"
   },
   {
    "duration": 11,
    "start_time": "2022-05-31T10:41:15.099Z"
   },
   {
    "duration": 104,
    "start_time": "2022-05-31T10:41:15.111Z"
   },
   {
    "duration": 122,
    "start_time": "2022-05-31T10:41:15.217Z"
   },
   {
    "duration": 20,
    "start_time": "2022-05-31T10:41:15.342Z"
   },
   {
    "duration": 56,
    "start_time": "2022-05-31T10:41:15.364Z"
   },
   {
    "duration": 20,
    "start_time": "2022-05-31T10:41:15.422Z"
   },
   {
    "duration": 25,
    "start_time": "2022-05-31T10:41:15.444Z"
   },
   {
    "duration": 394,
    "start_time": "2022-05-31T10:41:15.471Z"
   },
   {
    "duration": 22,
    "start_time": "2022-05-31T10:41:15.866Z"
   },
   {
    "duration": 30,
    "start_time": "2022-05-31T10:41:15.890Z"
   },
   {
    "duration": 40,
    "start_time": "2022-05-31T10:41:15.922Z"
   },
   {
    "duration": 475,
    "start_time": "2022-05-31T10:41:15.964Z"
   },
   {
    "duration": 15,
    "start_time": "2022-05-31T10:41:16.441Z"
   },
   {
    "duration": 11,
    "start_time": "2022-05-31T10:41:16.460Z"
   },
   {
    "duration": 6,
    "start_time": "2022-05-31T10:41:16.473Z"
   },
   {
    "duration": 10,
    "start_time": "2022-05-31T10:41:16.480Z"
   },
   {
    "duration": 6,
    "start_time": "2022-05-31T10:41:16.491Z"
   },
   {
    "duration": 7,
    "start_time": "2022-05-31T10:41:16.500Z"
   },
   {
    "duration": 162,
    "start_time": "2022-05-31T10:41:16.508Z"
   },
   {
    "duration": 45,
    "start_time": "2022-05-31T10:41:16.672Z"
   },
   {
    "duration": 53,
    "start_time": "2022-05-31T10:41:16.718Z"
   },
   {
    "duration": 31,
    "start_time": "2022-05-31T10:41:16.775Z"
   },
   {
    "duration": 69,
    "start_time": "2022-05-31T10:41:16.808Z"
   },
   {
    "duration": 11,
    "start_time": "2022-05-31T10:41:16.878Z"
   },
   {
    "duration": 145,
    "start_time": "2022-05-31T10:41:16.891Z"
   },
   {
    "duration": 7,
    "start_time": "2022-05-31T10:41:17.037Z"
   },
   {
    "duration": 42,
    "start_time": "2022-05-31T10:41:17.046Z"
   },
   {
    "duration": 67,
    "start_time": "2022-05-31T10:41:17.090Z"
   },
   {
    "duration": 98,
    "start_time": "2022-05-31T10:41:17.159Z"
   },
   {
    "duration": 55,
    "start_time": "2022-05-31T10:41:17.261Z"
   },
   {
    "duration": 13,
    "start_time": "2022-05-31T10:41:17.318Z"
   },
   {
    "duration": 52,
    "start_time": "2022-05-31T10:41:17.333Z"
   },
   {
    "duration": 6,
    "start_time": "2022-05-31T10:41:17.387Z"
   },
   {
    "duration": 31,
    "start_time": "2022-05-31T10:41:17.394Z"
   },
   {
    "duration": 6,
    "start_time": "2022-05-31T10:41:17.427Z"
   },
   {
    "duration": 55,
    "start_time": "2022-05-31T10:41:17.434Z"
   },
   {
    "duration": 7,
    "start_time": "2022-05-31T10:41:17.490Z"
   },
   {
    "duration": 19,
    "start_time": "2022-05-31T10:41:17.498Z"
   },
   {
    "duration": 11,
    "start_time": "2022-05-31T10:41:17.520Z"
   },
   {
    "duration": 53,
    "start_time": "2022-05-31T10:41:17.533Z"
   },
   {
    "duration": 7,
    "start_time": "2022-05-31T10:41:17.587Z"
   },
   {
    "duration": 9,
    "start_time": "2022-05-31T10:41:17.596Z"
   },
   {
    "duration": 17,
    "start_time": "2022-05-31T10:41:17.607Z"
   },
   {
    "duration": 14,
    "start_time": "2022-05-31T10:41:17.626Z"
   },
   {
    "duration": 35,
    "start_time": "2022-05-31T10:41:17.641Z"
   },
   {
    "duration": 48,
    "start_time": "2022-05-31T10:41:17.677Z"
   },
   {
    "duration": 5,
    "start_time": "2022-05-31T10:41:17.727Z"
   },
   {
    "duration": 43,
    "start_time": "2022-05-31T10:41:17.733Z"
   },
   {
    "duration": 54,
    "start_time": "2022-05-31T15:40:55.973Z"
   },
   {
    "duration": 1096,
    "start_time": "2022-05-31T15:41:05.768Z"
   },
   {
    "duration": 524,
    "start_time": "2022-05-31T15:41:06.866Z"
   },
   {
    "duration": 11,
    "start_time": "2022-05-31T15:41:07.392Z"
   },
   {
    "duration": 54,
    "start_time": "2022-05-31T15:41:07.405Z"
   },
   {
    "duration": 83,
    "start_time": "2022-05-31T15:41:07.461Z"
   },
   {
    "duration": 9,
    "start_time": "2022-05-31T15:41:07.545Z"
   },
   {
    "duration": 39,
    "start_time": "2022-05-31T15:41:07.555Z"
   },
   {
    "duration": 49,
    "start_time": "2022-05-31T15:41:07.598Z"
   },
   {
    "duration": 125,
    "start_time": "2022-05-31T15:41:07.649Z"
   },
   {
    "duration": 87,
    "start_time": "2022-05-31T15:41:07.777Z"
   },
   {
    "duration": 9,
    "start_time": "2022-05-31T15:41:07.866Z"
   },
   {
    "duration": 84,
    "start_time": "2022-05-31T15:41:07.876Z"
   },
   {
    "duration": 88,
    "start_time": "2022-05-31T15:41:07.961Z"
   },
   {
    "duration": 9,
    "start_time": "2022-05-31T15:41:08.051Z"
   },
   {
    "duration": 45,
    "start_time": "2022-05-31T15:41:08.061Z"
   },
   {
    "duration": 18,
    "start_time": "2022-05-31T15:41:08.108Z"
   },
   {
    "duration": 10,
    "start_time": "2022-05-31T15:41:08.127Z"
   },
   {
    "duration": 342,
    "start_time": "2022-05-31T15:41:08.138Z"
   },
   {
    "duration": 26,
    "start_time": "2022-05-31T15:41:08.482Z"
   },
   {
    "duration": 26,
    "start_time": "2022-05-31T15:41:08.510Z"
   },
   {
    "duration": 11,
    "start_time": "2022-05-31T15:41:08.538Z"
   },
   {
    "duration": 435,
    "start_time": "2022-05-31T15:41:08.551Z"
   },
   {
    "duration": 12,
    "start_time": "2022-05-31T15:41:08.987Z"
   },
   {
    "duration": 9,
    "start_time": "2022-05-31T15:41:09.001Z"
   },
   {
    "duration": 4,
    "start_time": "2022-05-31T15:41:09.011Z"
   },
   {
    "duration": 6,
    "start_time": "2022-05-31T15:41:09.017Z"
   },
   {
    "duration": 5,
    "start_time": "2022-05-31T15:41:09.025Z"
   },
   {
    "duration": 13,
    "start_time": "2022-05-31T15:41:09.035Z"
   },
   {
    "duration": 154,
    "start_time": "2022-05-31T15:41:09.050Z"
   },
   {
    "duration": 28,
    "start_time": "2022-05-31T15:41:09.206Z"
   },
   {
    "duration": 35,
    "start_time": "2022-05-31T15:41:09.235Z"
   },
   {
    "duration": 4,
    "start_time": "2022-05-31T15:41:09.272Z"
   },
   {
    "duration": 77,
    "start_time": "2022-05-31T15:41:09.277Z"
   },
   {
    "duration": 13,
    "start_time": "2022-05-31T15:41:09.356Z"
   },
   {
    "duration": 129,
    "start_time": "2022-05-31T15:41:09.371Z"
   },
   {
    "duration": 5,
    "start_time": "2022-05-31T15:41:09.502Z"
   },
   {
    "duration": 90,
    "start_time": "2022-05-31T15:41:09.509Z"
   },
   {
    "duration": 10,
    "start_time": "2022-05-31T15:41:09.601Z"
   },
   {
    "duration": 89,
    "start_time": "2022-05-31T15:41:09.613Z"
   },
   {
    "duration": 41,
    "start_time": "2022-05-31T15:41:09.704Z"
   },
   {
    "duration": 10,
    "start_time": "2022-05-31T15:41:09.747Z"
   },
   {
    "duration": 46,
    "start_time": "2022-05-31T15:41:09.759Z"
   },
   {
    "duration": 6,
    "start_time": "2022-05-31T15:41:09.806Z"
   },
   {
    "duration": 30,
    "start_time": "2022-05-31T15:41:09.814Z"
   },
   {
    "duration": 6,
    "start_time": "2022-05-31T15:41:09.846Z"
   },
   {
    "duration": 35,
    "start_time": "2022-05-31T15:41:09.853Z"
   },
   {
    "duration": 10,
    "start_time": "2022-05-31T15:41:09.890Z"
   },
   {
    "duration": 21,
    "start_time": "2022-05-31T15:41:09.901Z"
   },
   {
    "duration": 33,
    "start_time": "2022-05-31T15:41:09.923Z"
   },
   {
    "duration": 55,
    "start_time": "2022-05-31T15:41:09.958Z"
   },
   {
    "duration": 3,
    "start_time": "2022-05-31T15:41:10.015Z"
   },
   {
    "duration": 14,
    "start_time": "2022-05-31T15:41:10.020Z"
   },
   {
    "duration": 26,
    "start_time": "2022-05-31T15:41:10.036Z"
   },
   {
    "duration": 16,
    "start_time": "2022-05-31T15:41:10.064Z"
   },
   {
    "duration": 49,
    "start_time": "2022-05-31T15:41:10.082Z"
   },
   {
    "duration": 36,
    "start_time": "2022-05-31T15:41:10.133Z"
   },
   {
    "duration": 63,
    "start_time": "2022-05-31T15:41:10.171Z"
   },
   {
    "duration": 4,
    "start_time": "2022-05-31T15:41:10.235Z"
   },
   {
    "duration": 46,
    "start_time": "2022-05-31T15:41:10.241Z"
   },
   {
    "duration": 8,
    "start_time": "2022-05-31T15:42:06.212Z"
   },
   {
    "duration": 44,
    "start_time": "2022-05-31T15:42:57.979Z"
   },
   {
    "duration": 45,
    "start_time": "2022-05-31T15:45:03.103Z"
   },
   {
    "duration": 1062,
    "start_time": "2022-05-31T15:59:16.631Z"
   },
   {
    "duration": 172,
    "start_time": "2022-05-31T15:59:17.695Z"
   },
   {
    "duration": 11,
    "start_time": "2022-05-31T15:59:17.868Z"
   },
   {
    "duration": 6,
    "start_time": "2022-05-31T15:59:17.881Z"
   },
   {
    "duration": 86,
    "start_time": "2022-05-31T15:59:17.888Z"
   },
   {
    "duration": 8,
    "start_time": "2022-05-31T15:59:17.975Z"
   },
   {
    "duration": 43,
    "start_time": "2022-05-31T15:59:17.985Z"
   },
   {
    "duration": 3,
    "start_time": "2022-05-31T15:59:18.030Z"
   },
   {
    "duration": 117,
    "start_time": "2022-05-31T15:59:18.035Z"
   },
   {
    "duration": 91,
    "start_time": "2022-05-31T15:59:18.155Z"
   },
   {
    "duration": 10,
    "start_time": "2022-05-31T15:59:18.248Z"
   },
   {
    "duration": 82,
    "start_time": "2022-05-31T15:59:18.259Z"
   },
   {
    "duration": 82,
    "start_time": "2022-05-31T15:59:18.343Z"
   },
   {
    "duration": 11,
    "start_time": "2022-05-31T15:59:18.426Z"
   },
   {
    "duration": 32,
    "start_time": "2022-05-31T15:59:18.439Z"
   },
   {
    "duration": 34,
    "start_time": "2022-05-31T15:59:18.473Z"
   },
   {
    "duration": 8,
    "start_time": "2022-05-31T15:59:18.509Z"
   },
   {
    "duration": 347,
    "start_time": "2022-05-31T15:59:18.519Z"
   },
   {
    "duration": 20,
    "start_time": "2022-05-31T15:59:18.868Z"
   },
   {
    "duration": 29,
    "start_time": "2022-05-31T15:59:18.890Z"
   },
   {
    "duration": 12,
    "start_time": "2022-05-31T15:59:18.920Z"
   },
   {
    "duration": 434,
    "start_time": "2022-05-31T15:59:18.934Z"
   },
   {
    "duration": 7,
    "start_time": "2022-05-31T15:59:19.370Z"
   },
   {
    "duration": 24,
    "start_time": "2022-05-31T15:59:19.379Z"
   },
   {
    "duration": 4,
    "start_time": "2022-05-31T15:59:19.405Z"
   },
   {
    "duration": 9,
    "start_time": "2022-05-31T15:59:19.411Z"
   },
   {
    "duration": 5,
    "start_time": "2022-05-31T15:59:19.421Z"
   },
   {
    "duration": 14,
    "start_time": "2022-05-31T15:59:19.429Z"
   },
   {
    "duration": 144,
    "start_time": "2022-05-31T15:59:19.444Z"
   },
   {
    "duration": 29,
    "start_time": "2022-05-31T15:59:19.590Z"
   },
   {
    "duration": 28,
    "start_time": "2022-05-31T15:59:19.620Z"
   },
   {
    "duration": 3,
    "start_time": "2022-05-31T15:59:19.650Z"
   },
   {
    "duration": 73,
    "start_time": "2022-05-31T15:59:19.654Z"
   },
   {
    "duration": 10,
    "start_time": "2022-05-31T15:59:19.729Z"
   },
   {
    "duration": 118,
    "start_time": "2022-05-31T15:59:19.740Z"
   },
   {
    "duration": 5,
    "start_time": "2022-05-31T15:59:19.860Z"
   },
   {
    "duration": 62,
    "start_time": "2022-05-31T15:59:19.867Z"
   },
   {
    "duration": 10,
    "start_time": "2022-05-31T15:59:19.931Z"
   },
   {
    "duration": 100,
    "start_time": "2022-05-31T15:59:19.942Z"
   },
   {
    "duration": 68,
    "start_time": "2022-05-31T15:59:20.044Z"
   },
   {
    "duration": 10,
    "start_time": "2022-05-31T15:59:20.114Z"
   },
   {
    "duration": 44,
    "start_time": "2022-05-31T15:59:20.126Z"
   },
   {
    "duration": 6,
    "start_time": "2022-05-31T15:59:20.171Z"
   },
   {
    "duration": 28,
    "start_time": "2022-05-31T15:59:20.178Z"
   },
   {
    "duration": 6,
    "start_time": "2022-05-31T15:59:20.208Z"
   },
   {
    "duration": 29,
    "start_time": "2022-05-31T15:59:20.215Z"
   },
   {
    "duration": 6,
    "start_time": "2022-05-31T15:59:20.246Z"
   },
   {
    "duration": 13,
    "start_time": "2022-05-31T15:59:20.253Z"
   },
   {
    "duration": 12,
    "start_time": "2022-05-31T15:59:20.267Z"
   },
   {
    "duration": 62,
    "start_time": "2022-05-31T15:59:20.281Z"
   },
   {
    "duration": 8,
    "start_time": "2022-05-31T15:59:20.345Z"
   },
   {
    "duration": 11,
    "start_time": "2022-05-31T15:59:20.354Z"
   },
   {
    "duration": 9,
    "start_time": "2022-05-31T15:59:20.366Z"
   },
   {
    "duration": 8,
    "start_time": "2022-05-31T15:59:20.399Z"
   },
   {
    "duration": 10,
    "start_time": "2022-05-31T15:59:20.409Z"
   },
   {
    "duration": 48,
    "start_time": "2022-05-31T15:59:20.421Z"
   },
   {
    "duration": 4,
    "start_time": "2022-05-31T15:59:20.470Z"
   },
   {
    "duration": 51,
    "start_time": "2022-05-31T15:59:20.476Z"
   },
   {
    "duration": 9,
    "start_time": "2022-05-31T16:04:14.554Z"
   },
   {
    "duration": 44,
    "start_time": "2022-05-31T16:04:26.485Z"
   },
   {
    "duration": 12,
    "start_time": "2022-05-31T16:04:35.158Z"
   },
   {
    "duration": 4,
    "start_time": "2022-05-31T16:05:12.985Z"
   },
   {
    "duration": 48,
    "start_time": "2022-05-31T16:06:00.601Z"
   },
   {
    "duration": 59,
    "start_time": "2022-05-31T19:54:58.556Z"
   },
   {
    "duration": 1303,
    "start_time": "2022-05-31T19:55:04.955Z"
   },
   {
    "duration": 552,
    "start_time": "2022-05-31T19:55:06.260Z"
   },
   {
    "duration": 14,
    "start_time": "2022-05-31T19:55:06.815Z"
   },
   {
    "duration": 3,
    "start_time": "2022-05-31T19:55:06.832Z"
   },
   {
    "duration": 101,
    "start_time": "2022-05-31T19:55:06.837Z"
   },
   {
    "duration": 10,
    "start_time": "2022-05-31T19:55:06.939Z"
   },
   {
    "duration": 57,
    "start_time": "2022-05-31T19:55:06.951Z"
   },
   {
    "duration": 3,
    "start_time": "2022-05-31T19:55:07.009Z"
   },
   {
    "duration": 130,
    "start_time": "2022-05-31T19:55:07.014Z"
   },
   {
    "duration": 101,
    "start_time": "2022-05-31T19:55:07.146Z"
   },
   {
    "duration": 10,
    "start_time": "2022-05-31T19:55:07.249Z"
   },
   {
    "duration": 98,
    "start_time": "2022-05-31T19:55:07.260Z"
   },
   {
    "duration": 102,
    "start_time": "2022-05-31T19:55:07.359Z"
   },
   {
    "duration": 10,
    "start_time": "2022-05-31T19:55:07.463Z"
   },
   {
    "duration": 47,
    "start_time": "2022-05-31T19:55:07.480Z"
   },
   {
    "duration": 30,
    "start_time": "2022-05-31T19:55:07.529Z"
   },
   {
    "duration": 17,
    "start_time": "2022-05-31T19:55:07.582Z"
   },
   {
    "duration": 464,
    "start_time": "2022-05-31T19:55:07.601Z"
   },
   {
    "duration": 34,
    "start_time": "2022-05-31T19:55:08.066Z"
   },
   {
    "duration": 24,
    "start_time": "2022-05-31T19:55:08.101Z"
   },
   {
    "duration": 10,
    "start_time": "2022-05-31T19:55:08.127Z"
   },
   {
    "duration": 349,
    "start_time": "2022-05-31T19:55:08.138Z"
   },
   {
    "duration": 10,
    "start_time": "2022-05-31T19:55:08.489Z"
   },
   {
    "duration": 11,
    "start_time": "2022-05-31T19:55:08.501Z"
   },
   {
    "duration": 4,
    "start_time": "2022-05-31T19:55:08.513Z"
   },
   {
    "duration": 7,
    "start_time": "2022-05-31T19:55:08.519Z"
   },
   {
    "duration": 7,
    "start_time": "2022-05-31T19:55:08.527Z"
   },
   {
    "duration": 8,
    "start_time": "2022-05-31T19:55:08.537Z"
   },
   {
    "duration": 156,
    "start_time": "2022-05-31T19:55:08.547Z"
   },
   {
    "duration": 27,
    "start_time": "2022-05-31T19:55:08.704Z"
   },
   {
    "duration": 27,
    "start_time": "2022-05-31T19:55:08.733Z"
   },
   {
    "duration": 3,
    "start_time": "2022-05-31T19:55:08.761Z"
   },
   {
    "duration": 59,
    "start_time": "2022-05-31T19:55:08.784Z"
   },
   {
    "duration": 11,
    "start_time": "2022-05-31T19:55:08.845Z"
   },
   {
    "duration": 147,
    "start_time": "2022-05-31T19:55:08.858Z"
   },
   {
    "duration": 6,
    "start_time": "2022-05-31T19:55:09.007Z"
   },
   {
    "duration": 87,
    "start_time": "2022-05-31T19:55:09.014Z"
   },
   {
    "duration": 12,
    "start_time": "2022-05-31T19:55:09.103Z"
   },
   {
    "duration": 93,
    "start_time": "2022-05-31T19:55:09.116Z"
   },
   {
    "duration": 43,
    "start_time": "2022-05-31T19:55:09.211Z"
   },
   {
    "duration": 27,
    "start_time": "2022-05-31T19:55:09.255Z"
   },
   {
    "duration": 40,
    "start_time": "2022-05-31T19:55:09.286Z"
   },
   {
    "duration": 6,
    "start_time": "2022-05-31T19:55:09.328Z"
   },
   {
    "duration": 23,
    "start_time": "2022-05-31T19:55:09.335Z"
   },
   {
    "duration": 6,
    "start_time": "2022-05-31T19:55:09.359Z"
   },
   {
    "duration": 40,
    "start_time": "2022-05-31T19:55:09.367Z"
   },
   {
    "duration": 6,
    "start_time": "2022-05-31T19:55:09.409Z"
   },
   {
    "duration": 11,
    "start_time": "2022-05-31T19:55:09.417Z"
   },
   {
    "duration": 10,
    "start_time": "2022-05-31T19:55:09.429Z"
   },
   {
    "duration": 87,
    "start_time": "2022-05-31T19:55:09.441Z"
   },
   {
    "duration": 10,
    "start_time": "2022-05-31T19:55:09.530Z"
   },
   {
    "duration": 8,
    "start_time": "2022-05-31T19:55:09.542Z"
   },
   {
    "duration": 7,
    "start_time": "2022-05-31T19:55:09.552Z"
   },
   {
    "duration": 26,
    "start_time": "2022-05-31T19:55:09.580Z"
   },
   {
    "duration": 8,
    "start_time": "2022-05-31T19:55:09.607Z"
   },
   {
    "duration": 39,
    "start_time": "2022-05-31T19:55:09.616Z"
   },
   {
    "duration": 4,
    "start_time": "2022-05-31T19:55:09.656Z"
   },
   {
    "duration": 40,
    "start_time": "2022-05-31T19:55:09.661Z"
   },
   {
    "duration": 27,
    "start_time": "2022-05-31T20:00:48.050Z"
   },
   {
    "duration": 4,
    "start_time": "2022-05-31T20:00:56.419Z"
   },
   {
    "duration": 47,
    "start_time": "2022-05-31T20:01:44.227Z"
   },
   {
    "duration": 13,
    "start_time": "2022-05-31T20:02:27.536Z"
   },
   {
    "duration": 11,
    "start_time": "2022-05-31T20:03:08.216Z"
   },
   {
    "duration": 33,
    "start_time": "2022-05-31T20:05:48.404Z"
   },
   {
    "duration": 13,
    "start_time": "2022-05-31T20:06:02.764Z"
   },
   {
    "duration": 32,
    "start_time": "2022-05-31T20:06:04.873Z"
   },
   {
    "duration": 11,
    "start_time": "2022-05-31T20:06:06.207Z"
   },
   {
    "duration": 40,
    "start_time": "2022-05-31T20:06:21.547Z"
   },
   {
    "duration": 56,
    "start_time": "2022-05-31T20:07:00.504Z"
   },
   {
    "duration": 53,
    "start_time": "2022-05-31T20:07:03.509Z"
   },
   {
    "duration": 13,
    "start_time": "2022-05-31T20:11:52.100Z"
   },
   {
    "duration": 33,
    "start_time": "2022-05-31T20:12:13.031Z"
   },
   {
    "duration": 6,
    "start_time": "2022-05-31T20:12:15.828Z"
   },
   {
    "duration": 25,
    "start_time": "2022-05-31T20:12:20.804Z"
   },
   {
    "duration": 11,
    "start_time": "2022-05-31T20:12:22.498Z"
   },
   {
    "duration": 37,
    "start_time": "2022-05-31T20:12:26.304Z"
   },
   {
    "duration": 8,
    "start_time": "2022-05-31T20:12:52.001Z"
   },
   {
    "duration": 10,
    "start_time": "2022-05-31T20:13:00.812Z"
   },
   {
    "duration": 9,
    "start_time": "2022-05-31T20:13:01.456Z"
   },
   {
    "duration": 44,
    "start_time": "2022-05-31T20:16:18.095Z"
   },
   {
    "duration": 51,
    "start_time": "2022-05-31T20:17:37.255Z"
   },
   {
    "duration": 3,
    "start_time": "2022-05-31T20:17:39.227Z"
   },
   {
    "duration": 56,
    "start_time": "2022-05-31T20:19:33.517Z"
   },
   {
    "duration": 1095,
    "start_time": "2022-05-31T20:20:15.408Z"
   },
   {
    "duration": 165,
    "start_time": "2022-05-31T20:20:16.505Z"
   },
   {
    "duration": 16,
    "start_time": "2022-05-31T20:20:16.672Z"
   },
   {
    "duration": 9,
    "start_time": "2022-05-31T20:20:16.692Z"
   },
   {
    "duration": 71,
    "start_time": "2022-05-31T20:20:16.703Z"
   },
   {
    "duration": 20,
    "start_time": "2022-05-31T20:20:16.775Z"
   },
   {
    "duration": 32,
    "start_time": "2022-05-31T20:20:16.797Z"
   },
   {
    "duration": 4,
    "start_time": "2022-05-31T20:20:16.831Z"
   },
   {
    "duration": 163,
    "start_time": "2022-05-31T20:20:16.836Z"
   },
   {
    "duration": 90,
    "start_time": "2022-05-31T20:20:17.001Z"
   },
   {
    "duration": 10,
    "start_time": "2022-05-31T20:20:17.093Z"
   },
   {
    "duration": 77,
    "start_time": "2022-05-31T20:20:17.104Z"
   },
   {
    "duration": 97,
    "start_time": "2022-05-31T20:20:17.183Z"
   },
   {
    "duration": 11,
    "start_time": "2022-05-31T20:20:17.282Z"
   },
   {
    "duration": 67,
    "start_time": "2022-05-31T20:20:17.295Z"
   },
   {
    "duration": 32,
    "start_time": "2022-05-31T20:20:17.363Z"
   },
   {
    "duration": 11,
    "start_time": "2022-05-31T20:20:17.397Z"
   },
   {
    "duration": 360,
    "start_time": "2022-05-31T20:20:17.410Z"
   },
   {
    "duration": 39,
    "start_time": "2022-05-31T20:20:17.772Z"
   },
   {
    "duration": 24,
    "start_time": "2022-05-31T20:20:17.812Z"
   },
   {
    "duration": 11,
    "start_time": "2022-05-31T20:20:17.837Z"
   },
   {
    "duration": 420,
    "start_time": "2022-05-31T20:20:17.849Z"
   },
   {
    "duration": 13,
    "start_time": "2022-05-31T20:20:18.271Z"
   },
   {
    "duration": 19,
    "start_time": "2022-05-31T20:20:18.285Z"
   },
   {
    "duration": 4,
    "start_time": "2022-05-31T20:20:18.305Z"
   },
   {
    "duration": 6,
    "start_time": "2022-05-31T20:20:18.311Z"
   },
   {
    "duration": 7,
    "start_time": "2022-05-31T20:20:18.318Z"
   },
   {
    "duration": 5,
    "start_time": "2022-05-31T20:20:18.329Z"
   },
   {
    "duration": 148,
    "start_time": "2022-05-31T20:20:18.336Z"
   },
   {
    "duration": 30,
    "start_time": "2022-05-31T20:20:18.485Z"
   },
   {
    "duration": 36,
    "start_time": "2022-05-31T20:20:18.517Z"
   },
   {
    "duration": 4,
    "start_time": "2022-05-31T20:20:18.554Z"
   },
   {
    "duration": 72,
    "start_time": "2022-05-31T20:20:18.560Z"
   },
   {
    "duration": 10,
    "start_time": "2022-05-31T20:20:18.634Z"
   },
   {
    "duration": 128,
    "start_time": "2022-05-31T20:20:18.646Z"
   },
   {
    "duration": 7,
    "start_time": "2022-05-31T20:20:18.776Z"
   },
   {
    "duration": 44,
    "start_time": "2022-05-31T20:20:18.784Z"
   },
   {
    "duration": 54,
    "start_time": "2022-05-31T20:20:18.830Z"
   },
   {
    "duration": 42,
    "start_time": "2022-05-31T20:20:18.887Z"
   },
   {
    "duration": 68,
    "start_time": "2022-05-31T20:20:18.930Z"
   },
   {
    "duration": 10,
    "start_time": "2022-05-31T20:20:19.000Z"
   },
   {
    "duration": 24,
    "start_time": "2022-05-31T20:20:19.012Z"
   },
   {
    "duration": 6,
    "start_time": "2022-05-31T20:20:19.038Z"
   },
   {
    "duration": 48,
    "start_time": "2022-05-31T20:20:19.046Z"
   },
   {
    "duration": 6,
    "start_time": "2022-05-31T20:20:19.098Z"
   },
   {
    "duration": 24,
    "start_time": "2022-05-31T20:20:19.106Z"
   },
   {
    "duration": 5,
    "start_time": "2022-05-31T20:20:19.131Z"
   },
   {
    "duration": 9,
    "start_time": "2022-05-31T20:20:19.138Z"
   },
   {
    "duration": 7,
    "start_time": "2022-05-31T20:20:19.148Z"
   },
   {
    "duration": 60,
    "start_time": "2022-05-31T20:20:19.157Z"
   },
   {
    "duration": 6,
    "start_time": "2022-05-31T20:20:19.219Z"
   },
   {
    "duration": 11,
    "start_time": "2022-05-31T20:20:19.226Z"
   },
   {
    "duration": 10,
    "start_time": "2022-05-31T20:20:19.238Z"
   },
   {
    "duration": 10,
    "start_time": "2022-05-31T20:20:19.250Z"
   },
   {
    "duration": 24,
    "start_time": "2022-05-31T20:20:19.261Z"
   },
   {
    "duration": 31,
    "start_time": "2022-05-31T20:20:19.288Z"
   },
   {
    "duration": 4,
    "start_time": "2022-05-31T20:20:19.321Z"
   },
   {
    "duration": 31,
    "start_time": "2022-05-31T20:20:19.327Z"
   },
   {
    "duration": 5,
    "start_time": "2022-05-31T20:23:34.931Z"
   },
   {
    "duration": 46,
    "start_time": "2022-05-31T20:25:57.126Z"
   },
   {
    "duration": 5,
    "start_time": "2022-05-31T20:26:05.217Z"
   },
   {
    "duration": 28,
    "start_time": "2022-05-31T20:26:37.823Z"
   },
   {
    "duration": 1088,
    "start_time": "2022-05-31T20:34:01.144Z"
   },
   {
    "duration": 200,
    "start_time": "2022-05-31T20:34:02.235Z"
   },
   {
    "duration": 15,
    "start_time": "2022-05-31T20:34:02.437Z"
   },
   {
    "duration": 5,
    "start_time": "2022-05-31T20:34:02.454Z"
   },
   {
    "duration": 128,
    "start_time": "2022-05-31T20:34:02.462Z"
   },
   {
    "duration": 13,
    "start_time": "2022-05-31T20:34:02.592Z"
   },
   {
    "duration": 64,
    "start_time": "2022-05-31T20:34:02.607Z"
   },
   {
    "duration": 6,
    "start_time": "2022-05-31T20:34:02.673Z"
   },
   {
    "duration": 189,
    "start_time": "2022-05-31T20:34:02.681Z"
   },
   {
    "duration": 95,
    "start_time": "2022-05-31T20:34:02.872Z"
   },
   {
    "duration": 22,
    "start_time": "2022-05-31T20:34:02.968Z"
   },
   {
    "duration": 95,
    "start_time": "2022-05-31T20:34:02.992Z"
   },
   {
    "duration": 114,
    "start_time": "2022-05-31T20:34:03.088Z"
   },
   {
    "duration": 10,
    "start_time": "2022-05-31T20:34:03.208Z"
   },
   {
    "duration": 49,
    "start_time": "2022-05-31T20:34:03.219Z"
   },
   {
    "duration": 34,
    "start_time": "2022-05-31T20:34:03.270Z"
   },
   {
    "duration": 15,
    "start_time": "2022-05-31T20:34:03.306Z"
   },
   {
    "duration": 333,
    "start_time": "2022-05-31T20:34:03.323Z"
   },
   {
    "duration": 43,
    "start_time": "2022-05-31T20:34:03.657Z"
   },
   {
    "duration": 24,
    "start_time": "2022-05-31T20:34:03.702Z"
   },
   {
    "duration": 12,
    "start_time": "2022-05-31T20:34:03.728Z"
   },
   {
    "duration": 427,
    "start_time": "2022-05-31T20:34:03.741Z"
   },
   {
    "duration": 18,
    "start_time": "2022-05-31T20:34:04.170Z"
   },
   {
    "duration": 13,
    "start_time": "2022-05-31T20:34:04.193Z"
   },
   {
    "duration": 21,
    "start_time": "2022-05-31T20:34:04.208Z"
   },
   {
    "duration": 9,
    "start_time": "2022-05-31T20:34:04.231Z"
   },
   {
    "duration": 10,
    "start_time": "2022-05-31T20:34:04.242Z"
   },
   {
    "duration": 12,
    "start_time": "2022-05-31T20:34:04.254Z"
   },
   {
    "duration": 153,
    "start_time": "2022-05-31T20:34:04.268Z"
   },
   {
    "duration": 28,
    "start_time": "2022-05-31T20:34:04.423Z"
   },
   {
    "duration": 54,
    "start_time": "2022-05-31T20:34:04.453Z"
   },
   {
    "duration": 5,
    "start_time": "2022-05-31T20:34:04.509Z"
   },
   {
    "duration": 73,
    "start_time": "2022-05-31T20:34:04.516Z"
   },
   {
    "duration": 14,
    "start_time": "2022-05-31T20:34:04.591Z"
   },
   {
    "duration": 140,
    "start_time": "2022-05-31T20:34:04.607Z"
   },
   {
    "duration": 7,
    "start_time": "2022-05-31T20:34:04.748Z"
   },
   {
    "duration": 39,
    "start_time": "2022-05-31T20:34:04.756Z"
   },
   {
    "duration": 11,
    "start_time": "2022-05-31T20:34:04.797Z"
   },
   {
    "duration": 110,
    "start_time": "2022-05-31T20:34:04.809Z"
   },
   {
    "duration": 106,
    "start_time": "2022-05-31T20:34:04.920Z"
   },
   {
    "duration": 9,
    "start_time": "2022-05-31T20:34:05.030Z"
   },
   {
    "duration": 60,
    "start_time": "2022-05-31T20:34:05.041Z"
   },
   {
    "duration": 7,
    "start_time": "2022-05-31T20:34:05.103Z"
   },
   {
    "duration": 24,
    "start_time": "2022-05-31T20:34:05.112Z"
   },
   {
    "duration": 7,
    "start_time": "2022-05-31T20:34:05.137Z"
   },
   {
    "duration": 45,
    "start_time": "2022-05-31T20:34:05.145Z"
   },
   {
    "duration": 7,
    "start_time": "2022-05-31T20:34:05.196Z"
   },
   {
    "duration": 13,
    "start_time": "2022-05-31T20:34:05.205Z"
   },
   {
    "duration": 10,
    "start_time": "2022-05-31T20:34:05.220Z"
   },
   {
    "duration": 72,
    "start_time": "2022-05-31T20:34:05.232Z"
   },
   {
    "duration": 8,
    "start_time": "2022-05-31T20:34:05.307Z"
   },
   {
    "duration": 8,
    "start_time": "2022-05-31T20:34:05.316Z"
   },
   {
    "duration": 10,
    "start_time": "2022-05-31T20:34:05.325Z"
   },
   {
    "duration": 14,
    "start_time": "2022-05-31T20:34:05.337Z"
   },
   {
    "duration": 7,
    "start_time": "2022-05-31T20:34:05.353Z"
   },
   {
    "duration": 69,
    "start_time": "2022-05-31T20:34:05.362Z"
   },
   {
    "duration": 5,
    "start_time": "2022-05-31T20:34:05.433Z"
   },
   {
    "duration": 43,
    "start_time": "2022-05-31T20:34:05.439Z"
   },
   {
    "duration": 71,
    "start_time": "2022-06-01T05:56:57.191Z"
   },
   {
    "duration": 1395,
    "start_time": "2022-06-01T05:57:11.548Z"
   },
   {
    "duration": 545,
    "start_time": "2022-06-01T05:57:12.946Z"
   },
   {
    "duration": 12,
    "start_time": "2022-06-01T05:57:13.493Z"
   },
   {
    "duration": 3,
    "start_time": "2022-06-01T05:57:13.507Z"
   },
   {
    "duration": 83,
    "start_time": "2022-06-01T05:57:13.512Z"
   },
   {
    "duration": 9,
    "start_time": "2022-06-01T05:57:13.597Z"
   },
   {
    "duration": 52,
    "start_time": "2022-06-01T05:57:13.608Z"
   },
   {
    "duration": 7,
    "start_time": "2022-06-01T05:57:13.662Z"
   },
   {
    "duration": 136,
    "start_time": "2022-06-01T05:57:13.671Z"
   },
   {
    "duration": 103,
    "start_time": "2022-06-01T05:57:13.809Z"
   },
   {
    "duration": 26,
    "start_time": "2022-06-01T05:57:13.914Z"
   },
   {
    "duration": 89,
    "start_time": "2022-06-01T05:57:13.942Z"
   },
   {
    "duration": 98,
    "start_time": "2022-06-01T05:57:14.033Z"
   },
   {
    "duration": 10,
    "start_time": "2022-06-01T05:57:14.133Z"
   },
   {
    "duration": 37,
    "start_time": "2022-06-01T05:57:14.144Z"
   },
   {
    "duration": 18,
    "start_time": "2022-06-01T05:57:14.183Z"
   },
   {
    "duration": 30,
    "start_time": "2022-06-01T05:57:14.202Z"
   },
   {
    "duration": 457,
    "start_time": "2022-06-01T05:57:14.234Z"
   },
   {
    "duration": 22,
    "start_time": "2022-06-01T05:57:14.693Z"
   },
   {
    "duration": 42,
    "start_time": "2022-06-01T05:57:14.716Z"
   },
   {
    "duration": 15,
    "start_time": "2022-06-01T05:57:14.761Z"
   },
   {
    "duration": 468,
    "start_time": "2022-06-01T05:57:14.778Z"
   },
   {
    "duration": 7,
    "start_time": "2022-06-01T05:57:15.248Z"
   },
   {
    "duration": 16,
    "start_time": "2022-06-01T05:57:15.256Z"
   },
   {
    "duration": 4,
    "start_time": "2022-06-01T05:57:15.274Z"
   },
   {
    "duration": 8,
    "start_time": "2022-06-01T05:57:15.280Z"
   },
   {
    "duration": 15,
    "start_time": "2022-06-01T05:57:15.289Z"
   },
   {
    "duration": 7,
    "start_time": "2022-06-01T05:57:15.325Z"
   },
   {
    "duration": 152,
    "start_time": "2022-06-01T05:57:15.334Z"
   },
   {
    "duration": 40,
    "start_time": "2022-06-01T05:57:15.487Z"
   },
   {
    "duration": 42,
    "start_time": "2022-06-01T05:57:15.528Z"
   },
   {
    "duration": 4,
    "start_time": "2022-06-01T05:57:15.572Z"
   },
   {
    "duration": 92,
    "start_time": "2022-06-01T05:57:15.578Z"
   },
   {
    "duration": 13,
    "start_time": "2022-06-01T05:57:15.672Z"
   },
   {
    "duration": 156,
    "start_time": "2022-06-01T05:57:15.687Z"
   },
   {
    "duration": 7,
    "start_time": "2022-06-01T05:57:15.845Z"
   },
   {
    "duration": 81,
    "start_time": "2022-06-01T05:57:15.853Z"
   },
   {
    "duration": 19,
    "start_time": "2022-06-01T05:57:15.936Z"
   },
   {
    "duration": 105,
    "start_time": "2022-06-01T05:57:15.957Z"
   },
   {
    "duration": 41,
    "start_time": "2022-06-01T05:57:16.064Z"
   },
   {
    "duration": 22,
    "start_time": "2022-06-01T05:57:16.106Z"
   },
   {
    "duration": 28,
    "start_time": "2022-06-01T05:57:16.129Z"
   },
   {
    "duration": 7,
    "start_time": "2022-06-01T05:57:16.159Z"
   },
   {
    "duration": 29,
    "start_time": "2022-06-01T05:57:16.167Z"
   },
   {
    "duration": 33,
    "start_time": "2022-06-01T05:57:16.198Z"
   },
   {
    "duration": 35,
    "start_time": "2022-06-01T05:57:16.233Z"
   },
   {
    "duration": 9,
    "start_time": "2022-06-01T05:57:16.271Z"
   },
   {
    "duration": 19,
    "start_time": "2022-06-01T05:57:16.282Z"
   },
   {
    "duration": 26,
    "start_time": "2022-06-01T05:57:16.302Z"
   },
   {
    "duration": 60,
    "start_time": "2022-06-01T05:57:16.330Z"
   },
   {
    "duration": 7,
    "start_time": "2022-06-01T05:57:16.392Z"
   },
   {
    "duration": 11,
    "start_time": "2022-06-01T05:57:16.400Z"
   },
   {
    "duration": 18,
    "start_time": "2022-06-01T05:57:16.413Z"
   },
   {
    "duration": 27,
    "start_time": "2022-06-01T05:57:16.434Z"
   },
   {
    "duration": 15,
    "start_time": "2022-06-01T05:57:16.463Z"
   },
   {
    "duration": 69,
    "start_time": "2022-06-01T05:57:16.480Z"
   },
   {
    "duration": 6,
    "start_time": "2022-06-01T05:57:16.551Z"
   },
   {
    "duration": 39,
    "start_time": "2022-06-01T05:57:16.559Z"
   },
   {
    "duration": 31,
    "start_time": "2022-06-01T05:57:35.585Z"
   },
   {
    "duration": 32,
    "start_time": "2022-06-01T05:58:30.315Z"
   },
   {
    "duration": 28,
    "start_time": "2022-06-01T06:11:34.165Z"
   },
   {
    "duration": 119,
    "start_time": "2022-06-01T06:21:06.201Z"
   },
   {
    "duration": 9,
    "start_time": "2022-06-01T06:21:20.576Z"
   },
   {
    "duration": 6,
    "start_time": "2022-06-01T06:22:44.041Z"
   },
   {
    "duration": 1229,
    "start_time": "2022-06-01T12:06:10.520Z"
   },
   {
    "duration": 524,
    "start_time": "2022-06-01T12:06:11.751Z"
   },
   {
    "duration": 12,
    "start_time": "2022-06-01T12:06:12.277Z"
   },
   {
    "duration": 8,
    "start_time": "2022-06-01T12:06:12.290Z"
   },
   {
    "duration": 83,
    "start_time": "2022-06-01T12:06:12.299Z"
   },
   {
    "duration": 13,
    "start_time": "2022-06-01T12:06:12.384Z"
   },
   {
    "duration": 51,
    "start_time": "2022-06-01T12:06:12.400Z"
   },
   {
    "duration": 9,
    "start_time": "2022-06-01T12:06:12.453Z"
   },
   {
    "duration": 171,
    "start_time": "2022-06-01T12:06:12.464Z"
   },
   {
    "duration": 98,
    "start_time": "2022-06-01T12:06:12.638Z"
   },
   {
    "duration": 10,
    "start_time": "2022-06-01T12:06:12.738Z"
   },
   {
    "duration": 88,
    "start_time": "2022-06-01T12:06:12.750Z"
   },
   {
    "duration": 97,
    "start_time": "2022-06-01T12:06:12.839Z"
   },
   {
    "duration": 9,
    "start_time": "2022-06-01T12:06:12.938Z"
   },
   {
    "duration": 41,
    "start_time": "2022-06-01T12:06:12.948Z"
   },
   {
    "duration": 21,
    "start_time": "2022-06-01T12:06:12.990Z"
   },
   {
    "duration": 8,
    "start_time": "2022-06-01T12:06:13.013Z"
   },
   {
    "duration": 357,
    "start_time": "2022-06-01T12:06:13.023Z"
   },
   {
    "duration": 22,
    "start_time": "2022-06-01T12:06:13.382Z"
   },
   {
    "duration": 25,
    "start_time": "2022-06-01T12:06:13.405Z"
   },
   {
    "duration": 14,
    "start_time": "2022-06-01T12:06:13.431Z"
   },
   {
    "duration": 438,
    "start_time": "2022-06-01T12:06:13.446Z"
   },
   {
    "duration": 7,
    "start_time": "2022-06-01T12:06:13.886Z"
   },
   {
    "duration": 20,
    "start_time": "2022-06-01T12:06:13.895Z"
   },
   {
    "duration": 13,
    "start_time": "2022-06-01T12:06:13.916Z"
   },
   {
    "duration": 7,
    "start_time": "2022-06-01T12:06:13.930Z"
   },
   {
    "duration": 7,
    "start_time": "2022-06-01T12:06:13.939Z"
   },
   {
    "duration": 18,
    "start_time": "2022-06-01T12:06:13.950Z"
   },
   {
    "duration": 140,
    "start_time": "2022-06-01T12:06:13.975Z"
   },
   {
    "duration": 30,
    "start_time": "2022-06-01T12:06:14.116Z"
   },
   {
    "duration": 43,
    "start_time": "2022-06-01T12:06:14.147Z"
   },
   {
    "duration": 11,
    "start_time": "2022-06-01T12:06:14.192Z"
   },
   {
    "duration": 73,
    "start_time": "2022-06-01T12:06:14.204Z"
   },
   {
    "duration": 12,
    "start_time": "2022-06-01T12:06:14.278Z"
   },
   {
    "duration": 137,
    "start_time": "2022-06-01T12:06:14.291Z"
   },
   {
    "duration": 7,
    "start_time": "2022-06-01T12:06:14.429Z"
   },
   {
    "duration": 59,
    "start_time": "2022-06-01T12:06:14.437Z"
   },
   {
    "duration": 10,
    "start_time": "2022-06-01T12:06:14.498Z"
   },
   {
    "duration": 104,
    "start_time": "2022-06-01T12:06:14.509Z"
   },
   {
    "duration": 44,
    "start_time": "2022-06-01T12:06:14.615Z"
   },
   {
    "duration": 10,
    "start_time": "2022-06-01T12:06:14.675Z"
   },
   {
    "duration": 43,
    "start_time": "2022-06-01T12:06:14.686Z"
   },
   {
    "duration": 7,
    "start_time": "2022-06-01T12:06:14.731Z"
   },
   {
    "duration": 31,
    "start_time": "2022-06-01T12:06:14.739Z"
   },
   {
    "duration": 8,
    "start_time": "2022-06-01T12:06:14.771Z"
   },
   {
    "duration": 26,
    "start_time": "2022-06-01T12:06:14.781Z"
   },
   {
    "duration": 6,
    "start_time": "2022-06-01T12:06:14.809Z"
   },
   {
    "duration": 16,
    "start_time": "2022-06-01T12:06:14.817Z"
   },
   {
    "duration": 19,
    "start_time": "2022-06-01T12:06:14.834Z"
   },
   {
    "duration": 59,
    "start_time": "2022-06-01T12:06:14.855Z"
   },
   {
    "duration": 7,
    "start_time": "2022-06-01T12:06:14.915Z"
   },
   {
    "duration": 27,
    "start_time": "2022-06-01T12:06:14.923Z"
   },
   {
    "duration": 17,
    "start_time": "2022-06-01T12:06:14.951Z"
   },
   {
    "duration": 31,
    "start_time": "2022-06-01T12:06:14.970Z"
   },
   {
    "duration": 19,
    "start_time": "2022-06-01T12:06:15.003Z"
   },
   {
    "duration": 56,
    "start_time": "2022-06-01T12:06:15.024Z"
   },
   {
    "duration": 5,
    "start_time": "2022-06-01T12:06:15.081Z"
   },
   {
    "duration": 36,
    "start_time": "2022-06-01T12:06:15.087Z"
   },
   {
    "duration": 4,
    "start_time": "2022-06-01T12:07:16.305Z"
   },
   {
    "duration": 4,
    "start_time": "2022-06-01T12:07:25.367Z"
   },
   {
    "duration": 4,
    "start_time": "2022-06-01T12:09:07.367Z"
   },
   {
    "duration": 5,
    "start_time": "2022-06-01T12:09:26.479Z"
   },
   {
    "duration": 4,
    "start_time": "2022-06-01T12:09:33.321Z"
   },
   {
    "duration": 111,
    "start_time": "2022-06-01T12:09:53.772Z"
   },
   {
    "duration": 4,
    "start_time": "2022-06-01T12:10:04.497Z"
   },
   {
    "duration": 4,
    "start_time": "2022-06-01T12:10:11.191Z"
   },
   {
    "duration": 9,
    "start_time": "2022-06-01T12:10:36.245Z"
   },
   {
    "duration": 4,
    "start_time": "2022-06-01T12:10:56.816Z"
   },
   {
    "duration": 4,
    "start_time": "2022-06-01T12:11:06.414Z"
   },
   {
    "duration": 3,
    "start_time": "2022-06-01T12:11:16.562Z"
   },
   {
    "duration": 9,
    "start_time": "2022-06-01T12:11:25.511Z"
   },
   {
    "duration": 4,
    "start_time": "2022-06-01T12:11:51.364Z"
   },
   {
    "duration": 9,
    "start_time": "2022-06-01T12:12:15.241Z"
   },
   {
    "duration": 3,
    "start_time": "2022-06-01T12:12:30.959Z"
   },
   {
    "duration": 5,
    "start_time": "2022-06-01T12:12:44.778Z"
   },
   {
    "duration": 3,
    "start_time": "2022-06-01T12:12:50.241Z"
   },
   {
    "duration": 4,
    "start_time": "2022-06-01T12:13:24.151Z"
   },
   {
    "duration": 4,
    "start_time": "2022-06-01T12:14:17.987Z"
   },
   {
    "duration": 4,
    "start_time": "2022-06-01T12:14:26.836Z"
   },
   {
    "duration": 3,
    "start_time": "2022-06-01T12:14:32.318Z"
   },
   {
    "duration": 4,
    "start_time": "2022-06-01T12:14:41.742Z"
   },
   {
    "duration": 30,
    "start_time": "2022-06-01T12:16:17.696Z"
   },
   {
    "duration": 1075,
    "start_time": "2022-06-01T12:17:42.503Z"
   },
   {
    "duration": 173,
    "start_time": "2022-06-01T12:17:43.580Z"
   },
   {
    "duration": 10,
    "start_time": "2022-06-01T12:17:43.755Z"
   },
   {
    "duration": 9,
    "start_time": "2022-06-01T12:17:43.767Z"
   },
   {
    "duration": 88,
    "start_time": "2022-06-01T12:17:43.777Z"
   },
   {
    "duration": 11,
    "start_time": "2022-06-01T12:17:43.867Z"
   },
   {
    "duration": 52,
    "start_time": "2022-06-01T12:17:43.880Z"
   },
   {
    "duration": 13,
    "start_time": "2022-06-01T12:17:43.934Z"
   },
   {
    "duration": 130,
    "start_time": "2022-06-01T12:17:43.949Z"
   },
   {
    "duration": 95,
    "start_time": "2022-06-01T12:17:44.081Z"
   },
   {
    "duration": 10,
    "start_time": "2022-06-01T12:17:44.177Z"
   },
   {
    "duration": 88,
    "start_time": "2022-06-01T12:17:44.189Z"
   },
   {
    "duration": 87,
    "start_time": "2022-06-01T12:17:44.278Z"
   },
   {
    "duration": 9,
    "start_time": "2022-06-01T12:17:44.375Z"
   },
   {
    "duration": 45,
    "start_time": "2022-06-01T12:17:44.385Z"
   },
   {
    "duration": 17,
    "start_time": "2022-06-01T12:17:44.431Z"
   },
   {
    "duration": 15,
    "start_time": "2022-06-01T12:17:44.449Z"
   },
   {
    "duration": 342,
    "start_time": "2022-06-01T12:17:44.466Z"
   },
   {
    "duration": 22,
    "start_time": "2022-06-01T12:17:44.810Z"
   },
   {
    "duration": 42,
    "start_time": "2022-06-01T12:17:44.834Z"
   },
   {
    "duration": 12,
    "start_time": "2022-06-01T12:17:44.878Z"
   },
   {
    "duration": 406,
    "start_time": "2022-06-01T12:17:44.891Z"
   },
   {
    "duration": 6,
    "start_time": "2022-06-01T12:17:45.299Z"
   },
   {
    "duration": 13,
    "start_time": "2022-06-01T12:17:45.306Z"
   },
   {
    "duration": 4,
    "start_time": "2022-06-01T12:17:45.320Z"
   },
   {
    "duration": 8,
    "start_time": "2022-06-01T12:17:45.325Z"
   },
   {
    "duration": 6,
    "start_time": "2022-06-01T12:17:45.334Z"
   },
   {
    "duration": 35,
    "start_time": "2022-06-01T12:17:45.343Z"
   },
   {
    "duration": 136,
    "start_time": "2022-06-01T12:17:45.379Z"
   },
   {
    "duration": 30,
    "start_time": "2022-06-01T12:17:45.517Z"
   },
   {
    "duration": 37,
    "start_time": "2022-06-01T12:17:45.549Z"
   },
   {
    "duration": 3,
    "start_time": "2022-06-01T12:17:45.588Z"
   },
   {
    "duration": 54,
    "start_time": "2022-06-01T12:17:45.592Z"
   },
   {
    "duration": 30,
    "start_time": "2022-06-01T12:17:45.647Z"
   },
   {
    "duration": 187,
    "start_time": "2022-06-01T12:17:45.679Z"
   },
   {
    "duration": 8,
    "start_time": "2022-06-01T12:17:45.868Z"
   },
   {
    "duration": 37,
    "start_time": "2022-06-01T12:17:45.877Z"
   },
   {
    "duration": 60,
    "start_time": "2022-06-01T12:17:45.916Z"
   },
   {
    "duration": 46,
    "start_time": "2022-06-01T12:17:45.978Z"
   },
   {
    "duration": 89,
    "start_time": "2022-06-01T12:17:46.026Z"
   },
   {
    "duration": 9,
    "start_time": "2022-06-01T12:17:46.116Z"
   },
   {
    "duration": 31,
    "start_time": "2022-06-01T12:17:46.127Z"
   },
   {
    "duration": 19,
    "start_time": "2022-06-01T12:17:46.160Z"
   },
   {
    "duration": 23,
    "start_time": "2022-06-01T12:17:46.181Z"
   },
   {
    "duration": 6,
    "start_time": "2022-06-01T12:17:46.206Z"
   },
   {
    "duration": 24,
    "start_time": "2022-06-01T12:17:46.214Z"
   },
   {
    "duration": 6,
    "start_time": "2022-06-01T12:17:46.240Z"
   },
   {
    "duration": 34,
    "start_time": "2022-06-01T12:17:46.247Z"
   },
   {
    "duration": 11,
    "start_time": "2022-06-01T12:17:46.283Z"
   },
   {
    "duration": 48,
    "start_time": "2022-06-01T12:17:46.296Z"
   },
   {
    "duration": 8,
    "start_time": "2022-06-01T12:17:46.345Z"
   },
   {
    "duration": 3,
    "start_time": "2022-06-01T12:17:46.375Z"
   },
   {
    "duration": 11,
    "start_time": "2022-06-01T12:17:46.381Z"
   },
   {
    "duration": 13,
    "start_time": "2022-06-01T12:17:46.394Z"
   },
   {
    "duration": 6,
    "start_time": "2022-06-01T12:17:46.409Z"
   },
   {
    "duration": 40,
    "start_time": "2022-06-01T12:17:46.417Z"
   },
   {
    "duration": 4,
    "start_time": "2022-06-01T12:17:46.474Z"
   },
   {
    "duration": 32,
    "start_time": "2022-06-01T12:17:46.480Z"
   },
   {
    "duration": 1040,
    "start_time": "2022-06-01T12:18:02.424Z"
   },
   {
    "duration": 157,
    "start_time": "2022-06-01T12:18:03.466Z"
   },
   {
    "duration": 11,
    "start_time": "2022-06-01T12:18:03.625Z"
   },
   {
    "duration": 6,
    "start_time": "2022-06-01T12:18:03.638Z"
   },
   {
    "duration": 82,
    "start_time": "2022-06-01T12:18:03.645Z"
   },
   {
    "duration": 9,
    "start_time": "2022-06-01T12:18:03.728Z"
   },
   {
    "duration": 51,
    "start_time": "2022-06-01T12:18:03.738Z"
   },
   {
    "duration": 3,
    "start_time": "2022-06-01T12:18:03.791Z"
   },
   {
    "duration": 133,
    "start_time": "2022-06-01T12:18:03.795Z"
   },
   {
    "duration": 99,
    "start_time": "2022-06-01T12:18:03.931Z"
   },
   {
    "duration": 10,
    "start_time": "2022-06-01T12:18:04.031Z"
   },
   {
    "duration": 85,
    "start_time": "2022-06-01T12:18:04.043Z"
   },
   {
    "duration": 102,
    "start_time": "2022-06-01T12:18:04.130Z"
   },
   {
    "duration": 9,
    "start_time": "2022-06-01T12:18:04.234Z"
   },
   {
    "duration": 45,
    "start_time": "2022-06-01T12:18:04.245Z"
   },
   {
    "duration": 19,
    "start_time": "2022-06-01T12:18:04.292Z"
   },
   {
    "duration": 12,
    "start_time": "2022-06-01T12:18:04.313Z"
   },
   {
    "duration": 373,
    "start_time": "2022-06-01T12:18:04.326Z"
   },
   {
    "duration": 25,
    "start_time": "2022-06-01T12:18:04.700Z"
   },
   {
    "duration": 27,
    "start_time": "2022-06-01T12:18:04.727Z"
   },
   {
    "duration": 30,
    "start_time": "2022-06-01T12:18:04.756Z"
   },
   {
    "duration": 422,
    "start_time": "2022-06-01T12:18:04.788Z"
   },
   {
    "duration": 7,
    "start_time": "2022-06-01T12:18:05.212Z"
   },
   {
    "duration": 10,
    "start_time": "2022-06-01T12:18:05.220Z"
   },
   {
    "duration": 5,
    "start_time": "2022-06-01T12:18:05.231Z"
   },
   {
    "duration": 7,
    "start_time": "2022-06-01T12:18:05.237Z"
   },
   {
    "duration": 32,
    "start_time": "2022-06-01T12:18:05.245Z"
   },
   {
    "duration": 6,
    "start_time": "2022-06-01T12:18:05.280Z"
   },
   {
    "duration": 147,
    "start_time": "2022-06-01T12:18:05.287Z"
   },
   {
    "duration": 29,
    "start_time": "2022-06-01T12:18:05.436Z"
   },
   {
    "duration": 29,
    "start_time": "2022-06-01T12:18:05.475Z"
   },
   {
    "duration": 4,
    "start_time": "2022-06-01T12:18:05.506Z"
   },
   {
    "duration": 71,
    "start_time": "2022-06-01T12:18:05.511Z"
   },
   {
    "duration": 12,
    "start_time": "2022-06-01T12:18:05.583Z"
   },
   {
    "duration": 137,
    "start_time": "2022-06-01T12:18:05.597Z"
   },
   {
    "duration": 5,
    "start_time": "2022-06-01T12:18:05.736Z"
   },
   {
    "duration": 53,
    "start_time": "2022-06-01T12:18:05.743Z"
   },
   {
    "duration": 9,
    "start_time": "2022-06-01T12:18:05.798Z"
   },
   {
    "duration": 107,
    "start_time": "2022-06-01T12:18:05.809Z"
   },
   {
    "duration": 63,
    "start_time": "2022-06-01T12:18:05.919Z"
   },
   {
    "duration": 9,
    "start_time": "2022-06-01T12:18:05.984Z"
   },
   {
    "duration": 28,
    "start_time": "2022-06-01T12:18:05.994Z"
   },
   {
    "duration": 6,
    "start_time": "2022-06-01T12:18:06.024Z"
   },
   {
    "duration": 24,
    "start_time": "2022-06-01T12:18:06.031Z"
   },
   {
    "duration": 6,
    "start_time": "2022-06-01T12:18:06.074Z"
   },
   {
    "duration": 25,
    "start_time": "2022-06-01T12:18:06.082Z"
   },
   {
    "duration": 6,
    "start_time": "2022-06-01T12:18:06.109Z"
   },
   {
    "duration": 18,
    "start_time": "2022-06-01T12:18:06.116Z"
   },
   {
    "duration": 11,
    "start_time": "2022-06-01T12:18:06.136Z"
   },
   {
    "duration": 62,
    "start_time": "2022-06-01T12:18:06.148Z"
   },
   {
    "duration": 6,
    "start_time": "2022-06-01T12:18:06.212Z"
   },
   {
    "duration": 11,
    "start_time": "2022-06-01T12:18:06.220Z"
   },
   {
    "duration": 8,
    "start_time": "2022-06-01T12:18:06.232Z"
   },
   {
    "duration": 15,
    "start_time": "2022-06-01T12:18:06.241Z"
   },
   {
    "duration": 4,
    "start_time": "2022-06-01T12:18:06.257Z"
   },
   {
    "duration": 37,
    "start_time": "2022-06-01T12:18:06.275Z"
   },
   {
    "duration": 4,
    "start_time": "2022-06-01T12:18:06.314Z"
   },
   {
    "duration": 30,
    "start_time": "2022-06-01T12:18:06.320Z"
   },
   {
    "duration": 1173,
    "start_time": "2022-06-01T12:40:33.259Z"
   },
   {
    "duration": 678,
    "start_time": "2022-06-01T12:40:34.435Z"
   },
   {
    "duration": 22,
    "start_time": "2022-06-01T12:40:35.115Z"
   },
   {
    "duration": 27,
    "start_time": "2022-06-01T12:40:35.139Z"
   },
   {
    "duration": 112,
    "start_time": "2022-06-01T12:40:35.168Z"
   },
   {
    "duration": 9,
    "start_time": "2022-06-01T12:40:35.282Z"
   },
   {
    "duration": 54,
    "start_time": "2022-06-01T12:40:35.292Z"
   },
   {
    "duration": 26,
    "start_time": "2022-06-01T12:40:35.348Z"
   },
   {
    "duration": 171,
    "start_time": "2022-06-01T12:40:35.376Z"
   },
   {
    "duration": 114,
    "start_time": "2022-06-01T12:40:35.551Z"
   },
   {
    "duration": 10,
    "start_time": "2022-06-01T12:40:35.666Z"
   },
   {
    "duration": 99,
    "start_time": "2022-06-01T12:40:35.677Z"
   },
   {
    "duration": 109,
    "start_time": "2022-06-01T12:40:35.778Z"
   },
   {
    "duration": 10,
    "start_time": "2022-06-01T12:40:35.889Z"
   },
   {
    "duration": 63,
    "start_time": "2022-06-01T12:40:35.901Z"
   },
   {
    "duration": 16,
    "start_time": "2022-06-01T12:40:35.966Z"
   },
   {
    "duration": 7,
    "start_time": "2022-06-01T12:40:35.984Z"
   },
   {
    "duration": 413,
    "start_time": "2022-06-01T12:40:35.993Z"
   },
   {
    "duration": 38,
    "start_time": "2022-06-01T12:40:36.408Z"
   },
   {
    "duration": 45,
    "start_time": "2022-06-01T12:40:36.449Z"
   },
   {
    "duration": 12,
    "start_time": "2022-06-01T12:40:36.496Z"
   },
   {
    "duration": 476,
    "start_time": "2022-06-01T12:40:36.509Z"
   },
   {
    "duration": 6,
    "start_time": "2022-06-01T12:40:36.987Z"
   },
   {
    "duration": 12,
    "start_time": "2022-06-01T12:40:36.994Z"
   },
   {
    "duration": 46,
    "start_time": "2022-06-01T12:40:37.008Z"
   },
   {
    "duration": 8,
    "start_time": "2022-06-01T12:40:37.056Z"
   },
   {
    "duration": 9,
    "start_time": "2022-06-01T12:40:37.066Z"
   },
   {
    "duration": 6,
    "start_time": "2022-06-01T12:40:37.079Z"
   },
   {
    "duration": 145,
    "start_time": "2022-06-01T12:40:37.087Z"
   },
   {
    "duration": 41,
    "start_time": "2022-06-01T12:40:37.233Z"
   },
   {
    "duration": 28,
    "start_time": "2022-06-01T12:40:37.275Z"
   },
   {
    "duration": 4,
    "start_time": "2022-06-01T12:40:37.305Z"
   },
   {
    "duration": 70,
    "start_time": "2022-06-01T12:40:37.328Z"
   },
   {
    "duration": 12,
    "start_time": "2022-06-01T12:40:37.400Z"
   },
   {
    "duration": 172,
    "start_time": "2022-06-01T12:40:37.429Z"
   },
   {
    "duration": 7,
    "start_time": "2022-06-01T12:40:37.602Z"
   },
   {
    "duration": 52,
    "start_time": "2022-06-01T12:40:37.611Z"
   },
   {
    "duration": 10,
    "start_time": "2022-06-01T12:40:37.665Z"
   },
   {
    "duration": 103,
    "start_time": "2022-06-01T12:40:37.677Z"
   },
   {
    "duration": 94,
    "start_time": "2022-06-01T12:40:37.781Z"
   },
   {
    "duration": 10,
    "start_time": "2022-06-01T12:40:37.877Z"
   },
   {
    "duration": 44,
    "start_time": "2022-06-01T12:40:37.888Z"
   },
   {
    "duration": 10,
    "start_time": "2022-06-01T12:40:37.934Z"
   },
   {
    "duration": 42,
    "start_time": "2022-06-01T12:40:37.945Z"
   },
   {
    "duration": 7,
    "start_time": "2022-06-01T12:40:37.989Z"
   },
   {
    "duration": 51,
    "start_time": "2022-06-01T12:40:37.997Z"
   },
   {
    "duration": 8,
    "start_time": "2022-06-01T12:40:38.055Z"
   },
   {
    "duration": 14,
    "start_time": "2022-06-01T12:40:38.065Z"
   },
   {
    "duration": 19,
    "start_time": "2022-06-01T12:40:38.081Z"
   },
   {
    "duration": 67,
    "start_time": "2022-06-01T12:40:38.102Z"
   },
   {
    "duration": 7,
    "start_time": "2022-06-01T12:40:38.171Z"
   },
   {
    "duration": 8,
    "start_time": "2022-06-01T12:40:38.179Z"
   },
   {
    "duration": 15,
    "start_time": "2022-06-01T12:40:38.188Z"
   },
   {
    "duration": 12,
    "start_time": "2022-06-01T12:40:38.205Z"
   },
   {
    "duration": 28,
    "start_time": "2022-06-01T12:40:38.229Z"
   },
   {
    "duration": 54,
    "start_time": "2022-06-01T12:40:38.258Z"
   },
   {
    "duration": 5,
    "start_time": "2022-06-01T12:40:38.313Z"
   },
   {
    "duration": 67,
    "start_time": "2022-06-01T12:40:38.319Z"
   }
  ],
  "kernelspec": {
   "display_name": "base",
   "language": "python",
   "name": "python3"
  },
  "language_info": {
   "codemirror_mode": {
    "name": "ipython",
    "version": 3
   },
   "file_extension": ".py",
   "mimetype": "text/x-python",
   "name": "python",
   "nbconvert_exporter": "python",
   "pygments_lexer": "ipython3",
   "version": "3.11.5"
  },
  "toc": {
   "base_numbering": 1,
   "nav_menu": {},
   "number_sections": true,
   "sideBar": true,
   "skip_h1_title": true,
   "title_cell": "Table of Contents",
   "title_sidebar": "Contents",
   "toc_cell": false,
   "toc_position": {},
   "toc_section_display": true,
   "toc_window_display": false
  }
 },
 "nbformat": 4,
 "nbformat_minor": 5
}
